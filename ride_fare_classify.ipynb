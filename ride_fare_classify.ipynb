{
  "nbformat": 4,
  "nbformat_minor": 0,
  "metadata": {
    "colab": {
      "name": "ride_fare_classify.ipynb",
      "provenance": []
    },
    "kernelspec": {
      "name": "python3",
      "display_name": "Python 3"
    }
  },
  "cells": [
    {
      "cell_type": "code",
      "metadata": {
        "id": "jxZtDtCSD1HX",
        "colab_type": "code",
        "colab": {}
      },
      "source": [
        "import pandas as pd\n",
        "import numpy as np\n",
        "from datetime import datetime\n",
        "from sklearn.preprocessing import StandardScaler,MinMaxScaler\n",
        "import matplotlib.pyplot as plt\n",
        "from sklearn.metrics import confusion_matrix\n"
      ],
      "execution_count": null,
      "outputs": []
    },
    {
      "cell_type": "code",
      "metadata": {
        "id": "cgiBfwizEt23",
        "colab_type": "code",
        "colab": {}
      },
      "source": [
        "X_train = pd.read_csv('/content/drive/My Drive/Ride_Fare/train.csv',index_col='tripid',)"
      ],
      "execution_count": null,
      "outputs": []
    },
    {
      "cell_type": "code",
      "metadata": {
        "id": "1EKnk1-iE4Ev",
        "colab_type": "code",
        "colab": {
          "base_uri": "https://localhost:8080/",
          "height": 602
        },
        "outputId": "18413d4e-731a-4a90-f7fa-0a2048028a27"
      },
      "source": [
        "X_train"
      ],
      "execution_count": null,
      "outputs": [
        {
          "output_type": "execute_result",
          "data": {
            "text/html": [
              "<div>\n",
              "<style scoped>\n",
              "    .dataframe tbody tr th:only-of-type {\n",
              "        vertical-align: middle;\n",
              "    }\n",
              "\n",
              "    .dataframe tbody tr th {\n",
              "        vertical-align: top;\n",
              "    }\n",
              "\n",
              "    .dataframe thead th {\n",
              "        text-align: right;\n",
              "    }\n",
              "</style>\n",
              "<table border=\"1\" class=\"dataframe\">\n",
              "  <thead>\n",
              "    <tr style=\"text-align: right;\">\n",
              "      <th></th>\n",
              "      <th>additional_fare</th>\n",
              "      <th>duration</th>\n",
              "      <th>meter_waiting</th>\n",
              "      <th>meter_waiting_fare</th>\n",
              "      <th>meter_waiting_till_pickup</th>\n",
              "      <th>pickup_time</th>\n",
              "      <th>drop_time</th>\n",
              "      <th>pick_lat</th>\n",
              "      <th>pick_lon</th>\n",
              "      <th>drop_lat</th>\n",
              "      <th>drop_lon</th>\n",
              "      <th>fare</th>\n",
              "      <th>label</th>\n",
              "    </tr>\n",
              "    <tr>\n",
              "      <th>tripid</th>\n",
              "      <th></th>\n",
              "      <th></th>\n",
              "      <th></th>\n",
              "      <th></th>\n",
              "      <th></th>\n",
              "      <th></th>\n",
              "      <th></th>\n",
              "      <th></th>\n",
              "      <th></th>\n",
              "      <th></th>\n",
              "      <th></th>\n",
              "      <th></th>\n",
              "      <th></th>\n",
              "    </tr>\n",
              "  </thead>\n",
              "  <tbody>\n",
              "    <tr>\n",
              "      <th>189123628</th>\n",
              "      <td>10.5</td>\n",
              "      <td>834.0</td>\n",
              "      <td>56.0</td>\n",
              "      <td>0.0000</td>\n",
              "      <td>64.0</td>\n",
              "      <td>11/1/2019 0:20</td>\n",
              "      <td>11/1/2019 0:34</td>\n",
              "      <td>6.86252</td>\n",
              "      <td>79.8993</td>\n",
              "      <td>6.90330</td>\n",
              "      <td>79.8783</td>\n",
              "      <td>270.32</td>\n",
              "      <td>correct</td>\n",
              "    </tr>\n",
              "    <tr>\n",
              "      <th>189125358</th>\n",
              "      <td>10.5</td>\n",
              "      <td>791.0</td>\n",
              "      <td>47.0</td>\n",
              "      <td>0.0000</td>\n",
              "      <td>134.0</td>\n",
              "      <td>11/1/2019 0:56</td>\n",
              "      <td>11/1/2019 1:09</td>\n",
              "      <td>6.88589</td>\n",
              "      <td>79.8984</td>\n",
              "      <td>6.91373</td>\n",
              "      <td>79.8923</td>\n",
              "      <td>197.85</td>\n",
              "      <td>correct</td>\n",
              "    </tr>\n",
              "    <tr>\n",
              "      <th>189125719</th>\n",
              "      <td>10.5</td>\n",
              "      <td>1087.0</td>\n",
              "      <td>80.0</td>\n",
              "      <td>0.0000</td>\n",
              "      <td>61.0</td>\n",
              "      <td>11/1/2019 1:08</td>\n",
              "      <td>11/1/2019 1:26</td>\n",
              "      <td>6.90839</td>\n",
              "      <td>79.8651</td>\n",
              "      <td>6.93669</td>\n",
              "      <td>79.9146</td>\n",
              "      <td>301.64</td>\n",
              "      <td>correct</td>\n",
              "    </tr>\n",
              "    <tr>\n",
              "      <th>189127273</th>\n",
              "      <td>10.5</td>\n",
              "      <td>598.0</td>\n",
              "      <td>271.0</td>\n",
              "      <td>15.6638</td>\n",
              "      <td>68.0</td>\n",
              "      <td>11/1/2019 2:27</td>\n",
              "      <td>11/1/2019 2:37</td>\n",
              "      <td>6.92570</td>\n",
              "      <td>79.8895</td>\n",
              "      <td>6.92748</td>\n",
              "      <td>79.8971</td>\n",
              "      <td>82.30</td>\n",
              "      <td>correct</td>\n",
              "    </tr>\n",
              "    <tr>\n",
              "      <th>189128020</th>\n",
              "      <td>NaN</td>\n",
              "      <td>NaN</td>\n",
              "      <td>NaN</td>\n",
              "      <td>NaN</td>\n",
              "      <td>NaN</td>\n",
              "      <td>11/1/2019 3:34</td>\n",
              "      <td>11/1/2019 3:51</td>\n",
              "      <td>6.87441</td>\n",
              "      <td>79.8615</td>\n",
              "      <td>6.84478</td>\n",
              "      <td>79.9290</td>\n",
              "      <td>358.39</td>\n",
              "      <td>correct</td>\n",
              "    </tr>\n",
              "    <tr>\n",
              "      <th>...</th>\n",
              "      <td>...</td>\n",
              "      <td>...</td>\n",
              "      <td>...</td>\n",
              "      <td>...</td>\n",
              "      <td>...</td>\n",
              "      <td>...</td>\n",
              "      <td>...</td>\n",
              "      <td>...</td>\n",
              "      <td>...</td>\n",
              "      <td>...</td>\n",
              "      <td>...</td>\n",
              "      <td>...</td>\n",
              "      <td>...</td>\n",
              "    </tr>\n",
              "    <tr>\n",
              "      <th>213803193</th>\n",
              "      <td>10.5</td>\n",
              "      <td>838.0</td>\n",
              "      <td>93.0</td>\n",
              "      <td>5.4219</td>\n",
              "      <td>451.0</td>\n",
              "      <td>1/31/2020 22:07</td>\n",
              "      <td>1/31/2020 22:21</td>\n",
              "      <td>7.29073</td>\n",
              "      <td>80.6367</td>\n",
              "      <td>7.28891</td>\n",
              "      <td>80.6557</td>\n",
              "      <td>198.26</td>\n",
              "      <td>correct</td>\n",
              "    </tr>\n",
              "    <tr>\n",
              "      <th>213812756</th>\n",
              "      <td>10.5</td>\n",
              "      <td>2151.0</td>\n",
              "      <td>428.0</td>\n",
              "      <td>0.0000</td>\n",
              "      <td>39.0</td>\n",
              "      <td>1/31/2020 23:07</td>\n",
              "      <td>1/31/2020 23:43</td>\n",
              "      <td>6.90569</td>\n",
              "      <td>79.8516</td>\n",
              "      <td>6.95089</td>\n",
              "      <td>79.9389</td>\n",
              "      <td>581.23</td>\n",
              "      <td>correct</td>\n",
              "    </tr>\n",
              "    <tr>\n",
              "      <th>213813930</th>\n",
              "      <td>10.5</td>\n",
              "      <td>263.0</td>\n",
              "      <td>9.0</td>\n",
              "      <td>0.0000</td>\n",
              "      <td>110.0</td>\n",
              "      <td>1/31/2020 23:21</td>\n",
              "      <td>1/31/2020 23:25</td>\n",
              "      <td>7.09210</td>\n",
              "      <td>79.9000</td>\n",
              "      <td>7.10135</td>\n",
              "      <td>79.9017</td>\n",
              "      <td>76.20</td>\n",
              "      <td>correct</td>\n",
              "    </tr>\n",
              "    <tr>\n",
              "      <th>213815405</th>\n",
              "      <td>10.5</td>\n",
              "      <td>858.0</td>\n",
              "      <td>115.0</td>\n",
              "      <td>0.0000</td>\n",
              "      <td>317.0</td>\n",
              "      <td>1/31/2020 23:39</td>\n",
              "      <td>1/31/2020 23:53</td>\n",
              "      <td>6.94540</td>\n",
              "      <td>79.8768</td>\n",
              "      <td>6.93574</td>\n",
              "      <td>79.9010</td>\n",
              "      <td>133.31</td>\n",
              "      <td>correct</td>\n",
              "    </tr>\n",
              "    <tr>\n",
              "      <th>213817296</th>\n",
              "      <td>10.5</td>\n",
              "      <td>262.0</td>\n",
              "      <td>21.0</td>\n",
              "      <td>1.2243</td>\n",
              "      <td>23.0</td>\n",
              "      <td>1/31/2020 23:49</td>\n",
              "      <td>1/31/2020 23:53</td>\n",
              "      <td>6.90257</td>\n",
              "      <td>79.9557</td>\n",
              "      <td>6.90823</td>\n",
              "      <td>79.9374</td>\n",
              "      <td>98.57</td>\n",
              "      <td>correct</td>\n",
              "    </tr>\n",
              "  </tbody>\n",
              "</table>\n",
              "<p>17176 rows × 13 columns</p>\n",
              "</div>"
            ],
            "text/plain": [
              "           additional_fare  duration  meter_waiting  ...  drop_lon    fare    label\n",
              "tripid                                               ...                           \n",
              "189123628             10.5     834.0           56.0  ...   79.8783  270.32  correct\n",
              "189125358             10.5     791.0           47.0  ...   79.8923  197.85  correct\n",
              "189125719             10.5    1087.0           80.0  ...   79.9146  301.64  correct\n",
              "189127273             10.5     598.0          271.0  ...   79.8971   82.30  correct\n",
              "189128020              NaN       NaN            NaN  ...   79.9290  358.39  correct\n",
              "...                    ...       ...            ...  ...       ...     ...      ...\n",
              "213803193             10.5     838.0           93.0  ...   80.6557  198.26  correct\n",
              "213812756             10.5    2151.0          428.0  ...   79.9389  581.23  correct\n",
              "213813930             10.5     263.0            9.0  ...   79.9017   76.20  correct\n",
              "213815405             10.5     858.0          115.0  ...   79.9010  133.31  correct\n",
              "213817296             10.5     262.0           21.0  ...   79.9374   98.57  correct\n",
              "\n",
              "[17176 rows x 13 columns]"
            ]
          },
          "metadata": {
            "tags": []
          },
          "execution_count": 404
        }
      ]
    },
    {
      "cell_type": "code",
      "metadata": {
        "id": "g4DZLdnsJHhl",
        "colab_type": "code",
        "colab": {}
      },
      "source": [
        "num_rows=X_train.shape[0]\n",
        "duration_list = []\n",
        "for i in range(num_rows):\n",
        "  duration = (datetime.strptime(X_train.iloc[i]['drop_time'],'%m/%d/%Y %H:%M')- datetime.strptime(X_train.iloc[i]['pickup_time'],'%m/%d/%Y %H:%M')).seconds\n",
        "  duration_list.append(duration)\n",
        "\n",
        "X_train['duration'] = duration_list\n"
      ],
      "execution_count": null,
      "outputs": []
    },
    {
      "cell_type": "code",
      "metadata": {
        "id": "WZL8B4WXKKbw",
        "colab_type": "code",
        "colab": {}
      },
      "source": [
        "X_train = X_train.drop('drop_time',axis = 1)\n",
        "X_train = X_train.drop('pickup_time',axis = 1)"
      ],
      "execution_count": null,
      "outputs": []
    },
    {
      "cell_type": "code",
      "metadata": {
        "id": "z9g_KPHHBZzp",
        "colab_type": "code",
        "colab": {}
      },
      "source": [
        "'''\n",
        "X_train = X_train.drop('pick_lat',axis = 1)\n",
        "X_train = X_train.drop('pick_lon',axis = 1)\n",
        "X_train = X_train.drop('drop_lat',axis = 1)\n",
        "X_train = X_train.drop('drop_lon',axis = 1)\n",
        "X_train = X_train.drop('meter_waiting_fare',axis = 1)\n",
        "\n",
        "\n",
        "'''\n"
      ],
      "execution_count": null,
      "outputs": []
    },
    {
      "cell_type": "code",
      "metadata": {
        "id": "SXyrLfFOKmIF",
        "colab_type": "code",
        "colab": {
          "base_uri": "https://localhost:8080/",
          "height": 220
        },
        "outputId": "c9bebb18-8353-47d8-ba86-3aaa37b7efaa"
      },
      "source": [
        "X_train.head()"
      ],
      "execution_count": null,
      "outputs": [
        {
          "output_type": "execute_result",
          "data": {
            "text/html": [
              "<div>\n",
              "<style scoped>\n",
              "    .dataframe tbody tr th:only-of-type {\n",
              "        vertical-align: middle;\n",
              "    }\n",
              "\n",
              "    .dataframe tbody tr th {\n",
              "        vertical-align: top;\n",
              "    }\n",
              "\n",
              "    .dataframe thead th {\n",
              "        text-align: right;\n",
              "    }\n",
              "</style>\n",
              "<table border=\"1\" class=\"dataframe\">\n",
              "  <thead>\n",
              "    <tr style=\"text-align: right;\">\n",
              "      <th></th>\n",
              "      <th>additional_fare</th>\n",
              "      <th>duration</th>\n",
              "      <th>meter_waiting</th>\n",
              "      <th>meter_waiting_fare</th>\n",
              "      <th>meter_waiting_till_pickup</th>\n",
              "      <th>fare</th>\n",
              "      <th>label</th>\n",
              "    </tr>\n",
              "    <tr>\n",
              "      <th>tripid</th>\n",
              "      <th></th>\n",
              "      <th></th>\n",
              "      <th></th>\n",
              "      <th></th>\n",
              "      <th></th>\n",
              "      <th></th>\n",
              "      <th></th>\n",
              "    </tr>\n",
              "  </thead>\n",
              "  <tbody>\n",
              "    <tr>\n",
              "      <th>189123628</th>\n",
              "      <td>10.5</td>\n",
              "      <td>840</td>\n",
              "      <td>56.0</td>\n",
              "      <td>0.0000</td>\n",
              "      <td>64.0</td>\n",
              "      <td>270.32</td>\n",
              "      <td>correct</td>\n",
              "    </tr>\n",
              "    <tr>\n",
              "      <th>189125358</th>\n",
              "      <td>10.5</td>\n",
              "      <td>780</td>\n",
              "      <td>47.0</td>\n",
              "      <td>0.0000</td>\n",
              "      <td>134.0</td>\n",
              "      <td>197.85</td>\n",
              "      <td>correct</td>\n",
              "    </tr>\n",
              "    <tr>\n",
              "      <th>189125719</th>\n",
              "      <td>10.5</td>\n",
              "      <td>1080</td>\n",
              "      <td>80.0</td>\n",
              "      <td>0.0000</td>\n",
              "      <td>61.0</td>\n",
              "      <td>301.64</td>\n",
              "      <td>correct</td>\n",
              "    </tr>\n",
              "    <tr>\n",
              "      <th>189127273</th>\n",
              "      <td>10.5</td>\n",
              "      <td>600</td>\n",
              "      <td>271.0</td>\n",
              "      <td>15.6638</td>\n",
              "      <td>68.0</td>\n",
              "      <td>82.30</td>\n",
              "      <td>correct</td>\n",
              "    </tr>\n",
              "    <tr>\n",
              "      <th>189128020</th>\n",
              "      <td>NaN</td>\n",
              "      <td>1020</td>\n",
              "      <td>NaN</td>\n",
              "      <td>NaN</td>\n",
              "      <td>NaN</td>\n",
              "      <td>358.39</td>\n",
              "      <td>correct</td>\n",
              "    </tr>\n",
              "  </tbody>\n",
              "</table>\n",
              "</div>"
            ],
            "text/plain": [
              "           additional_fare  duration  ...    fare    label\n",
              "tripid                                ...                 \n",
              "189123628             10.5       840  ...  270.32  correct\n",
              "189125358             10.5       780  ...  197.85  correct\n",
              "189125719             10.5      1080  ...  301.64  correct\n",
              "189127273             10.5       600  ...   82.30  correct\n",
              "189128020              NaN      1020  ...  358.39  correct\n",
              "\n",
              "[5 rows x 7 columns]"
            ]
          },
          "metadata": {
            "tags": []
          },
          "execution_count": 408
        }
      ]
    },
    {
      "cell_type": "code",
      "metadata": {
        "id": "x7vFq32RLEUW",
        "colab_type": "code",
        "colab": {
          "base_uri": "https://localhost:8080/",
          "height": 33
        },
        "outputId": "91fab161-3a38-491c-e3f9-0ca18c11bab9"
      },
      "source": [
        "X_train['label'].unique()"
      ],
      "execution_count": null,
      "outputs": [
        {
          "output_type": "execute_result",
          "data": {
            "text/plain": [
              "array(['correct', 'incorrect'], dtype=object)"
            ]
          },
          "metadata": {
            "tags": []
          },
          "execution_count": 370
        }
      ]
    },
    {
      "cell_type": "code",
      "metadata": {
        "id": "hXpQy0lpK1Yp",
        "colab_type": "code",
        "colab": {}
      },
      "source": [
        "X_train['label'] = X_train['label'].replace({'correct':1 , 'incorrect':0})"
      ],
      "execution_count": null,
      "outputs": []
    },
    {
      "cell_type": "code",
      "metadata": {
        "id": "dLB9S0Df3CYJ",
        "colab_type": "code",
        "colab": {}
      },
      "source": [
        "#X_train = X_train.fillna(X_train.mean())"
      ],
      "execution_count": null,
      "outputs": []
    },
    {
      "cell_type": "code",
      "metadata": {
        "id": "hLzw38DV3j9f",
        "colab_type": "code",
        "colab": {
          "base_uri": "https://localhost:8080/",
          "height": 420
        },
        "outputId": "0cc61fb4-9ef7-4358-ff16-f37baa712f9a"
      },
      "source": [
        "X_train"
      ],
      "execution_count": null,
      "outputs": [
        {
          "output_type": "execute_result",
          "data": {
            "text/html": [
              "<div>\n",
              "<style scoped>\n",
              "    .dataframe tbody tr th:only-of-type {\n",
              "        vertical-align: middle;\n",
              "    }\n",
              "\n",
              "    .dataframe tbody tr th {\n",
              "        vertical-align: top;\n",
              "    }\n",
              "\n",
              "    .dataframe thead th {\n",
              "        text-align: right;\n",
              "    }\n",
              "</style>\n",
              "<table border=\"1\" class=\"dataframe\">\n",
              "  <thead>\n",
              "    <tr style=\"text-align: right;\">\n",
              "      <th></th>\n",
              "      <th>additional_fare</th>\n",
              "      <th>duration</th>\n",
              "      <th>meter_waiting</th>\n",
              "      <th>meter_waiting_fare</th>\n",
              "      <th>meter_waiting_till_pickup</th>\n",
              "      <th>fare</th>\n",
              "      <th>label</th>\n",
              "    </tr>\n",
              "    <tr>\n",
              "      <th>tripid</th>\n",
              "      <th></th>\n",
              "      <th></th>\n",
              "      <th></th>\n",
              "      <th></th>\n",
              "      <th></th>\n",
              "      <th></th>\n",
              "      <th></th>\n",
              "    </tr>\n",
              "  </thead>\n",
              "  <tbody>\n",
              "    <tr>\n",
              "      <th>189123628</th>\n",
              "      <td>10.500000</td>\n",
              "      <td>840</td>\n",
              "      <td>56.000000</td>\n",
              "      <td>0.000000</td>\n",
              "      <td>64.000000</td>\n",
              "      <td>270.32</td>\n",
              "      <td>1</td>\n",
              "    </tr>\n",
              "    <tr>\n",
              "      <th>189125358</th>\n",
              "      <td>10.500000</td>\n",
              "      <td>780</td>\n",
              "      <td>47.000000</td>\n",
              "      <td>0.000000</td>\n",
              "      <td>134.000000</td>\n",
              "      <td>197.85</td>\n",
              "      <td>1</td>\n",
              "    </tr>\n",
              "    <tr>\n",
              "      <th>189125719</th>\n",
              "      <td>10.500000</td>\n",
              "      <td>1080</td>\n",
              "      <td>80.000000</td>\n",
              "      <td>0.000000</td>\n",
              "      <td>61.000000</td>\n",
              "      <td>301.64</td>\n",
              "      <td>1</td>\n",
              "    </tr>\n",
              "    <tr>\n",
              "      <th>189127273</th>\n",
              "      <td>10.500000</td>\n",
              "      <td>600</td>\n",
              "      <td>271.000000</td>\n",
              "      <td>15.663800</td>\n",
              "      <td>68.000000</td>\n",
              "      <td>82.30</td>\n",
              "      <td>1</td>\n",
              "    </tr>\n",
              "    <tr>\n",
              "      <th>189128020</th>\n",
              "      <td>13.719651</td>\n",
              "      <td>1020</td>\n",
              "      <td>629.074231</td>\n",
              "      <td>32.057666</td>\n",
              "      <td>112.466832</td>\n",
              "      <td>358.39</td>\n",
              "      <td>1</td>\n",
              "    </tr>\n",
              "    <tr>\n",
              "      <th>...</th>\n",
              "      <td>...</td>\n",
              "      <td>...</td>\n",
              "      <td>...</td>\n",
              "      <td>...</td>\n",
              "      <td>...</td>\n",
              "      <td>...</td>\n",
              "      <td>...</td>\n",
              "    </tr>\n",
              "    <tr>\n",
              "      <th>213803193</th>\n",
              "      <td>10.500000</td>\n",
              "      <td>840</td>\n",
              "      <td>93.000000</td>\n",
              "      <td>5.421900</td>\n",
              "      <td>451.000000</td>\n",
              "      <td>198.26</td>\n",
              "      <td>1</td>\n",
              "    </tr>\n",
              "    <tr>\n",
              "      <th>213812756</th>\n",
              "      <td>10.500000</td>\n",
              "      <td>2160</td>\n",
              "      <td>428.000000</td>\n",
              "      <td>0.000000</td>\n",
              "      <td>39.000000</td>\n",
              "      <td>581.23</td>\n",
              "      <td>1</td>\n",
              "    </tr>\n",
              "    <tr>\n",
              "      <th>213813930</th>\n",
              "      <td>10.500000</td>\n",
              "      <td>240</td>\n",
              "      <td>9.000000</td>\n",
              "      <td>0.000000</td>\n",
              "      <td>110.000000</td>\n",
              "      <td>76.20</td>\n",
              "      <td>1</td>\n",
              "    </tr>\n",
              "    <tr>\n",
              "      <th>213815405</th>\n",
              "      <td>10.500000</td>\n",
              "      <td>840</td>\n",
              "      <td>115.000000</td>\n",
              "      <td>0.000000</td>\n",
              "      <td>317.000000</td>\n",
              "      <td>133.31</td>\n",
              "      <td>1</td>\n",
              "    </tr>\n",
              "    <tr>\n",
              "      <th>213817296</th>\n",
              "      <td>10.500000</td>\n",
              "      <td>240</td>\n",
              "      <td>21.000000</td>\n",
              "      <td>1.224300</td>\n",
              "      <td>23.000000</td>\n",
              "      <td>98.57</td>\n",
              "      <td>1</td>\n",
              "    </tr>\n",
              "  </tbody>\n",
              "</table>\n",
              "<p>17176 rows × 7 columns</p>\n",
              "</div>"
            ],
            "text/plain": [
              "           additional_fare  duration  ...    fare  label\n",
              "tripid                                ...               \n",
              "189123628        10.500000       840  ...  270.32      1\n",
              "189125358        10.500000       780  ...  197.85      1\n",
              "189125719        10.500000      1080  ...  301.64      1\n",
              "189127273        10.500000       600  ...   82.30      1\n",
              "189128020        13.719651      1020  ...  358.39      1\n",
              "...                    ...       ...  ...     ...    ...\n",
              "213803193        10.500000       840  ...  198.26      1\n",
              "213812756        10.500000      2160  ...  581.23      1\n",
              "213813930        10.500000       240  ...   76.20      1\n",
              "213815405        10.500000       840  ...  133.31      1\n",
              "213817296        10.500000       240  ...   98.57      1\n",
              "\n",
              "[17176 rows x 7 columns]"
            ]
          },
          "metadata": {
            "tags": []
          },
          "execution_count": 411
        }
      ]
    },
    {
      "cell_type": "code",
      "metadata": {
        "id": "MQ-YCU0D3GTv",
        "colab_type": "code",
        "colab": {
          "base_uri": "https://localhost:8080/",
          "height": 898
        },
        "outputId": "09ff9908-3890-4664-c609-0f77bf8171df"
      },
      "source": [
        "# scatter plot matrix\n",
        "scatter_matrix(X_train,figsize=(15, 15))\n",
        "pyplot.show()"
      ],
      "execution_count": null,
      "outputs": [
        {
          "output_type": "display_data",
          "data": {
            "image/png": "[encoded data removed]",
            "text/plain": [
              "<Figure size 1080x1080 with 121 Axes>"
            ]
          },
          "metadata": {
            "tags": [],
            "needs_background": "light"
          }
        }
      ]
    },
    {
      "cell_type": "code",
      "metadata": {
        "id": "_7nbIF4p7L1M",
        "colab_type": "code",
        "colab": {
          "base_uri": "https://localhost:8080/",
          "height": 383
        },
        "outputId": "ea83a7c2-f32f-4dce-f40d-063503049dbc"
      },
      "source": [
        "corrMatrix = X_train.corr()\n",
        "corrMatrix"
      ],
      "execution_count": null,
      "outputs": [
        {
          "output_type": "execute_result",
          "data": {
            "text/html": [
              "<div>\n",
              "<style scoped>\n",
              "    .dataframe tbody tr th:only-of-type {\n",
              "        vertical-align: middle;\n",
              "    }\n",
              "\n",
              "    .dataframe tbody tr th {\n",
              "        vertical-align: top;\n",
              "    }\n",
              "\n",
              "    .dataframe thead th {\n",
              "        text-align: right;\n",
              "    }\n",
              "</style>\n",
              "<table border=\"1\" class=\"dataframe\">\n",
              "  <thead>\n",
              "    <tr style=\"text-align: right;\">\n",
              "      <th></th>\n",
              "      <th>additional_fare</th>\n",
              "      <th>duration</th>\n",
              "      <th>meter_waiting</th>\n",
              "      <th>meter_waiting_fare</th>\n",
              "      <th>meter_waiting_till_pickup</th>\n",
              "      <th>pick_lat</th>\n",
              "      <th>pick_lon</th>\n",
              "      <th>drop_lat</th>\n",
              "      <th>drop_lon</th>\n",
              "      <th>fare</th>\n",
              "      <th>label</th>\n",
              "    </tr>\n",
              "  </thead>\n",
              "  <tbody>\n",
              "    <tr>\n",
              "      <th>additional_fare</th>\n",
              "      <td>1.000000</td>\n",
              "      <td>-0.000649</td>\n",
              "      <td>0.197605</td>\n",
              "      <td>0.199604</td>\n",
              "      <td>0.002355</td>\n",
              "      <td>0.009124</td>\n",
              "      <td>0.000621</td>\n",
              "      <td>0.004644</td>\n",
              "      <td>0.001539</td>\n",
              "      <td>0.315285</td>\n",
              "      <td>-0.040910</td>\n",
              "    </tr>\n",
              "    <tr>\n",
              "      <th>duration</th>\n",
              "      <td>-0.000649</td>\n",
              "      <td>1.000000</td>\n",
              "      <td>0.468704</td>\n",
              "      <td>0.467759</td>\n",
              "      <td>0.062765</td>\n",
              "      <td>-0.045228</td>\n",
              "      <td>-0.052146</td>\n",
              "      <td>-0.022170</td>\n",
              "      <td>-0.026661</td>\n",
              "      <td>0.582714</td>\n",
              "      <td>-0.165912</td>\n",
              "    </tr>\n",
              "    <tr>\n",
              "      <th>meter_waiting</th>\n",
              "      <td>0.197605</td>\n",
              "      <td>0.468704</td>\n",
              "      <td>1.000000</td>\n",
              "      <td>0.999474</td>\n",
              "      <td>0.030447</td>\n",
              "      <td>-0.016171</td>\n",
              "      <td>-0.014211</td>\n",
              "      <td>-0.010117</td>\n",
              "      <td>-0.007905</td>\n",
              "      <td>0.870126</td>\n",
              "      <td>-0.107266</td>\n",
              "    </tr>\n",
              "    <tr>\n",
              "      <th>meter_waiting_fare</th>\n",
              "      <td>0.199604</td>\n",
              "      <td>0.467759</td>\n",
              "      <td>0.999474</td>\n",
              "      <td>1.000000</td>\n",
              "      <td>0.029908</td>\n",
              "      <td>-0.015014</td>\n",
              "      <td>-0.012483</td>\n",
              "      <td>-0.009430</td>\n",
              "      <td>-0.006805</td>\n",
              "      <td>0.865073</td>\n",
              "      <td>-0.103319</td>\n",
              "    </tr>\n",
              "    <tr>\n",
              "      <th>meter_waiting_till_pickup</th>\n",
              "      <td>0.002355</td>\n",
              "      <td>0.062765</td>\n",
              "      <td>0.030447</td>\n",
              "      <td>0.029908</td>\n",
              "      <td>1.000000</td>\n",
              "      <td>0.011393</td>\n",
              "      <td>0.016509</td>\n",
              "      <td>0.006949</td>\n",
              "      <td>0.011065</td>\n",
              "      <td>0.045468</td>\n",
              "      <td>-0.035320</td>\n",
              "    </tr>\n",
              "    <tr>\n",
              "      <th>pick_lat</th>\n",
              "      <td>0.009124</td>\n",
              "      <td>-0.045228</td>\n",
              "      <td>-0.016171</td>\n",
              "      <td>-0.015014</td>\n",
              "      <td>0.011393</td>\n",
              "      <td>1.000000</td>\n",
              "      <td>0.522473</td>\n",
              "      <td>0.560466</td>\n",
              "      <td>0.340161</td>\n",
              "      <td>-0.024556</td>\n",
              "      <td>-0.029237</td>\n",
              "    </tr>\n",
              "    <tr>\n",
              "      <th>pick_lon</th>\n",
              "      <td>0.000621</td>\n",
              "      <td>-0.052146</td>\n",
              "      <td>-0.014211</td>\n",
              "      <td>-0.012483</td>\n",
              "      <td>0.016509</td>\n",
              "      <td>0.522473</td>\n",
              "      <td>1.000000</td>\n",
              "      <td>0.307313</td>\n",
              "      <td>0.654917</td>\n",
              "      <td>-0.035237</td>\n",
              "      <td>-0.037713</td>\n",
              "    </tr>\n",
              "    <tr>\n",
              "      <th>drop_lat</th>\n",
              "      <td>0.004644</td>\n",
              "      <td>-0.022170</td>\n",
              "      <td>-0.010117</td>\n",
              "      <td>-0.009430</td>\n",
              "      <td>0.006949</td>\n",
              "      <td>0.560466</td>\n",
              "      <td>0.307313</td>\n",
              "      <td>1.000000</td>\n",
              "      <td>-0.414566</td>\n",
              "      <td>-0.015530</td>\n",
              "      <td>-0.012781</td>\n",
              "    </tr>\n",
              "    <tr>\n",
              "      <th>drop_lon</th>\n",
              "      <td>0.001539</td>\n",
              "      <td>-0.026661</td>\n",
              "      <td>-0.007905</td>\n",
              "      <td>-0.006805</td>\n",
              "      <td>0.011065</td>\n",
              "      <td>0.340161</td>\n",
              "      <td>0.654917</td>\n",
              "      <td>-0.414566</td>\n",
              "      <td>1.000000</td>\n",
              "      <td>-0.014912</td>\n",
              "      <td>-0.030347</td>\n",
              "    </tr>\n",
              "    <tr>\n",
              "      <th>fare</th>\n",
              "      <td>0.315285</td>\n",
              "      <td>0.582714</td>\n",
              "      <td>0.870126</td>\n",
              "      <td>0.865073</td>\n",
              "      <td>0.045468</td>\n",
              "      <td>-0.024556</td>\n",
              "      <td>-0.035237</td>\n",
              "      <td>-0.015530</td>\n",
              "      <td>-0.014912</td>\n",
              "      <td>1.000000</td>\n",
              "      <td>-0.183336</td>\n",
              "    </tr>\n",
              "    <tr>\n",
              "      <th>label</th>\n",
              "      <td>-0.040910</td>\n",
              "      <td>-0.165912</td>\n",
              "      <td>-0.107266</td>\n",
              "      <td>-0.103319</td>\n",
              "      <td>-0.035320</td>\n",
              "      <td>-0.029237</td>\n",
              "      <td>-0.037713</td>\n",
              "      <td>-0.012781</td>\n",
              "      <td>-0.030347</td>\n",
              "      <td>-0.183336</td>\n",
              "      <td>1.000000</td>\n",
              "    </tr>\n",
              "  </tbody>\n",
              "</table>\n",
              "</div>"
            ],
            "text/plain": [
              "                           additional_fare  duration  ...      fare     label\n",
              "additional_fare                   1.000000 -0.000649  ...  0.315285 -0.040910\n",
              "duration                         -0.000649  1.000000  ...  0.582714 -0.165912\n",
              "meter_waiting                     0.197605  0.468704  ...  0.870126 -0.107266\n",
              "meter_waiting_fare                0.199604  0.467759  ...  0.865073 -0.103319\n",
              "meter_waiting_till_pickup         0.002355  0.062765  ...  0.045468 -0.035320\n",
              "pick_lat                          0.009124 -0.045228  ... -0.024556 -0.029237\n",
              "pick_lon                          0.000621 -0.052146  ... -0.035237 -0.037713\n",
              "drop_lat                          0.004644 -0.022170  ... -0.015530 -0.012781\n",
              "drop_lon                          0.001539 -0.026661  ... -0.014912 -0.030347\n",
              "fare                              0.315285  0.582714  ...  1.000000 -0.183336\n",
              "label                            -0.040910 -0.165912  ... -0.183336  1.000000\n",
              "\n",
              "[11 rows x 11 columns]"
            ]
          },
          "metadata": {
            "tags": []
          },
          "execution_count": 434
        }
      ]
    },
    {
      "cell_type": "code",
      "metadata": {
        "id": "Qj72FqgR3GXo",
        "colab_type": "code",
        "colab": {
          "base_uri": "https://localhost:8080/",
          "height": 245
        },
        "outputId": "3342a7a6-11d2-4d56-a67b-cde5a5e68b0a"
      },
      "source": [
        "X_train.info()"
      ],
      "execution_count": null,
      "outputs": [
        {
          "output_type": "stream",
          "text": [
            "<class 'pandas.core.frame.DataFrame'>\n",
            "Int64Index: 17176 entries, 189123628 to 213817296\n",
            "Data columns (total 7 columns):\n",
            " #   Column                     Non-Null Count  Dtype  \n",
            "---  ------                     --------------  -----  \n",
            " 0   additional_fare            16974 non-null  float64\n",
            " 1   duration                   17176 non-null  int64  \n",
            " 2   meter_waiting              16974 non-null  float64\n",
            " 3   meter_waiting_fare         16974 non-null  float64\n",
            " 4   meter_waiting_till_pickup  16974 non-null  float64\n",
            " 5   fare                       17039 non-null  float64\n",
            " 6   label                      17176 non-null  int64  \n",
            "dtypes: float64(5), int64(2)\n",
            "memory usage: 1.0 MB\n"
          ],
          "name": "stdout"
        }
      ]
    },
    {
      "cell_type": "code",
      "metadata": {
        "id": "-vwcqluy3Gf7",
        "colab_type": "code",
        "colab": {}
      },
      "source": [
        ""
      ],
      "execution_count": null,
      "outputs": []
    },
    {
      "cell_type": "code",
      "metadata": {
        "id": "M1D-NqgV3Gsf",
        "colab_type": "code",
        "colab": {}
      },
      "source": [
        "X_train = X_train.drop('pick_lat',axis = 1)\n",
        "X_train = X_train.drop('pick_lon',axis = 1)\n",
        "X_train = X_train.drop('drop_lat',axis = 1)\n",
        "X_train = X_train.drop('drop_lon',axis = 1)\n",
        "X_train = X_train.drop('meter_waiting_fare',axis = 1)\n"
      ],
      "execution_count": null,
      "outputs": []
    },
    {
      "cell_type": "code",
      "metadata": {
        "id": "h5xpbfwo3GqK",
        "colab_type": "code",
        "colab": {
          "base_uri": "https://localhost:8080/",
          "height": 420
        },
        "outputId": "ff9e4d18-cf7e-4478-d501-81c6789746d1"
      },
      "source": [
        "X_train"
      ],
      "execution_count": null,
      "outputs": [
        {
          "output_type": "execute_result",
          "data": {
            "text/html": [
              "<div>\n",
              "<style scoped>\n",
              "    .dataframe tbody tr th:only-of-type {\n",
              "        vertical-align: middle;\n",
              "    }\n",
              "\n",
              "    .dataframe tbody tr th {\n",
              "        vertical-align: top;\n",
              "    }\n",
              "\n",
              "    .dataframe thead th {\n",
              "        text-align: right;\n",
              "    }\n",
              "</style>\n",
              "<table border=\"1\" class=\"dataframe\">\n",
              "  <thead>\n",
              "    <tr style=\"text-align: right;\">\n",
              "      <th></th>\n",
              "      <th>additional_fare</th>\n",
              "      <th>duration</th>\n",
              "      <th>meter_waiting</th>\n",
              "      <th>meter_waiting_till_pickup</th>\n",
              "      <th>fare</th>\n",
              "      <th>label</th>\n",
              "    </tr>\n",
              "    <tr>\n",
              "      <th>tripid</th>\n",
              "      <th></th>\n",
              "      <th></th>\n",
              "      <th></th>\n",
              "      <th></th>\n",
              "      <th></th>\n",
              "      <th></th>\n",
              "    </tr>\n",
              "  </thead>\n",
              "  <tbody>\n",
              "    <tr>\n",
              "      <th>189123628</th>\n",
              "      <td>10.5</td>\n",
              "      <td>840</td>\n",
              "      <td>56.0</td>\n",
              "      <td>64.0</td>\n",
              "      <td>270.32</td>\n",
              "      <td>1</td>\n",
              "    </tr>\n",
              "    <tr>\n",
              "      <th>189125358</th>\n",
              "      <td>10.5</td>\n",
              "      <td>780</td>\n",
              "      <td>47.0</td>\n",
              "      <td>134.0</td>\n",
              "      <td>197.85</td>\n",
              "      <td>1</td>\n",
              "    </tr>\n",
              "    <tr>\n",
              "      <th>189125719</th>\n",
              "      <td>10.5</td>\n",
              "      <td>1080</td>\n",
              "      <td>80.0</td>\n",
              "      <td>61.0</td>\n",
              "      <td>301.64</td>\n",
              "      <td>1</td>\n",
              "    </tr>\n",
              "    <tr>\n",
              "      <th>189127273</th>\n",
              "      <td>10.5</td>\n",
              "      <td>600</td>\n",
              "      <td>271.0</td>\n",
              "      <td>68.0</td>\n",
              "      <td>82.30</td>\n",
              "      <td>1</td>\n",
              "    </tr>\n",
              "    <tr>\n",
              "      <th>189128020</th>\n",
              "      <td>NaN</td>\n",
              "      <td>1020</td>\n",
              "      <td>NaN</td>\n",
              "      <td>NaN</td>\n",
              "      <td>358.39</td>\n",
              "      <td>1</td>\n",
              "    </tr>\n",
              "    <tr>\n",
              "      <th>...</th>\n",
              "      <td>...</td>\n",
              "      <td>...</td>\n",
              "      <td>...</td>\n",
              "      <td>...</td>\n",
              "      <td>...</td>\n",
              "      <td>...</td>\n",
              "    </tr>\n",
              "    <tr>\n",
              "      <th>213803193</th>\n",
              "      <td>10.5</td>\n",
              "      <td>840</td>\n",
              "      <td>93.0</td>\n",
              "      <td>451.0</td>\n",
              "      <td>198.26</td>\n",
              "      <td>1</td>\n",
              "    </tr>\n",
              "    <tr>\n",
              "      <th>213812756</th>\n",
              "      <td>10.5</td>\n",
              "      <td>2160</td>\n",
              "      <td>428.0</td>\n",
              "      <td>39.0</td>\n",
              "      <td>581.23</td>\n",
              "      <td>1</td>\n",
              "    </tr>\n",
              "    <tr>\n",
              "      <th>213813930</th>\n",
              "      <td>10.5</td>\n",
              "      <td>240</td>\n",
              "      <td>9.0</td>\n",
              "      <td>110.0</td>\n",
              "      <td>76.20</td>\n",
              "      <td>1</td>\n",
              "    </tr>\n",
              "    <tr>\n",
              "      <th>213815405</th>\n",
              "      <td>10.5</td>\n",
              "      <td>840</td>\n",
              "      <td>115.0</td>\n",
              "      <td>317.0</td>\n",
              "      <td>133.31</td>\n",
              "      <td>1</td>\n",
              "    </tr>\n",
              "    <tr>\n",
              "      <th>213817296</th>\n",
              "      <td>10.5</td>\n",
              "      <td>240</td>\n",
              "      <td>21.0</td>\n",
              "      <td>23.0</td>\n",
              "      <td>98.57</td>\n",
              "      <td>1</td>\n",
              "    </tr>\n",
              "  </tbody>\n",
              "</table>\n",
              "<p>17176 rows × 6 columns</p>\n",
              "</div>"
            ],
            "text/plain": [
              "           additional_fare  duration  ...    fare  label\n",
              "tripid                                ...               \n",
              "189123628             10.5       840  ...  270.32      1\n",
              "189125358             10.5       780  ...  197.85      1\n",
              "189125719             10.5      1080  ...  301.64      1\n",
              "189127273             10.5       600  ...   82.30      1\n",
              "189128020              NaN      1020  ...  358.39      1\n",
              "...                    ...       ...  ...     ...    ...\n",
              "213803193             10.5       840  ...  198.26      1\n",
              "213812756             10.5      2160  ...  581.23      1\n",
              "213813930             10.5       240  ...   76.20      1\n",
              "213815405             10.5       840  ...  133.31      1\n",
              "213817296             10.5       240  ...   98.57      1\n",
              "\n",
              "[17176 rows x 6 columns]"
            ]
          },
          "metadata": {
            "tags": []
          },
          "execution_count": 436
        }
      ]
    },
    {
      "cell_type": "code",
      "metadata": {
        "id": "r8iiP6xx81ib",
        "colab_type": "code",
        "colab": {}
      },
      "source": [
        "X_train = X_train.fillna(X_train.mean())"
      ],
      "execution_count": null,
      "outputs": []
    },
    {
      "cell_type": "code",
      "metadata": {
        "id": "Y3wL6ggG8_Hf",
        "colab_type": "code",
        "colab": {}
      },
      "source": [
        ""
      ],
      "execution_count": null,
      "outputs": []
    },
    {
      "cell_type": "code",
      "metadata": {
        "id": "OYiLca08-ct1",
        "colab_type": "code",
        "colab": {
          "base_uri": "https://localhost:8080/",
          "height": 420
        },
        "outputId": "7ae7c928-8bf7-41cf-9599-b638565b18d4"
      },
      "source": [
        "X_train"
      ],
      "execution_count": null,
      "outputs": [
        {
          "output_type": "execute_result",
          "data": {
            "text/html": [
              "<div>\n",
              "<style scoped>\n",
              "    .dataframe tbody tr th:only-of-type {\n",
              "        vertical-align: middle;\n",
              "    }\n",
              "\n",
              "    .dataframe tbody tr th {\n",
              "        vertical-align: top;\n",
              "    }\n",
              "\n",
              "    .dataframe thead th {\n",
              "        text-align: right;\n",
              "    }\n",
              "</style>\n",
              "<table border=\"1\" class=\"dataframe\">\n",
              "  <thead>\n",
              "    <tr style=\"text-align: right;\">\n",
              "      <th></th>\n",
              "      <th>additional_fare</th>\n",
              "      <th>duration</th>\n",
              "      <th>meter_waiting</th>\n",
              "      <th>meter_waiting_till_pickup</th>\n",
              "      <th>fare</th>\n",
              "      <th>label</th>\n",
              "    </tr>\n",
              "    <tr>\n",
              "      <th>tripid</th>\n",
              "      <th></th>\n",
              "      <th></th>\n",
              "      <th></th>\n",
              "      <th></th>\n",
              "      <th></th>\n",
              "      <th></th>\n",
              "    </tr>\n",
              "  </thead>\n",
              "  <tbody>\n",
              "    <tr>\n",
              "      <th>189123628</th>\n",
              "      <td>10.500000</td>\n",
              "      <td>840</td>\n",
              "      <td>56.000000</td>\n",
              "      <td>64.000000</td>\n",
              "      <td>270.32</td>\n",
              "      <td>1</td>\n",
              "    </tr>\n",
              "    <tr>\n",
              "      <th>189125358</th>\n",
              "      <td>10.500000</td>\n",
              "      <td>780</td>\n",
              "      <td>47.000000</td>\n",
              "      <td>134.000000</td>\n",
              "      <td>197.85</td>\n",
              "      <td>1</td>\n",
              "    </tr>\n",
              "    <tr>\n",
              "      <th>189125719</th>\n",
              "      <td>10.500000</td>\n",
              "      <td>1080</td>\n",
              "      <td>80.000000</td>\n",
              "      <td>61.000000</td>\n",
              "      <td>301.64</td>\n",
              "      <td>1</td>\n",
              "    </tr>\n",
              "    <tr>\n",
              "      <th>189127273</th>\n",
              "      <td>10.500000</td>\n",
              "      <td>600</td>\n",
              "      <td>271.000000</td>\n",
              "      <td>68.000000</td>\n",
              "      <td>82.30</td>\n",
              "      <td>1</td>\n",
              "    </tr>\n",
              "    <tr>\n",
              "      <th>189128020</th>\n",
              "      <td>13.719651</td>\n",
              "      <td>1020</td>\n",
              "      <td>629.074231</td>\n",
              "      <td>112.466832</td>\n",
              "      <td>358.39</td>\n",
              "      <td>1</td>\n",
              "    </tr>\n",
              "    <tr>\n",
              "      <th>...</th>\n",
              "      <td>...</td>\n",
              "      <td>...</td>\n",
              "      <td>...</td>\n",
              "      <td>...</td>\n",
              "      <td>...</td>\n",
              "      <td>...</td>\n",
              "    </tr>\n",
              "    <tr>\n",
              "      <th>213803193</th>\n",
              "      <td>10.500000</td>\n",
              "      <td>840</td>\n",
              "      <td>93.000000</td>\n",
              "      <td>451.000000</td>\n",
              "      <td>198.26</td>\n",
              "      <td>1</td>\n",
              "    </tr>\n",
              "    <tr>\n",
              "      <th>213812756</th>\n",
              "      <td>10.500000</td>\n",
              "      <td>2160</td>\n",
              "      <td>428.000000</td>\n",
              "      <td>39.000000</td>\n",
              "      <td>581.23</td>\n",
              "      <td>1</td>\n",
              "    </tr>\n",
              "    <tr>\n",
              "      <th>213813930</th>\n",
              "      <td>10.500000</td>\n",
              "      <td>240</td>\n",
              "      <td>9.000000</td>\n",
              "      <td>110.000000</td>\n",
              "      <td>76.20</td>\n",
              "      <td>1</td>\n",
              "    </tr>\n",
              "    <tr>\n",
              "      <th>213815405</th>\n",
              "      <td>10.500000</td>\n",
              "      <td>840</td>\n",
              "      <td>115.000000</td>\n",
              "      <td>317.000000</td>\n",
              "      <td>133.31</td>\n",
              "      <td>1</td>\n",
              "    </tr>\n",
              "    <tr>\n",
              "      <th>213817296</th>\n",
              "      <td>10.500000</td>\n",
              "      <td>240</td>\n",
              "      <td>21.000000</td>\n",
              "      <td>23.000000</td>\n",
              "      <td>98.57</td>\n",
              "      <td>1</td>\n",
              "    </tr>\n",
              "  </tbody>\n",
              "</table>\n",
              "<p>17176 rows × 6 columns</p>\n",
              "</div>"
            ],
            "text/plain": [
              "           additional_fare  duration  ...    fare  label\n",
              "tripid                                ...               \n",
              "189123628        10.500000       840  ...  270.32      1\n",
              "189125358        10.500000       780  ...  197.85      1\n",
              "189125719        10.500000      1080  ...  301.64      1\n",
              "189127273        10.500000       600  ...   82.30      1\n",
              "189128020        13.719651      1020  ...  358.39      1\n",
              "...                    ...       ...  ...     ...    ...\n",
              "213803193        10.500000       840  ...  198.26      1\n",
              "213812756        10.500000      2160  ...  581.23      1\n",
              "213813930        10.500000       240  ...   76.20      1\n",
              "213815405        10.500000       840  ...  133.31      1\n",
              "213817296        10.500000       240  ...   98.57      1\n",
              "\n",
              "[17176 rows x 6 columns]"
            ]
          },
          "metadata": {
            "tags": []
          },
          "execution_count": 462
        }
      ]
    },
    {
      "cell_type": "code",
      "metadata": {
        "id": "eM__SFOd9vHt",
        "colab_type": "code",
        "colab": {}
      },
      "source": [
        "Y = X_train['label']\n"
      ],
      "execution_count": null,
      "outputs": []
    },
    {
      "cell_type": "code",
      "metadata": {
        "id": "wW4TuW0k-oZv",
        "colab_type": "code",
        "colab": {}
      },
      "source": [
        "X = X_train.drop('label',axis=1)"
      ],
      "execution_count": null,
      "outputs": []
    },
    {
      "cell_type": "code",
      "metadata": {
        "id": "YQweZuC_3Gnk",
        "colab_type": "code",
        "colab": {}
      },
      "source": [
        "scaler = MinMaxScaler()\n",
        "\n",
        "scaler.fit(X_train)\n",
        "\n",
        "X_train = scaler.transform(X_train)"
      ],
      "execution_count": null,
      "outputs": []
    },
    {
      "cell_type": "code",
      "metadata": {
        "id": "PsWUCqh0-dTe",
        "colab_type": "code",
        "colab": {}
      },
      "source": [
        "weights = {0:5,1:1}"
      ],
      "execution_count": null,
      "outputs": []
    },
    {
      "cell_type": "code",
      "metadata": {
        "id": "ILQ9Z-ve8pwf",
        "colab_type": "code",
        "colab": {
          "base_uri": "https://localhost:8080/",
          "height": 115
        },
        "outputId": "d8c0a418-397c-4c4f-bb73-568ec5b3edd7"
      },
      "source": [
        "from sklearn.metrics import make_scorer, accuracy_score, precision_score, recall_score, f1_score\n",
        "\n",
        "# Spot Check Algorithms\n",
        "scoring = {'accuracy' : make_scorer(accuracy_score), \n",
        "           'precision' : make_scorer(precision_score),\n",
        "           'recall' : make_scorer(recall_score), \n",
        "           'f1_score' : make_scorer(f1_score)}\n",
        "\n",
        "\n",
        "models = []\n",
        "models.append(('LR', LogisticRegression(solver='liblinear',penalty='l2',class_weight=weights)))\n",
        "models.append(('LDA', LinearDiscriminantAnalysis(solver='lsqr')))\n",
        "models.append(('KNN', KNeighborsClassifier(weights='distance')))\n",
        "models.append(('CART', DecisionTreeClassifier(class_weight=weights)))\n",
        "models.append(('NB', GaussianNB()))\n",
        "#models.append(('SVM', SVC(class_weight=weights)))\n",
        "models.append(('RF', RandomForestClassifier(class_weight=weights)))\n",
        "\n",
        "\n",
        "# evaluate each model in turn\n",
        "results = []\n",
        "names = []\n",
        "for name, model in models:\n",
        "\tkfold = StratifiedKFold(n_splits=10, random_state=1, shuffle=True)\n",
        "\tcv_results = cross_val_score(model, X, Y, cv=kfold, scoring=make_scorer(f1_score,average='macro'))\n",
        "\tresults.append(cv_results)\n",
        "\tnames.append(name)\n",
        "\tprint('%s: %f (%f)' % (name, cv_results.mean(), cv_results.std()))\n"
      ],
      "execution_count": null,
      "outputs": [
        {
          "output_type": "stream",
          "text": [
            "LR: 0.594037 (0.017624)\n",
            "LDA: 0.527899 (0.012273)\n",
            "KNN: 0.807632 (0.018638)\n",
            "CART: 0.759853 (0.016773)\n",
            "NB: 0.569840 (0.020400)\n",
            "RF: 0.810668 (0.018808)\n"
          ],
          "name": "stdout"
        }
      ]
    },
    {
      "cell_type": "code",
      "metadata": {
        "id": "b_kjKd_O8pvH",
        "colab_type": "code",
        "colab": {}
      },
      "source": [
        "  \n",
        "  '''\n",
        "\tprint('%s: %f (%f)' % (name, np.mean(), cv_results.std()))\n",
        "  '''"
      ],
      "execution_count": null,
      "outputs": []
    },
    {
      "cell_type": "code",
      "metadata": {
        "id": "RLy9pPU1DGi0",
        "colab_type": "code",
        "colab": {}
      },
      "source": [
        ""
      ],
      "execution_count": null,
      "outputs": []
    },
    {
      "cell_type": "code",
      "metadata": {
        "id": "kAlTATt3DGnx",
        "colab_type": "code",
        "colab": {}
      },
      "source": [
        "#### train RF with all data done"
      ],
      "execution_count": null,
      "outputs": []
    },
    {
      "cell_type": "code",
      "metadata": {
        "id": "g9ZcSeH7DGgX",
        "colab_type": "code",
        "colab": {
          "base_uri": "https://localhost:8080/",
          "height": 147
        },
        "outputId": "2b4eecd6-ffd7-42c3-a483-88495b0cdcf4"
      },
      "source": [
        "model = RandomForestClassifier(class_weight=weights)\n",
        "model.fit(X,Y)"
      ],
      "execution_count": null,
      "outputs": [
        {
          "output_type": "execute_result",
          "data": {
            "text/plain": [
              "RandomForestClassifier(bootstrap=True, ccp_alpha=0.0, class_weight={0: 5, 1: 1},\n",
              "                       criterion='gini', max_depth=None, max_features='auto',\n",
              "                       max_leaf_nodes=None, max_samples=None,\n",
              "                       min_impurity_decrease=0.0, min_impurity_split=None,\n",
              "                       min_samples_leaf=1, min_samples_split=2,\n",
              "                       min_weight_fraction_leaf=0.0, n_estimators=100,\n",
              "                       n_jobs=None, oob_score=False, random_state=None,\n",
              "                       verbose=0, warm_start=False)"
            ]
          },
          "metadata": {
            "tags": []
          },
          "execution_count": 535
        }
      ]
    },
    {
      "cell_type": "code",
      "metadata": {
        "id": "QjVan9Y4DGdw",
        "colab_type": "code",
        "colab": {}
      },
      "source": [
        "########### test data"
      ],
      "execution_count": null,
      "outputs": []
    },
    {
      "cell_type": "code",
      "metadata": {
        "id": "MkU_iUE4DGbF",
        "colab_type": "code",
        "colab": {}
      },
      "source": [
        ""
      ],
      "execution_count": null,
      "outputs": []
    },
    {
      "cell_type": "code",
      "metadata": {
        "id": "n9XVBebgCIS5",
        "colab_type": "code",
        "colab": {}
      },
      "source": [
        "test_df = pd.read_csv('/content/drive/My Drive/Ride_Fare/test.csv',index_col=\"tripid\")"
      ],
      "execution_count": null,
      "outputs": []
    },
    {
      "cell_type": "code",
      "metadata": {
        "colab_type": "code",
        "id": "yY3xXF5QCoTU",
        "colab": {}
      },
      "source": [
        "num_rows=test_df.shape[0]\n",
        "duration_list = []\n",
        "for i in range(num_rows):\n",
        "  duration = (datetime.strptime(test_df.iloc[i]['drop_time'],'%m/%d/%Y %H:%M')- datetime.strptime(test_df.iloc[i]['pickup_time'],'%m/%d/%Y %H:%M')).seconds\n",
        "  duration_list.append(duration)\n",
        "\n",
        "test_df['duration'] = duration_list\n"
      ],
      "execution_count": null,
      "outputs": []
    },
    {
      "cell_type": "code",
      "metadata": {
        "colab_type": "code",
        "id": "iFA1UbiHCoTl",
        "colab": {}
      },
      "source": [
        "test_df = test_df.drop('drop_time',axis = 1)\n",
        "test_df = test_df.drop('pickup_time',axis = 1)"
      ],
      "execution_count": null,
      "outputs": []
    },
    {
      "cell_type": "code",
      "metadata": {
        "colab_type": "code",
        "id": "iquJpBIICoTu",
        "colab": {}
      },
      "source": [
        "test_df = test_df.drop('pick_lat',axis = 1)\n",
        "test_df = test_df.drop('pick_lon',axis = 1)\n",
        "test_df = test_df.drop('drop_lat',axis = 1)\n",
        "test_df = test_df.drop('drop_lon',axis = 1)\n",
        "#test_df = test_df.drop('meter_waiting_fare',axis = 1)"
      ],
      "execution_count": null,
      "outputs": []
    },
    {
      "cell_type": "code",
      "metadata": {
        "id": "jAxmDK1JDuPL",
        "colab_type": "code",
        "colab": {}
      },
      "source": [
        "#scaler = MinMaxScaler()\n",
        "\n",
        "#scaler.fit(test_df)\n",
        "\n",
        "test_df = scaler.transform(test_df)"
      ],
      "execution_count": null,
      "outputs": []
    },
    {
      "cell_type": "code",
      "metadata": {
        "id": "EHnO52ULD5vi",
        "colab_type": "code",
        "colab": {}
      },
      "source": [
        "### NN\n",
        "test_preds = model.predict(test_df)"
      ],
      "execution_count": null,
      "outputs": []
    },
    {
      "cell_type": "code",
      "metadata": {
        "id": "UpW-Zv7BEEke",
        "colab_type": "code",
        "colab": {
          "base_uri": "https://localhost:8080/",
          "height": 131
        },
        "outputId": "443be403-89aa-44b6-cf0b-61baec47277f"
      },
      "source": [
        "test_preds"
      ],
      "execution_count": null,
      "outputs": [
        {
          "output_type": "execute_result",
          "data": {
            "text/plain": [
              "array([[0.98648214],\n",
              "       [0.8256606 ],\n",
              "       [0.97676206],\n",
              "       ...,\n",
              "       [0.99306947],\n",
              "       [0.9851118 ],\n",
              "       [0.96432066]], dtype=float32)"
            ]
          },
          "metadata": {
            "tags": []
          },
          "execution_count": 647
        }
      ]
    },
    {
      "cell_type": "code",
      "metadata": {
        "id": "AOp6SE4DbqUc",
        "colab_type": "code",
        "colab": {}
      },
      "source": [
        "preds=[]\n",
        "for pred in test_preds:\n",
        "  if pred >= 0.5:\n",
        "    preds.append(1)\n",
        "  else:\n",
        "    preds.append(0)  "
      ],
      "execution_count": null,
      "outputs": []
    },
    {
      "cell_type": "code",
      "metadata": {
        "id": "hNEhyD2AEyRl",
        "colab_type": "code",
        "colab": {}
      },
      "source": [
        "preds"
      ],
      "execution_count": null,
      "outputs": []
    },
    {
      "cell_type": "code",
      "metadata": {
        "id": "YbuMgD-2ZYpp",
        "colab_type": "code",
        "colab": {
          "base_uri": "https://localhost:8080/",
          "height": 220
        },
        "outputId": "bdd19415-c4c5-4b1d-b122-0532149fc047"
      },
      "source": [
        "submission_df = pd.read_csv('/content/drive/My Drive/Ride_Fare/sample_submission.csv',index_col=\"tripid\")\n",
        "submission_df.head()"
      ],
      "execution_count": null,
      "outputs": [
        {
          "output_type": "execute_result",
          "data": {
            "text/html": [
              "<div>\n",
              "<style scoped>\n",
              "    .dataframe tbody tr th:only-of-type {\n",
              "        vertical-align: middle;\n",
              "    }\n",
              "\n",
              "    .dataframe tbody tr th {\n",
              "        vertical-align: top;\n",
              "    }\n",
              "\n",
              "    .dataframe thead th {\n",
              "        text-align: right;\n",
              "    }\n",
              "</style>\n",
              "<table border=\"1\" class=\"dataframe\">\n",
              "  <thead>\n",
              "    <tr style=\"text-align: right;\">\n",
              "      <th></th>\n",
              "      <th>prediction</th>\n",
              "    </tr>\n",
              "    <tr>\n",
              "      <th>tripid</th>\n",
              "      <th></th>\n",
              "    </tr>\n",
              "  </thead>\n",
              "  <tbody>\n",
              "    <tr>\n",
              "      <th>213284604</th>\n",
              "      <td>1</td>\n",
              "    </tr>\n",
              "    <tr>\n",
              "      <th>213286352</th>\n",
              "      <td>0</td>\n",
              "    </tr>\n",
              "    <tr>\n",
              "      <th>213293973</th>\n",
              "      <td>0</td>\n",
              "    </tr>\n",
              "    <tr>\n",
              "      <th>213294622</th>\n",
              "      <td>1</td>\n",
              "    </tr>\n",
              "    <tr>\n",
              "      <th>213298687</th>\n",
              "      <td>1</td>\n",
              "    </tr>\n",
              "  </tbody>\n",
              "</table>\n",
              "</div>"
            ],
            "text/plain": [
              "           prediction\n",
              "tripid               \n",
              "213284604           1\n",
              "213286352           0\n",
              "213293973           0\n",
              "213294622           1\n",
              "213298687           1"
            ]
          },
          "metadata": {
            "tags": []
          },
          "execution_count": 650
        }
      ]
    },
    {
      "cell_type": "code",
      "metadata": {
        "id": "ForOm051Z5tk",
        "colab_type": "code",
        "colab": {
          "base_uri": "https://localhost:8080/",
          "height": 220
        },
        "outputId": "63704b34-a2af-43aa-fa50-89498ce7d922"
      },
      "source": [
        "# Make sure we have the rows in the same order\n",
        "'''\n",
        "np.testing.assert_array_equal(test_features_df.index.values, \n",
        "                              submission_df.index.values)\n",
        "'''\n",
        "# Save predictions to submission data frame\n",
        "submission_df[\"prediction\"] = preds\n",
        "\n",
        "submission_df.head()"
      ],
      "execution_count": null,
      "outputs": [
        {
          "output_type": "execute_result",
          "data": {
            "text/html": [
              "<div>\n",
              "<style scoped>\n",
              "    .dataframe tbody tr th:only-of-type {\n",
              "        vertical-align: middle;\n",
              "    }\n",
              "\n",
              "    .dataframe tbody tr th {\n",
              "        vertical-align: top;\n",
              "    }\n",
              "\n",
              "    .dataframe thead th {\n",
              "        text-align: right;\n",
              "    }\n",
              "</style>\n",
              "<table border=\"1\" class=\"dataframe\">\n",
              "  <thead>\n",
              "    <tr style=\"text-align: right;\">\n",
              "      <th></th>\n",
              "      <th>prediction</th>\n",
              "    </tr>\n",
              "    <tr>\n",
              "      <th>tripid</th>\n",
              "      <th></th>\n",
              "    </tr>\n",
              "  </thead>\n",
              "  <tbody>\n",
              "    <tr>\n",
              "      <th>213284604</th>\n",
              "      <td>1</td>\n",
              "    </tr>\n",
              "    <tr>\n",
              "      <th>213286352</th>\n",
              "      <td>1</td>\n",
              "    </tr>\n",
              "    <tr>\n",
              "      <th>213293973</th>\n",
              "      <td>1</td>\n",
              "    </tr>\n",
              "    <tr>\n",
              "      <th>213294622</th>\n",
              "      <td>1</td>\n",
              "    </tr>\n",
              "    <tr>\n",
              "      <th>213298687</th>\n",
              "      <td>1</td>\n",
              "    </tr>\n",
              "  </tbody>\n",
              "</table>\n",
              "</div>"
            ],
            "text/plain": [
              "           prediction\n",
              "tripid               \n",
              "213284604           1\n",
              "213286352           1\n",
              "213293973           1\n",
              "213294622           1\n",
              "213298687           1"
            ]
          },
          "metadata": {
            "tags": []
          },
          "execution_count": 651
        }
      ]
    },
    {
      "cell_type": "code",
      "metadata": {
        "id": "-y7rcjS8ZbxO",
        "colab_type": "code",
        "colab": {}
      },
      "source": [
        "submission_df.to_csv('/content/drive/My Drive/Ride_Fare/ride_fare_submission.csv', index=True)"
      ],
      "execution_count": null,
      "outputs": []
    },
    {
      "cell_type": "code",
      "metadata": {
        "id": "5yjsHb4Q8pl3",
        "colab_type": "code",
        "colab": {
          "base_uri": "https://localhost:8080/",
          "height": 420
        },
        "outputId": "9bb00708-d8bb-48ce-a2da-93827f676275"
      },
      "source": [
        "submission_df"
      ],
      "execution_count": null,
      "outputs": [
        {
          "output_type": "execute_result",
          "data": {
            "text/html": [
              "<div>\n",
              "<style scoped>\n",
              "    .dataframe tbody tr th:only-of-type {\n",
              "        vertical-align: middle;\n",
              "    }\n",
              "\n",
              "    .dataframe tbody tr th {\n",
              "        vertical-align: top;\n",
              "    }\n",
              "\n",
              "    .dataframe thead th {\n",
              "        text-align: right;\n",
              "    }\n",
              "</style>\n",
              "<table border=\"1\" class=\"dataframe\">\n",
              "  <thead>\n",
              "    <tr style=\"text-align: right;\">\n",
              "      <th></th>\n",
              "      <th>prediction</th>\n",
              "    </tr>\n",
              "    <tr>\n",
              "      <th>tripid</th>\n",
              "      <th></th>\n",
              "    </tr>\n",
              "  </thead>\n",
              "  <tbody>\n",
              "    <tr>\n",
              "      <th>213284604</th>\n",
              "      <td>1</td>\n",
              "    </tr>\n",
              "    <tr>\n",
              "      <th>213286352</th>\n",
              "      <td>1</td>\n",
              "    </tr>\n",
              "    <tr>\n",
              "      <th>213293973</th>\n",
              "      <td>1</td>\n",
              "    </tr>\n",
              "    <tr>\n",
              "      <th>213294622</th>\n",
              "      <td>1</td>\n",
              "    </tr>\n",
              "    <tr>\n",
              "      <th>213298687</th>\n",
              "      <td>1</td>\n",
              "    </tr>\n",
              "    <tr>\n",
              "      <th>...</th>\n",
              "      <td>...</td>\n",
              "    </tr>\n",
              "    <tr>\n",
              "      <th>222856243</th>\n",
              "      <td>1</td>\n",
              "    </tr>\n",
              "    <tr>\n",
              "      <th>222857785</th>\n",
              "      <td>1</td>\n",
              "    </tr>\n",
              "    <tr>\n",
              "      <th>222858416</th>\n",
              "      <td>1</td>\n",
              "    </tr>\n",
              "    <tr>\n",
              "      <th>222858691</th>\n",
              "      <td>1</td>\n",
              "    </tr>\n",
              "    <tr>\n",
              "      <th>222860703</th>\n",
              "      <td>1</td>\n",
              "    </tr>\n",
              "  </tbody>\n",
              "</table>\n",
              "<p>8576 rows × 1 columns</p>\n",
              "</div>"
            ],
            "text/plain": [
              "           prediction\n",
              "tripid               \n",
              "213284604           1\n",
              "213286352           1\n",
              "213293973           1\n",
              "213294622           1\n",
              "213298687           1\n",
              "...               ...\n",
              "222856243           1\n",
              "222857785           1\n",
              "222858416           1\n",
              "222858691           1\n",
              "222860703           1\n",
              "\n",
              "[8576 rows x 1 columns]"
            ]
          },
          "metadata": {
            "tags": []
          },
          "execution_count": 485
        }
      ]
    },
    {
      "cell_type": "code",
      "metadata": {
        "id": "65NQMDl7dSI4",
        "colab_type": "code",
        "colab": {}
      },
      "source": [
        ""
      ],
      "execution_count": null,
      "outputs": []
    },
    {
      "cell_type": "code",
      "metadata": {
        "id": "AjlW3CtW3Glb",
        "colab_type": "code",
        "colab": {
          "base_uri": "https://localhost:8080/",
          "height": 66
        },
        "outputId": "61489246-37b6-445f-c9d9-27cb7a211c5c"
      },
      "source": [
        "submission_df['prediction'].value_counts()"
      ],
      "execution_count": null,
      "outputs": [
        {
          "output_type": "execute_result",
          "data": {
            "text/plain": [
              "1    8204\n",
              "0     372\n",
              "Name: prediction, dtype: int64"
            ]
          },
          "metadata": {
            "tags": []
          },
          "execution_count": 653
        }
      ]
    },
    {
      "cell_type": "code",
      "metadata": {
        "id": "Cl0j-2MP3Gj2",
        "colab_type": "code",
        "colab": {}
      },
      "source": [
        ""
      ],
      "execution_count": null,
      "outputs": []
    },
    {
      "cell_type": "code",
      "metadata": {
        "id": "f_Jt7kEJ3Gdu",
        "colab_type": "code",
        "colab": {}
      },
      "source": [
        ""
      ],
      "execution_count": null,
      "outputs": []
    },
    {
      "cell_type": "code",
      "metadata": {
        "id": "lmYGeCAl3Gb3",
        "colab_type": "code",
        "colab": {}
      },
      "source": [
        ""
      ],
      "execution_count": null,
      "outputs": []
    },
    {
      "cell_type": "code",
      "metadata": {
        "id": "07XehFinLUgf",
        "colab_type": "code",
        "colab": {
          "base_uri": "https://localhost:8080/",
          "height": 420
        },
        "outputId": "8b3c9966-fee4-44df-a776-2ec448c5f9a8"
      },
      "source": [
        "X_train"
      ],
      "execution_count": null,
      "outputs": [
        {
          "output_type": "execute_result",
          "data": {
            "text/html": [
              "<div>\n",
              "<style scoped>\n",
              "    .dataframe tbody tr th:only-of-type {\n",
              "        vertical-align: middle;\n",
              "    }\n",
              "\n",
              "    .dataframe tbody tr th {\n",
              "        vertical-align: top;\n",
              "    }\n",
              "\n",
              "    .dataframe thead th {\n",
              "        text-align: right;\n",
              "    }\n",
              "</style>\n",
              "<table border=\"1\" class=\"dataframe\">\n",
              "  <thead>\n",
              "    <tr style=\"text-align: right;\">\n",
              "      <th></th>\n",
              "      <th>additional_fare</th>\n",
              "      <th>duration</th>\n",
              "      <th>meter_waiting</th>\n",
              "      <th>meter_waiting_fare</th>\n",
              "      <th>meter_waiting_till_pickup</th>\n",
              "      <th>fare</th>\n",
              "      <th>label</th>\n",
              "    </tr>\n",
              "    <tr>\n",
              "      <th>tripid</th>\n",
              "      <th></th>\n",
              "      <th></th>\n",
              "      <th></th>\n",
              "      <th></th>\n",
              "      <th></th>\n",
              "      <th></th>\n",
              "      <th></th>\n",
              "    </tr>\n",
              "  </thead>\n",
              "  <tbody>\n",
              "    <tr>\n",
              "      <th>189123628</th>\n",
              "      <td>10.5</td>\n",
              "      <td>840</td>\n",
              "      <td>56.0</td>\n",
              "      <td>0.0000</td>\n",
              "      <td>64.0</td>\n",
              "      <td>270.32</td>\n",
              "      <td>1</td>\n",
              "    </tr>\n",
              "    <tr>\n",
              "      <th>189125358</th>\n",
              "      <td>10.5</td>\n",
              "      <td>780</td>\n",
              "      <td>47.0</td>\n",
              "      <td>0.0000</td>\n",
              "      <td>134.0</td>\n",
              "      <td>197.85</td>\n",
              "      <td>1</td>\n",
              "    </tr>\n",
              "    <tr>\n",
              "      <th>189125719</th>\n",
              "      <td>10.5</td>\n",
              "      <td>1080</td>\n",
              "      <td>80.0</td>\n",
              "      <td>0.0000</td>\n",
              "      <td>61.0</td>\n",
              "      <td>301.64</td>\n",
              "      <td>1</td>\n",
              "    </tr>\n",
              "    <tr>\n",
              "      <th>189127273</th>\n",
              "      <td>10.5</td>\n",
              "      <td>600</td>\n",
              "      <td>271.0</td>\n",
              "      <td>15.6638</td>\n",
              "      <td>68.0</td>\n",
              "      <td>82.30</td>\n",
              "      <td>1</td>\n",
              "    </tr>\n",
              "    <tr>\n",
              "      <th>189128020</th>\n",
              "      <td>NaN</td>\n",
              "      <td>1020</td>\n",
              "      <td>NaN</td>\n",
              "      <td>NaN</td>\n",
              "      <td>NaN</td>\n",
              "      <td>358.39</td>\n",
              "      <td>1</td>\n",
              "    </tr>\n",
              "    <tr>\n",
              "      <th>...</th>\n",
              "      <td>...</td>\n",
              "      <td>...</td>\n",
              "      <td>...</td>\n",
              "      <td>...</td>\n",
              "      <td>...</td>\n",
              "      <td>...</td>\n",
              "      <td>...</td>\n",
              "    </tr>\n",
              "    <tr>\n",
              "      <th>213803193</th>\n",
              "      <td>10.5</td>\n",
              "      <td>840</td>\n",
              "      <td>93.0</td>\n",
              "      <td>5.4219</td>\n",
              "      <td>451.0</td>\n",
              "      <td>198.26</td>\n",
              "      <td>1</td>\n",
              "    </tr>\n",
              "    <tr>\n",
              "      <th>213812756</th>\n",
              "      <td>10.5</td>\n",
              "      <td>2160</td>\n",
              "      <td>428.0</td>\n",
              "      <td>0.0000</td>\n",
              "      <td>39.0</td>\n",
              "      <td>581.23</td>\n",
              "      <td>1</td>\n",
              "    </tr>\n",
              "    <tr>\n",
              "      <th>213813930</th>\n",
              "      <td>10.5</td>\n",
              "      <td>240</td>\n",
              "      <td>9.0</td>\n",
              "      <td>0.0000</td>\n",
              "      <td>110.0</td>\n",
              "      <td>76.20</td>\n",
              "      <td>1</td>\n",
              "    </tr>\n",
              "    <tr>\n",
              "      <th>213815405</th>\n",
              "      <td>10.5</td>\n",
              "      <td>840</td>\n",
              "      <td>115.0</td>\n",
              "      <td>0.0000</td>\n",
              "      <td>317.0</td>\n",
              "      <td>133.31</td>\n",
              "      <td>1</td>\n",
              "    </tr>\n",
              "    <tr>\n",
              "      <th>213817296</th>\n",
              "      <td>10.5</td>\n",
              "      <td>240</td>\n",
              "      <td>21.0</td>\n",
              "      <td>1.2243</td>\n",
              "      <td>23.0</td>\n",
              "      <td>98.57</td>\n",
              "      <td>1</td>\n",
              "    </tr>\n",
              "  </tbody>\n",
              "</table>\n",
              "<p>17176 rows × 7 columns</p>\n",
              "</div>"
            ],
            "text/plain": [
              "           additional_fare  duration  ...    fare  label\n",
              "tripid                                ...               \n",
              "189123628             10.5       840  ...  270.32      1\n",
              "189125358             10.5       780  ...  197.85      1\n",
              "189125719             10.5      1080  ...  301.64      1\n",
              "189127273             10.5       600  ...   82.30      1\n",
              "189128020              NaN      1020  ...  358.39      1\n",
              "...                    ...       ...  ...     ...    ...\n",
              "213803193             10.5       840  ...  198.26      1\n",
              "213812756             10.5      2160  ...  581.23      1\n",
              "213813930             10.5       240  ...   76.20      1\n",
              "213815405             10.5       840  ...  133.31      1\n",
              "213817296             10.5       240  ...   98.57      1\n",
              "\n",
              "[17176 rows x 7 columns]"
            ]
          },
          "metadata": {
            "tags": []
          },
          "execution_count": 372
        }
      ]
    },
    {
      "cell_type": "code",
      "metadata": {
        "id": "8XQUCpQTLVuM",
        "colab_type": "code",
        "colab": {
          "base_uri": "https://localhost:8080/",
          "height": 66
        },
        "outputId": "39a7bee9-e0f5-4d5c-dddc-1caf16e3441a"
      },
      "source": [
        "X_train['label'].value_counts()"
      ],
      "execution_count": null,
      "outputs": [
        {
          "output_type": "execute_result",
          "data": {
            "text/plain": [
              "1    15495\n",
              "0     1681\n",
              "Name: label, dtype: int64"
            ]
          },
          "metadata": {
            "tags": []
          },
          "execution_count": 373
        }
      ]
    },
    {
      "cell_type": "code",
      "metadata": {
        "id": "m52PDm-0HgdA",
        "colab_type": "code",
        "colab": {}
      },
      "source": [
        "X_train = X_train.sample(frac=1)"
      ],
      "execution_count": null,
      "outputs": []
    },
    {
      "cell_type": "code",
      "metadata": {
        "id": "0DkaGgzYHIqn",
        "colab_type": "code",
        "colab": {}
      },
      "source": [
        "X_train_0 = X_train.loc[X_train['label'] == 0]\n",
        "X_train_1 = X_train.loc[X_train['label'] == 1]\n",
        "\n",
        "  #fill na with mean\n",
        "X_train_0 = X_train_0.fillna(X_train_0.mean())\n",
        "X_train_1 = X_train_1.fillna(X_train_1.mean())\n",
        "\n",
        "X = pd.concat([X_train_0,X_train_1],axis = 0)\n",
        "X = X.drop('label',axis=1)\n"
      ],
      "execution_count": null,
      "outputs": []
    },
    {
      "cell_type": "code",
      "metadata": {
        "id": "j5wJQ_QIHZIA",
        "colab_type": "code",
        "colab": {}
      },
      "source": [
        "Y = X_train['label']"
      ],
      "execution_count": null,
      "outputs": []
    },
    {
      "cell_type": "code",
      "metadata": {
        "id": "56Jwu43mOpqj",
        "colab_type": "code",
        "colab": {
          "base_uri": "https://localhost:8080/",
          "height": 135
        },
        "outputId": "8ab9571a-0614-4117-ba5b-04643e1429b4"
      },
      "source": [
        "from imblearn.combine import SMOTETomek\n",
        "\n",
        "smk=SMOTETomek(random_state=42,sampling_strategy=1)\n",
        "x_res,y_res=smk.fit_resample(X,Y)\n",
        "print('x shape',x_res.shape)\n",
        "print('y shape',y_res.shape)"
      ],
      "execution_count": null,
      "outputs": [
        {
          "output_type": "stream",
          "text": [
            "/usr/local/lib/python3.6/dist-packages/sklearn/utils/deprecation.py:87: FutureWarning: Function safe_indexing is deprecated; safe_indexing is deprecated in version 0.22 and will be removed in version 0.24.\n",
            "  warnings.warn(msg, category=FutureWarning)\n"
          ],
          "name": "stderr"
        },
        {
          "output_type": "stream",
          "text": [
            "x shape (29718, 6)\n",
            "y shape (29718,)\n"
          ],
          "name": "stdout"
        },
        {
          "output_type": "stream",
          "text": [
            "/usr/local/lib/python3.6/dist-packages/sklearn/utils/deprecation.py:87: FutureWarning: Function safe_indexing is deprecated; safe_indexing is deprecated in version 0.22 and will be removed in version 0.24.\n",
            "  warnings.warn(msg, category=FutureWarning)\n"
          ],
          "name": "stderr"
        }
      ]
    },
    {
      "cell_type": "code",
      "metadata": {
        "id": "U23k47KNOAa6",
        "colab_type": "code",
        "colab": {}
      },
      "source": [
        "scaler = StandardScaler()\n",
        "\n",
        "scaler.fit(x_res)\n",
        "\n",
        "x_res = scaler.transform(x_res)\n"
      ],
      "execution_count": null,
      "outputs": []
    },
    {
      "cell_type": "code",
      "metadata": {
        "id": "dlCnQMRRVMfz",
        "colab_type": "code",
        "colab": {}
      },
      "source": [
        "scaler = MinMaxScaler()\n",
        "\n",
        "scaler.fit(X)\n",
        "\n",
        "X = scaler.transform(X)"
      ],
      "execution_count": null,
      "outputs": []
    },
    {
      "cell_type": "code",
      "metadata": {
        "id": "eyOAN_GrXxxK",
        "colab_type": "code",
        "colab": {}
      },
      "source": [
        "weights = {0:2,1:1}"
      ],
      "execution_count": null,
      "outputs": []
    },
    {
      "cell_type": "code",
      "metadata": {
        "id": "CPVBmtCyHrZD",
        "colab_type": "code",
        "colab": {
          "base_uri": "https://localhost:8080/",
          "height": 131
        },
        "outputId": "f615e606-7b47-4c94-a158-bdebb16d937b"
      },
      "source": [
        "# Spot Check Algorithms\n",
        "models = []\n",
        "models.append(('LR', LogisticRegression(solver='liblinear',penalty='l2',class_weight=weights)))\n",
        "models.append(('LDA', LinearDiscriminantAnalysis(solver='lsqr')))\n",
        "models.append(('KNN', KNeighborsClassifier(weights='distance')))\n",
        "models.append(('CART', DecisionTreeClassifier(class_weight=weights)))\n",
        "models.append(('NB', GaussianNB()))\n",
        "models.append(('SVM', SVC(class_weight=weights)))\n",
        "models.append(('RF', RandomForestClassifier(class_weight=weights)))\n",
        "\n",
        "\n",
        "# evaluate each model in turn\n",
        "results = []\n",
        "names = []\n",
        "for name, model in models:\n",
        "\tkfold = StratifiedKFold(n_splits=10, random_state=1, shuffle=True)\n",
        "\tcv_results = cross_val_score(model, X, Y, cv=kfold, scoring='accuracy')\n",
        "\tresults.append(cv_results)\n",
        "\tnames.append(name)\n",
        "\tprint('%s: %f (%f)' % (name, cv_results.mean(), cv_results.std()))\n"
      ],
      "execution_count": null,
      "outputs": [
        {
          "output_type": "stream",
          "text": [
            "LR: 0.902131 (0.000169)\n",
            "LDA: 0.902131 (0.000169)\n",
            "KNN: 0.887226 (0.002599)\n",
            "CART: 0.816197 (0.006291)\n",
            "NB: 0.144969 (0.006327)\n",
            "SVM: 0.901898 (0.000383)\n",
            "RF: 0.900093 (0.000897)\n"
          ],
          "name": "stdout"
        }
      ]
    },
    {
      "cell_type": "code",
      "metadata": {
        "id": "gPJ5R1jkHrgR",
        "colab_type": "code",
        "colab": {}
      },
      "source": [
        "###################################3"
      ],
      "execution_count": null,
      "outputs": []
    },
    {
      "cell_type": "code",
      "metadata": {
        "id": "pk2VQ_A-Hrea",
        "colab_type": "code",
        "colab": {}
      },
      "source": [
        ""
      ],
      "execution_count": null,
      "outputs": []
    },
    {
      "cell_type": "code",
      "metadata": {
        "id": "zz72J4_THrch",
        "colab_type": "code",
        "colab": {}
      },
      "source": [
        ""
      ],
      "execution_count": null,
      "outputs": []
    },
    {
      "cell_type": "code",
      "metadata": {
        "id": "qE8dTVYoDXUV",
        "colab_type": "code",
        "colab": {
          "base_uri": "https://localhost:8080/",
          "height": 245
        },
        "outputId": "e9427bdf-2fa3-47b9-9bd7-68ce452af8da"
      },
      "source": [
        "X_train.info()"
      ],
      "execution_count": null,
      "outputs": [
        {
          "output_type": "stream",
          "text": [
            "<class 'pandas.core.frame.DataFrame'>\n",
            "Int64Index: 17176 entries, 189123628 to 213817296\n",
            "Data columns (total 7 columns):\n",
            " #   Column                     Non-Null Count  Dtype  \n",
            "---  ------                     --------------  -----  \n",
            " 0   additional_fare            16974 non-null  float64\n",
            " 1   duration                   17176 non-null  int64  \n",
            " 2   meter_waiting              16974 non-null  float64\n",
            " 3   meter_waiting_fare         16974 non-null  float64\n",
            " 4   meter_waiting_till_pickup  16974 non-null  float64\n",
            " 5   fare                       17039 non-null  float64\n",
            " 6   label                      17176 non-null  int64  \n",
            "dtypes: float64(5), int64(2)\n",
            "memory usage: 1.0 MB\n"
          ],
          "name": "stdout"
        }
      ]
    },
    {
      "cell_type": "code",
      "metadata": {
        "id": "d_TPtQCPC4Jv",
        "colab_type": "code",
        "colab": {
          "base_uri": "https://localhost:8080/",
          "height": 420
        },
        "outputId": "37bedd5e-e3bb-4355-aa5f-46a9494d5c84"
      },
      "source": [
        "s = X_train[X_train.isna().any(axis=1)]\n",
        "s"
      ],
      "execution_count": null,
      "outputs": [
        {
          "output_type": "execute_result",
          "data": {
            "text/html": [
              "<div>\n",
              "<style scoped>\n",
              "    .dataframe tbody tr th:only-of-type {\n",
              "        vertical-align: middle;\n",
              "    }\n",
              "\n",
              "    .dataframe tbody tr th {\n",
              "        vertical-align: top;\n",
              "    }\n",
              "\n",
              "    .dataframe thead th {\n",
              "        text-align: right;\n",
              "    }\n",
              "</style>\n",
              "<table border=\"1\" class=\"dataframe\">\n",
              "  <thead>\n",
              "    <tr style=\"text-align: right;\">\n",
              "      <th></th>\n",
              "      <th>additional_fare</th>\n",
              "      <th>duration</th>\n",
              "      <th>meter_waiting</th>\n",
              "      <th>meter_waiting_fare</th>\n",
              "      <th>meter_waiting_till_pickup</th>\n",
              "      <th>fare</th>\n",
              "      <th>label</th>\n",
              "    </tr>\n",
              "    <tr>\n",
              "      <th>tripid</th>\n",
              "      <th></th>\n",
              "      <th></th>\n",
              "      <th></th>\n",
              "      <th></th>\n",
              "      <th></th>\n",
              "      <th></th>\n",
              "      <th></th>\n",
              "    </tr>\n",
              "  </thead>\n",
              "  <tbody>\n",
              "    <tr>\n",
              "      <th>189128020</th>\n",
              "      <td>NaN</td>\n",
              "      <td>1020</td>\n",
              "      <td>NaN</td>\n",
              "      <td>NaN</td>\n",
              "      <td>NaN</td>\n",
              "      <td>358.39</td>\n",
              "      <td>1</td>\n",
              "    </tr>\n",
              "    <tr>\n",
              "      <th>189157607</th>\n",
              "      <td>10.5</td>\n",
              "      <td>2460</td>\n",
              "      <td>1686.0</td>\n",
              "      <td>97.4508</td>\n",
              "      <td>29.0</td>\n",
              "      <td>NaN</td>\n",
              "      <td>0</td>\n",
              "    </tr>\n",
              "    <tr>\n",
              "      <th>189164806</th>\n",
              "      <td>10.5</td>\n",
              "      <td>780</td>\n",
              "      <td>2689.0</td>\n",
              "      <td>146.9854</td>\n",
              "      <td>69.0</td>\n",
              "      <td>NaN</td>\n",
              "      <td>0</td>\n",
              "    </tr>\n",
              "    <tr>\n",
              "      <th>189164831</th>\n",
              "      <td>NaN</td>\n",
              "      <td>480</td>\n",
              "      <td>NaN</td>\n",
              "      <td>NaN</td>\n",
              "      <td>NaN</td>\n",
              "      <td>NaN</td>\n",
              "      <td>0</td>\n",
              "    </tr>\n",
              "    <tr>\n",
              "      <th>189231599</th>\n",
              "      <td>NaN</td>\n",
              "      <td>900</td>\n",
              "      <td>NaN</td>\n",
              "      <td>NaN</td>\n",
              "      <td>NaN</td>\n",
              "      <td>196.50</td>\n",
              "      <td>0</td>\n",
              "    </tr>\n",
              "    <tr>\n",
              "      <th>...</th>\n",
              "      <td>...</td>\n",
              "      <td>...</td>\n",
              "      <td>...</td>\n",
              "      <td>...</td>\n",
              "      <td>...</td>\n",
              "      <td>...</td>\n",
              "      <td>...</td>\n",
              "    </tr>\n",
              "    <tr>\n",
              "      <th>213449192</th>\n",
              "      <td>NaN</td>\n",
              "      <td>780</td>\n",
              "      <td>NaN</td>\n",
              "      <td>NaN</td>\n",
              "      <td>NaN</td>\n",
              "      <td>NaN</td>\n",
              "      <td>0</td>\n",
              "    </tr>\n",
              "    <tr>\n",
              "      <th>213510465</th>\n",
              "      <td>NaN</td>\n",
              "      <td>60</td>\n",
              "      <td>NaN</td>\n",
              "      <td>NaN</td>\n",
              "      <td>NaN</td>\n",
              "      <td>NaN</td>\n",
              "      <td>0</td>\n",
              "    </tr>\n",
              "    <tr>\n",
              "      <th>213538831</th>\n",
              "      <td>NaN</td>\n",
              "      <td>4560</td>\n",
              "      <td>NaN</td>\n",
              "      <td>NaN</td>\n",
              "      <td>NaN</td>\n",
              "      <td>NaN</td>\n",
              "      <td>0</td>\n",
              "    </tr>\n",
              "    <tr>\n",
              "      <th>213674502</th>\n",
              "      <td>NaN</td>\n",
              "      <td>4380</td>\n",
              "      <td>NaN</td>\n",
              "      <td>NaN</td>\n",
              "      <td>NaN</td>\n",
              "      <td>NaN</td>\n",
              "      <td>0</td>\n",
              "    </tr>\n",
              "    <tr>\n",
              "      <th>213758346</th>\n",
              "      <td>NaN</td>\n",
              "      <td>3660</td>\n",
              "      <td>NaN</td>\n",
              "      <td>NaN</td>\n",
              "      <td>NaN</td>\n",
              "      <td>NaN</td>\n",
              "      <td>0</td>\n",
              "    </tr>\n",
              "  </tbody>\n",
              "</table>\n",
              "<p>208 rows × 7 columns</p>\n",
              "</div>"
            ],
            "text/plain": [
              "           additional_fare  duration  ...    fare  label\n",
              "tripid                                ...               \n",
              "189128020              NaN      1020  ...  358.39      1\n",
              "189157607             10.5      2460  ...     NaN      0\n",
              "189164806             10.5       780  ...     NaN      0\n",
              "189164831              NaN       480  ...     NaN      0\n",
              "189231599              NaN       900  ...  196.50      0\n",
              "...                    ...       ...  ...     ...    ...\n",
              "213449192              NaN       780  ...     NaN      0\n",
              "213510465              NaN        60  ...     NaN      0\n",
              "213538831              NaN      4560  ...     NaN      0\n",
              "213674502              NaN      4380  ...     NaN      0\n",
              "213758346              NaN      3660  ...     NaN      0\n",
              "\n",
              "[208 rows x 7 columns]"
            ]
          },
          "metadata": {
            "tags": []
          },
          "execution_count": 259
        }
      ]
    },
    {
      "cell_type": "code",
      "metadata": {
        "id": "wtOYxnAYLpOT",
        "colab_type": "code",
        "colab": {
          "base_uri": "https://localhost:8080/",
          "height": 420
        },
        "outputId": "1662b293-c51c-4f00-a04e-389c5a5b8c7e"
      },
      "source": [
        "s.loc[s['label']==0]"
      ],
      "execution_count": null,
      "outputs": [
        {
          "output_type": "execute_result",
          "data": {
            "text/html": [
              "<div>\n",
              "<style scoped>\n",
              "    .dataframe tbody tr th:only-of-type {\n",
              "        vertical-align: middle;\n",
              "    }\n",
              "\n",
              "    .dataframe tbody tr th {\n",
              "        vertical-align: top;\n",
              "    }\n",
              "\n",
              "    .dataframe thead th {\n",
              "        text-align: right;\n",
              "    }\n",
              "</style>\n",
              "<table border=\"1\" class=\"dataframe\">\n",
              "  <thead>\n",
              "    <tr style=\"text-align: right;\">\n",
              "      <th></th>\n",
              "      <th>additional_fare</th>\n",
              "      <th>duration</th>\n",
              "      <th>meter_waiting</th>\n",
              "      <th>meter_waiting_fare</th>\n",
              "      <th>meter_waiting_till_pickup</th>\n",
              "      <th>fare</th>\n",
              "      <th>label</th>\n",
              "    </tr>\n",
              "    <tr>\n",
              "      <th>tripid</th>\n",
              "      <th></th>\n",
              "      <th></th>\n",
              "      <th></th>\n",
              "      <th></th>\n",
              "      <th></th>\n",
              "      <th></th>\n",
              "      <th></th>\n",
              "    </tr>\n",
              "  </thead>\n",
              "  <tbody>\n",
              "    <tr>\n",
              "      <th>189157607</th>\n",
              "      <td>10.5</td>\n",
              "      <td>2460</td>\n",
              "      <td>1686.0</td>\n",
              "      <td>97.4508</td>\n",
              "      <td>29.0</td>\n",
              "      <td>NaN</td>\n",
              "      <td>0</td>\n",
              "    </tr>\n",
              "    <tr>\n",
              "      <th>189164806</th>\n",
              "      <td>10.5</td>\n",
              "      <td>780</td>\n",
              "      <td>2689.0</td>\n",
              "      <td>146.9854</td>\n",
              "      <td>69.0</td>\n",
              "      <td>NaN</td>\n",
              "      <td>0</td>\n",
              "    </tr>\n",
              "    <tr>\n",
              "      <th>189164831</th>\n",
              "      <td>NaN</td>\n",
              "      <td>480</td>\n",
              "      <td>NaN</td>\n",
              "      <td>NaN</td>\n",
              "      <td>NaN</td>\n",
              "      <td>NaN</td>\n",
              "      <td>0</td>\n",
              "    </tr>\n",
              "    <tr>\n",
              "      <th>189231599</th>\n",
              "      <td>NaN</td>\n",
              "      <td>900</td>\n",
              "      <td>NaN</td>\n",
              "      <td>NaN</td>\n",
              "      <td>NaN</td>\n",
              "      <td>196.50</td>\n",
              "      <td>0</td>\n",
              "    </tr>\n",
              "    <tr>\n",
              "      <th>189393356</th>\n",
              "      <td>NaN</td>\n",
              "      <td>1560</td>\n",
              "      <td>NaN</td>\n",
              "      <td>NaN</td>\n",
              "      <td>NaN</td>\n",
              "      <td>188.71</td>\n",
              "      <td>0</td>\n",
              "    </tr>\n",
              "    <tr>\n",
              "      <th>...</th>\n",
              "      <td>...</td>\n",
              "      <td>...</td>\n",
              "      <td>...</td>\n",
              "      <td>...</td>\n",
              "      <td>...</td>\n",
              "      <td>...</td>\n",
              "      <td>...</td>\n",
              "    </tr>\n",
              "    <tr>\n",
              "      <th>213449192</th>\n",
              "      <td>NaN</td>\n",
              "      <td>780</td>\n",
              "      <td>NaN</td>\n",
              "      <td>NaN</td>\n",
              "      <td>NaN</td>\n",
              "      <td>NaN</td>\n",
              "      <td>0</td>\n",
              "    </tr>\n",
              "    <tr>\n",
              "      <th>213510465</th>\n",
              "      <td>NaN</td>\n",
              "      <td>60</td>\n",
              "      <td>NaN</td>\n",
              "      <td>NaN</td>\n",
              "      <td>NaN</td>\n",
              "      <td>NaN</td>\n",
              "      <td>0</td>\n",
              "    </tr>\n",
              "    <tr>\n",
              "      <th>213538831</th>\n",
              "      <td>NaN</td>\n",
              "      <td>4560</td>\n",
              "      <td>NaN</td>\n",
              "      <td>NaN</td>\n",
              "      <td>NaN</td>\n",
              "      <td>NaN</td>\n",
              "      <td>0</td>\n",
              "    </tr>\n",
              "    <tr>\n",
              "      <th>213674502</th>\n",
              "      <td>NaN</td>\n",
              "      <td>4380</td>\n",
              "      <td>NaN</td>\n",
              "      <td>NaN</td>\n",
              "      <td>NaN</td>\n",
              "      <td>NaN</td>\n",
              "      <td>0</td>\n",
              "    </tr>\n",
              "    <tr>\n",
              "      <th>213758346</th>\n",
              "      <td>NaN</td>\n",
              "      <td>3660</td>\n",
              "      <td>NaN</td>\n",
              "      <td>NaN</td>\n",
              "      <td>NaN</td>\n",
              "      <td>NaN</td>\n",
              "      <td>0</td>\n",
              "    </tr>\n",
              "  </tbody>\n",
              "</table>\n",
              "<p>155 rows × 7 columns</p>\n",
              "</div>"
            ],
            "text/plain": [
              "           additional_fare  duration  ...    fare  label\n",
              "tripid                                ...               \n",
              "189157607             10.5      2460  ...     NaN      0\n",
              "189164806             10.5       780  ...     NaN      0\n",
              "189164831              NaN       480  ...     NaN      0\n",
              "189231599              NaN       900  ...  196.50      0\n",
              "189393356              NaN      1560  ...  188.71      0\n",
              "...                    ...       ...  ...     ...    ...\n",
              "213449192              NaN       780  ...     NaN      0\n",
              "213510465              NaN        60  ...     NaN      0\n",
              "213538831              NaN      4560  ...     NaN      0\n",
              "213674502              NaN      4380  ...     NaN      0\n",
              "213758346              NaN      3660  ...     NaN      0\n",
              "\n",
              "[155 rows x 7 columns]"
            ]
          },
          "metadata": {
            "tags": []
          },
          "execution_count": 261
        }
      ]
    },
    {
      "cell_type": "code",
      "metadata": {
        "id": "MKMhHYAtMChC",
        "colab_type": "code",
        "colab": {
          "base_uri": "https://localhost:8080/",
          "height": 446
        },
        "outputId": "9fbdce96-d366-499c-b9d9-4ea5a49c3a0d"
      },
      "source": [
        "X_train"
      ],
      "execution_count": null,
      "outputs": [
        {
          "output_type": "execute_result",
          "data": {
            "text/html": [
              "<div>\n",
              "<style scoped>\n",
              "    .dataframe tbody tr th:only-of-type {\n",
              "        vertical-align: middle;\n",
              "    }\n",
              "\n",
              "    .dataframe tbody tr th {\n",
              "        vertical-align: top;\n",
              "    }\n",
              "\n",
              "    .dataframe thead th {\n",
              "        text-align: right;\n",
              "    }\n",
              "</style>\n",
              "<table border=\"1\" class=\"dataframe\">\n",
              "  <thead>\n",
              "    <tr style=\"text-align: right;\">\n",
              "      <th></th>\n",
              "      <th>additional_fare</th>\n",
              "      <th>duration</th>\n",
              "      <th>meter_waiting</th>\n",
              "      <th>meter_waiting_fare</th>\n",
              "      <th>meter_waiting_till_pickup</th>\n",
              "      <th>fare</th>\n",
              "      <th>label</th>\n",
              "    </tr>\n",
              "    <tr>\n",
              "      <th>tripid</th>\n",
              "      <th></th>\n",
              "      <th></th>\n",
              "      <th></th>\n",
              "      <th></th>\n",
              "      <th></th>\n",
              "      <th></th>\n",
              "      <th></th>\n",
              "    </tr>\n",
              "  </thead>\n",
              "  <tbody>\n",
              "    <tr>\n",
              "      <th>189123628</th>\n",
              "      <td>10.500000</td>\n",
              "      <td>840</td>\n",
              "      <td>56.000000</td>\n",
              "      <td>0.000000</td>\n",
              "      <td>64.000000</td>\n",
              "      <td>270.32</td>\n",
              "      <td>1</td>\n",
              "    </tr>\n",
              "    <tr>\n",
              "      <th>189125358</th>\n",
              "      <td>10.500000</td>\n",
              "      <td>780</td>\n",
              "      <td>47.000000</td>\n",
              "      <td>0.000000</td>\n",
              "      <td>134.000000</td>\n",
              "      <td>197.85</td>\n",
              "      <td>1</td>\n",
              "    </tr>\n",
              "    <tr>\n",
              "      <th>189125719</th>\n",
              "      <td>10.500000</td>\n",
              "      <td>1080</td>\n",
              "      <td>80.000000</td>\n",
              "      <td>0.000000</td>\n",
              "      <td>61.000000</td>\n",
              "      <td>301.64</td>\n",
              "      <td>1</td>\n",
              "    </tr>\n",
              "    <tr>\n",
              "      <th>189127273</th>\n",
              "      <td>10.500000</td>\n",
              "      <td>600</td>\n",
              "      <td>271.000000</td>\n",
              "      <td>15.663800</td>\n",
              "      <td>68.000000</td>\n",
              "      <td>82.30</td>\n",
              "      <td>1</td>\n",
              "    </tr>\n",
              "    <tr>\n",
              "      <th>189128020</th>\n",
              "      <td>13.719651</td>\n",
              "      <td>1020</td>\n",
              "      <td>629.074231</td>\n",
              "      <td>32.057666</td>\n",
              "      <td>112.466832</td>\n",
              "      <td>358.39</td>\n",
              "      <td>1</td>\n",
              "    </tr>\n",
              "    <tr>\n",
              "      <th>...</th>\n",
              "      <td>...</td>\n",
              "      <td>...</td>\n",
              "      <td>...</td>\n",
              "      <td>...</td>\n",
              "      <td>...</td>\n",
              "      <td>...</td>\n",
              "      <td>...</td>\n",
              "    </tr>\n",
              "    <tr>\n",
              "      <th>213803193</th>\n",
              "      <td>10.500000</td>\n",
              "      <td>840</td>\n",
              "      <td>93.000000</td>\n",
              "      <td>5.421900</td>\n",
              "      <td>451.000000</td>\n",
              "      <td>198.26</td>\n",
              "      <td>1</td>\n",
              "    </tr>\n",
              "    <tr>\n",
              "      <th>213812756</th>\n",
              "      <td>10.500000</td>\n",
              "      <td>2160</td>\n",
              "      <td>428.000000</td>\n",
              "      <td>0.000000</td>\n",
              "      <td>39.000000</td>\n",
              "      <td>581.23</td>\n",
              "      <td>1</td>\n",
              "    </tr>\n",
              "    <tr>\n",
              "      <th>213813930</th>\n",
              "      <td>10.500000</td>\n",
              "      <td>240</td>\n",
              "      <td>9.000000</td>\n",
              "      <td>0.000000</td>\n",
              "      <td>110.000000</td>\n",
              "      <td>76.20</td>\n",
              "      <td>1</td>\n",
              "    </tr>\n",
              "    <tr>\n",
              "      <th>213815405</th>\n",
              "      <td>10.500000</td>\n",
              "      <td>840</td>\n",
              "      <td>115.000000</td>\n",
              "      <td>0.000000</td>\n",
              "      <td>317.000000</td>\n",
              "      <td>133.31</td>\n",
              "      <td>1</td>\n",
              "    </tr>\n",
              "    <tr>\n",
              "      <th>213817296</th>\n",
              "      <td>10.500000</td>\n",
              "      <td>240</td>\n",
              "      <td>21.000000</td>\n",
              "      <td>1.224300</td>\n",
              "      <td>23.000000</td>\n",
              "      <td>98.57</td>\n",
              "      <td>1</td>\n",
              "    </tr>\n",
              "  </tbody>\n",
              "</table>\n",
              "<p>17176 rows × 7 columns</p>\n",
              "</div>"
            ],
            "text/plain": [
              "           additional_fare  duration  ...    fare  label\n",
              "tripid                                ...               \n",
              "189123628        10.500000       840  ...  270.32      1\n",
              "189125358        10.500000       780  ...  197.85      1\n",
              "189125719        10.500000      1080  ...  301.64      1\n",
              "189127273        10.500000       600  ...   82.30      1\n",
              "189128020        13.719651      1020  ...  358.39      1\n",
              "...                    ...       ...  ...     ...    ...\n",
              "213803193        10.500000       840  ...  198.26      1\n",
              "213812756        10.500000      2160  ...  581.23      1\n",
              "213813930        10.500000       240  ...   76.20      1\n",
              "213815405        10.500000       840  ...  133.31      1\n",
              "213817296        10.500000       240  ...   98.57      1\n",
              "\n",
              "[17176 rows x 7 columns]"
            ]
          },
          "metadata": {
            "tags": []
          },
          "execution_count": 441
        }
      ]
    },
    {
      "cell_type": "code",
      "metadata": {
        "id": "rHjdAcQ49jdH",
        "colab_type": "code",
        "colab": {}
      },
      "source": [
        "\n",
        "# Load libraries\n",
        "from pandas import read_csv\n",
        "from pandas.plotting import scatter_matrix\n",
        "from matplotlib import pyplot\n",
        "from sklearn.model_selection import train_test_split\n",
        "from sklearn.model_selection import cross_val_score\n",
        "from sklearn.model_selection import StratifiedKFold\n",
        "from sklearn.metrics import classification_report\n",
        "from sklearn.metrics import confusion_matrix\n",
        "from sklearn.metrics import accuracy_score\n",
        "from sklearn.linear_model import LogisticRegression\n",
        "from sklearn.tree import DecisionTreeClassifier\n",
        "from sklearn.neighbors import KNeighborsClassifier\n",
        "from sklearn.discriminant_analysis import LinearDiscriminantAnalysis\n",
        "from sklearn.naive_bayes import GaussianNB\n",
        "from sklearn.svm import SVC"
      ],
      "execution_count": null,
      "outputs": []
    },
    {
      "cell_type": "code",
      "metadata": {
        "id": "O3IchYmyV7HX",
        "colab_type": "code",
        "colab": {}
      },
      "source": [
        "X_train = pd.read_csv('/content/drive/My Drive/Ride_Fare/train.csv',index_col='tripid',)"
      ],
      "execution_count": null,
      "outputs": []
    },
    {
      "cell_type": "code",
      "metadata": {
        "id": "N6EVvuNcWWqG",
        "colab_type": "code",
        "colab": {}
      },
      "source": [
        "X_train"
      ],
      "execution_count": null,
      "outputs": []
    },
    {
      "cell_type": "code",
      "metadata": {
        "colab_type": "code",
        "id": "h3sL0qOFVrkY",
        "colab": {}
      },
      "source": [
        "num_rows=X_train.shape[0]\n",
        "duration_list = []\n",
        "for i in range(num_rows):\n",
        "  duration = (datetime.strptime(X_train.iloc[i]['drop_time'],'%m/%d/%Y %H:%M')- datetime.strptime(X_train.iloc[i]['pickup_time'],'%m/%d/%Y %H:%M')).seconds\n",
        "  duration_list.append(duration)\n",
        "\n",
        "X_train['duration'] = duration_list\n"
      ],
      "execution_count": null,
      "outputs": []
    },
    {
      "cell_type": "code",
      "metadata": {
        "colab_type": "code",
        "id": "daE0bvaVVrke",
        "colab": {}
      },
      "source": [
        "X_train.drop('drop_time',axis = 1,inplace=True)\n",
        "X_train.drop('pickup_time',axis = 1,inplace=True)"
      ],
      "execution_count": null,
      "outputs": []
    },
    {
      "cell_type": "code",
      "metadata": {
        "id": "w6s3ycXaWkmW",
        "colab_type": "code",
        "colab": {}
      },
      "source": [
        "X_train"
      ],
      "execution_count": null,
      "outputs": []
    },
    {
      "cell_type": "code",
      "metadata": {
        "id": "-vHsd3ZlWohd",
        "colab_type": "code",
        "colab": {}
      },
      "source": [
        "X_train.drop('pick_lat',axis = 1,inplace=True)\n",
        "X_train.drop('pick_lon',axis = 1,inplace=True)\n",
        "X_train.drop('drop_lat',axis = 1,inplace=True)\n",
        "X_train.drop('drop_lon',axis = 1,inplace=True)\n",
        "\n",
        "\n",
        "#X_train = X_train.drop('meter_waiting_fare',axis = 1)\n"
      ],
      "execution_count": null,
      "outputs": []
    },
    {
      "cell_type": "code",
      "metadata": {
        "id": "Ew9KQ8CYWyRN",
        "colab_type": "code",
        "colab": {}
      },
      "source": [
        "X_train"
      ],
      "execution_count": null,
      "outputs": []
    },
    {
      "cell_type": "code",
      "metadata": {
        "id": "4zGwcAkNW1Fp",
        "colab_type": "code",
        "colab": {}
      },
      "source": [
        "X_train['label'] = X_train['label'].replace({'correct':1 , 'incorrect':0})"
      ],
      "execution_count": null,
      "outputs": []
    },
    {
      "cell_type": "code",
      "metadata": {
        "id": "h2ucyxk3WB_f",
        "colab_type": "code",
        "colab": {}
      },
      "source": [
        "X_train = X_train.fillna(X_train.mean())"
      ],
      "execution_count": null,
      "outputs": []
    },
    {
      "cell_type": "code",
      "metadata": {
        "id": "8WOc92b6u4Au",
        "colab_type": "code",
        "colab": {}
      },
      "source": [
        "def split_train_val(X_train):\n",
        "  X_train_0 = X_train.loc[X_train['label'] == 0]\n",
        "  X_train_1 = X_train.loc[X_train['label'] == 1]\n",
        "\n",
        "\n",
        "\n",
        "  val_0 = X_train_0.sample(n=250,random_state=1)\n",
        "  train_0 = X_train_0.drop(val_0.index)\n",
        "\n",
        "  val_1 = X_train_1.sample(n=250,random_state=1)\n",
        "  train_1 = X_train_1.drop(val_1.index)\n",
        "\n",
        "  validation_set = pd.concat([val_0,val_1],axis=0)\n",
        "  validation_set = validation_set.sample(frac=1)\n",
        "\n",
        "  train_set = pd.concat([train_0,train_1],axis=0)\n",
        "  train_set = train_set.sample(frac=1)\n",
        "\n",
        "  train_set_y = train_set['label']\n",
        "  train_set_x = train_set.drop('label', axis=1)\n",
        "\n",
        "  validation_set_y = validation_set['label']\n",
        "  validation_set_x = validation_set.drop('label', axis=1)\n",
        "\n",
        "  return train_set_x, train_set_y,validation_set_x, validation_set_y"
      ],
      "execution_count": null,
      "outputs": []
    },
    {
      "cell_type": "code",
      "metadata": {
        "id": "ErwU-lG-_QDa",
        "colab_type": "code",
        "colab": {}
      },
      "source": [
        "train_set_x, train_set_y,validation_set_x, validation_set_y = split_train_val(X_train)"
      ],
      "execution_count": null,
      "outputs": []
    },
    {
      "cell_type": "code",
      "metadata": {
        "id": "GUd6QG6WWKwZ",
        "colab_type": "code",
        "colab": {
          "base_uri": "https://localhost:8080/",
          "height": 33
        },
        "outputId": "c1918481-2b5b-4604-911a-6529478e060e"
      },
      "source": [
        "(validation_set_y==1).sum()"
      ],
      "execution_count": null,
      "outputs": [
        {
          "output_type": "execute_result",
          "data": {
            "text/plain": [
              "250"
            ]
          },
          "metadata": {
            "tags": []
          },
          "execution_count": 663
        }
      ]
    },
    {
      "cell_type": "code",
      "metadata": {
        "id": "axwn7Ug9vith",
        "colab_type": "code",
        "colab": {}
      },
      "source": [
        "scaler = StandardScaler()\n",
        "scaler.fit(train_set_x)\n",
        "\n",
        "scaled_train_x = scaler.transform(train_set_x)\n",
        "scaled_validation_x = scaler.transform(validation_set_x)"
      ],
      "execution_count": null,
      "outputs": []
    },
    {
      "cell_type": "code",
      "metadata": {
        "id": "ZzteNx6mWKDP",
        "colab_type": "code",
        "colab": {}
      },
      "source": [
        "##################################################################################33"
      ],
      "execution_count": null,
      "outputs": []
    },
    {
      "cell_type": "code",
      "metadata": {
        "id": "dlxbWWEJ_8Xu",
        "colab_type": "code",
        "colab": {}
      },
      "source": [
        "X_train, Y_train = X , X_train['label']"
      ],
      "execution_count": null,
      "outputs": []
    },
    {
      "cell_type": "code",
      "metadata": {
        "id": "lkCcQaLbAFf6",
        "colab_type": "code",
        "colab": {}
      },
      "source": [
        "scaler = StandardScaler()\n",
        "\n",
        "scaler.fit(X)\n",
        "\n",
        "X = scaler.transform(X)\n"
      ],
      "execution_count": null,
      "outputs": []
    },
    {
      "cell_type": "code",
      "metadata": {
        "id": "frYLE5VQVVd-",
        "colab_type": "code",
        "colab": {}
      },
      "source": [
        "scaler = MinMaxScaler()\n",
        "\n",
        "scaler.fit(X)\n",
        "\n",
        "X = scaler.transform(X)\n"
      ],
      "execution_count": null,
      "outputs": []
    },
    {
      "cell_type": "code",
      "metadata": {
        "id": "d1b3D2K4_QuO",
        "colab_type": "code",
        "colab": {
          "base_uri": "https://localhost:8080/",
          "height": 131
        },
        "outputId": "f91bba7a-74f3-4e8d-cbbf-d30377c21823"
      },
      "source": [
        "# Spot Check Algorithms\n",
        "models = []\n",
        "models.append(('LR', LogisticRegression(solver='liblinear',penalty='l2',class_weight='balanced')))\n",
        "models.append(('LDA', LinearDiscriminantAnalysis()))\n",
        "models.append(('KNN', KNeighborsClassifier()))\n",
        "models.append(('CART', DecisionTreeClassifier()))\n",
        "models.append(('NB', GaussianNB()))\n",
        "models.append(('SVM', SVC(class_weight='balanced')))\n",
        "models.append(('RF', RandomForestClassifier()))\n",
        "\n",
        "\n",
        "# evaluate each model in turn\n",
        "results = []\n",
        "names = []\n",
        "for name, model in models:\n",
        "\tkfold = StratifiedKFold(n_splits=10, random_state=1, shuffle=True)\n",
        "\tcv_results = cross_val_score(model, X, Y, cv=kfold, scoring='accuracy')\n",
        "\tresults.append(cv_results)\n",
        "\tnames.append(name)\n",
        "\tprint('%s: %f (%f)' % (name, cv_results.mean(), cv_results.std()))\n"
      ],
      "execution_count": null,
      "outputs": [
        {
          "output_type": "stream",
          "text": [
            "LR: 0.422971 (0.068386)\n",
            "LDA: 0.902073 (0.000136)\n",
            "KNN: 0.895436 (0.002050)\n",
            "CART: 0.807872 (0.003127)\n",
            "NB: 0.807715 (0.160478)\n",
            "SVM: 0.586686 (0.190813)\n",
            "RF: 0.899162 (0.001172)\n"
          ],
          "name": "stdout"
        }
      ]
    },
    {
      "cell_type": "code",
      "metadata": {
        "id": "_yTdu8NWwEPQ",
        "colab_type": "code",
        "colab": {
          "base_uri": "https://localhost:8080/",
          "height": 817
        },
        "outputId": "16362fa1-bc88-487b-ce57-aeb2b549c254"
      },
      "source": [
        "from imblearn.ensemble import BalancedBaggingClassifier\n",
        "from sklearn.tree import DecisionTreeClassifier\n",
        "from sklearn.ensemble import RandomForestClassifier\n",
        "from sklearn import svm\n",
        "from xgboost import XGBClassifier\n",
        "\n",
        "#Create an object of the classifier.\n",
        "bbc = BalancedBaggingClassifier(base_estimator=RandomForestClassifier())\n",
        "\n",
        "y_train = train_set_y\n",
        "X_train = scaled_train_x\n",
        "\n",
        "#Train the classifier.\n",
        "bbc.fit(X_train, y_train)\n"
      ],
      "execution_count": null,
      "outputs": [
        {
          "output_type": "stream",
          "text": [
            "/usr/local/lib/python3.6/dist-packages/sklearn/utils/deprecation.py:87: FutureWarning: Function safe_indexing is deprecated; safe_indexing is deprecated in version 0.22 and will be removed in version 0.24.\n",
            "  warnings.warn(msg, category=FutureWarning)\n",
            "/usr/local/lib/python3.6/dist-packages/sklearn/utils/deprecation.py:87: FutureWarning: Function safe_indexing is deprecated; safe_indexing is deprecated in version 0.22 and will be removed in version 0.24.\n",
            "  warnings.warn(msg, category=FutureWarning)\n",
            "/usr/local/lib/python3.6/dist-packages/sklearn/utils/deprecation.py:87: FutureWarning: Function safe_indexing is deprecated; safe_indexing is deprecated in version 0.22 and will be removed in version 0.24.\n",
            "  warnings.warn(msg, category=FutureWarning)\n",
            "/usr/local/lib/python3.6/dist-packages/sklearn/utils/deprecation.py:87: FutureWarning: Function safe_indexing is deprecated; safe_indexing is deprecated in version 0.22 and will be removed in version 0.24.\n",
            "  warnings.warn(msg, category=FutureWarning)\n",
            "/usr/local/lib/python3.6/dist-packages/sklearn/utils/deprecation.py:87: FutureWarning: Function safe_indexing is deprecated; safe_indexing is deprecated in version 0.22 and will be removed in version 0.24.\n",
            "  warnings.warn(msg, category=FutureWarning)\n",
            "/usr/local/lib/python3.6/dist-packages/sklearn/utils/deprecation.py:87: FutureWarning: Function safe_indexing is deprecated; safe_indexing is deprecated in version 0.22 and will be removed in version 0.24.\n",
            "  warnings.warn(msg, category=FutureWarning)\n",
            "/usr/local/lib/python3.6/dist-packages/sklearn/utils/deprecation.py:87: FutureWarning: Function safe_indexing is deprecated; safe_indexing is deprecated in version 0.22 and will be removed in version 0.24.\n",
            "  warnings.warn(msg, category=FutureWarning)\n",
            "/usr/local/lib/python3.6/dist-packages/sklearn/utils/deprecation.py:87: FutureWarning: Function safe_indexing is deprecated; safe_indexing is deprecated in version 0.22 and will be removed in version 0.24.\n",
            "  warnings.warn(msg, category=FutureWarning)\n",
            "/usr/local/lib/python3.6/dist-packages/sklearn/utils/deprecation.py:87: FutureWarning: Function safe_indexing is deprecated; safe_indexing is deprecated in version 0.22 and will be removed in version 0.24.\n",
            "  warnings.warn(msg, category=FutureWarning)\n",
            "/usr/local/lib/python3.6/dist-packages/sklearn/utils/deprecation.py:87: FutureWarning: Function safe_indexing is deprecated; safe_indexing is deprecated in version 0.22 and will be removed in version 0.24.\n",
            "  warnings.warn(msg, category=FutureWarning)\n"
          ],
          "name": "stderr"
        },
        {
          "output_type": "execute_result",
          "data": {
            "text/plain": [
              "BalancedBaggingClassifier(base_estimator=RandomForestClassifier(bootstrap=True,\n",
              "                                                                ccp_alpha=0.0,\n",
              "                                                                class_weight=None,\n",
              "                                                                criterion='gini',\n",
              "                                                                max_depth=None,\n",
              "                                                                max_features='auto',\n",
              "                                                                max_leaf_nodes=None,\n",
              "                                                                max_samples=None,\n",
              "                                                                min_impurity_decrease=0.0,\n",
              "                                                                min_impurity_split=None,\n",
              "                                                                min_samples_leaf=1,\n",
              "                                                                min_samples_split=2,\n",
              "                                                                min_weight_fraction_leaf=0.0,\n",
              "                                                                n_estimators=100,\n",
              "                                                                n_jobs=None,\n",
              "                                                                oob_score=False,\n",
              "                                                                random_state=None,\n",
              "                                                                verbose=0,\n",
              "                                                                warm_start=False),\n",
              "                          bootstrap=True, bootstrap_features=False,\n",
              "                          max_features=1.0, max_samples=1.0, n_estimators=10,\n",
              "                          n_jobs=1, oob_score=False, random_state=None,\n",
              "                          ratio=None, replacement=False,\n",
              "                          sampling_strategy='auto', verbose=0,\n",
              "                          warm_start=False)"
            ]
          },
          "metadata": {
            "tags": []
          },
          "execution_count": 497
        }
      ]
    },
    {
      "cell_type": "code",
      "metadata": {
        "id": "w87elMcfw4FK",
        "colab_type": "code",
        "colab": {
          "base_uri": "https://localhost:8080/",
          "height": 34
        },
        "outputId": "0c68b2eb-2e7e-420a-dadb-8c5c7fa79a6c"
      },
      "source": [
        "preds\n"
      ],
      "execution_count": null,
      "outputs": [
        {
          "output_type": "execute_result",
          "data": {
            "text/plain": [
              "array([1, 1, 0, ..., 1, 1, 1])"
            ]
          },
          "metadata": {
            "tags": []
          },
          "execution_count": 498
        }
      ]
    },
    {
      "cell_type": "code",
      "metadata": {
        "id": "Wn6WuxzPw53D",
        "colab_type": "code",
        "colab": {
          "base_uri": "https://localhost:8080/",
          "height": 34
        },
        "outputId": "0ca6f84c-ee06-4f22-de7c-5b8f86668b03"
      },
      "source": [
        "from sklearn.metrics import f1_score\n",
        "\n",
        "f1 = f1_score(validation_set_y, preds, average='macro')\n",
        "f1"
      ],
      "execution_count": null,
      "outputs": [
        {
          "output_type": "execute_result",
          "data": {
            "text/plain": [
              "0.7646795234629795"
            ]
          },
          "metadata": {
            "tags": []
          },
          "execution_count": 499
        }
      ]
    },
    {
      "cell_type": "code",
      "metadata": {
        "id": "MAyKI3rv0X_h",
        "colab_type": "code",
        "colab": {
          "base_uri": "https://localhost:8080/",
          "height": 52
        },
        "outputId": "7165aa4c-8708-44e7-9b49-9ee1d27c8cf6"
      },
      "source": [
        "confusion_mat = confusion_matrix(validation_set_y, preds)\n",
        "confusion_mat"
      ],
      "execution_count": null,
      "outputs": [
        {
          "output_type": "execute_result",
          "data": {
            "text/plain": [
              "array([[ 264,   72],\n",
              "       [ 294, 2805]])"
            ]
          },
          "metadata": {
            "tags": []
          },
          "execution_count": 500
        }
      ]
    },
    {
      "cell_type": "code",
      "metadata": {
        "id": "-6qsIIPTxYQR",
        "colab_type": "code",
        "colab": {}
      },
      "source": [
        "##############      NN"
      ],
      "execution_count": null,
      "outputs": []
    },
    {
      "cell_type": "code",
      "metadata": {
        "id": "jYlVk8kR8c4C",
        "colab_type": "code",
        "colab": {
          "base_uri": "https://localhost:8080/",
          "height": 446
        },
        "outputId": "78b655b2-6c79-4a14-cfdd-c2b501dae2c0"
      },
      "source": [
        "Full_df"
      ],
      "execution_count": null,
      "outputs": [
        {
          "output_type": "execute_result",
          "data": {
            "text/html": [
              "<div>\n",
              "<style scoped>\n",
              "    .dataframe tbody tr th:only-of-type {\n",
              "        vertical-align: middle;\n",
              "    }\n",
              "\n",
              "    .dataframe tbody tr th {\n",
              "        vertical-align: top;\n",
              "    }\n",
              "\n",
              "    .dataframe thead th {\n",
              "        text-align: right;\n",
              "    }\n",
              "</style>\n",
              "<table border=\"1\" class=\"dataframe\">\n",
              "  <thead>\n",
              "    <tr style=\"text-align: right;\">\n",
              "      <th></th>\n",
              "      <th>additional_fare</th>\n",
              "      <th>duration</th>\n",
              "      <th>meter_waiting</th>\n",
              "      <th>meter_waiting_fare</th>\n",
              "      <th>meter_waiting_till_pickup</th>\n",
              "      <th>pick_lat</th>\n",
              "      <th>pick_lon</th>\n",
              "      <th>drop_lat</th>\n",
              "      <th>drop_lon</th>\n",
              "      <th>fare</th>\n",
              "      <th>label</th>\n",
              "    </tr>\n",
              "    <tr>\n",
              "      <th>tripid</th>\n",
              "      <th></th>\n",
              "      <th></th>\n",
              "      <th></th>\n",
              "      <th></th>\n",
              "      <th></th>\n",
              "      <th></th>\n",
              "      <th></th>\n",
              "      <th></th>\n",
              "      <th></th>\n",
              "      <th></th>\n",
              "      <th></th>\n",
              "    </tr>\n",
              "  </thead>\n",
              "  <tbody>\n",
              "    <tr>\n",
              "      <th>210652569</th>\n",
              "      <td>30.5</td>\n",
              "      <td>360</td>\n",
              "      <td>79.0</td>\n",
              "      <td>4.6057</td>\n",
              "      <td>14.0</td>\n",
              "      <td>7.29125</td>\n",
              "      <td>80.6192</td>\n",
              "      <td>7.28438</td>\n",
              "      <td>80.6242</td>\n",
              "      <td>110.22</td>\n",
              "      <td>1</td>\n",
              "    </tr>\n",
              "    <tr>\n",
              "      <th>191425016</th>\n",
              "      <td>10.5</td>\n",
              "      <td>2220</td>\n",
              "      <td>50.0</td>\n",
              "      <td>0.0000</td>\n",
              "      <td>1539.0</td>\n",
              "      <td>5.94957</td>\n",
              "      <td>80.5507</td>\n",
              "      <td>5.96761</td>\n",
              "      <td>80.3987</td>\n",
              "      <td>775.80</td>\n",
              "      <td>1</td>\n",
              "    </tr>\n",
              "    <tr>\n",
              "      <th>205352789</th>\n",
              "      <td>10.5</td>\n",
              "      <td>4500</td>\n",
              "      <td>269.0</td>\n",
              "      <td>0.3468</td>\n",
              "      <td>165.0</td>\n",
              "      <td>6.78494</td>\n",
              "      <td>79.8956</td>\n",
              "      <td>6.95289</td>\n",
              "      <td>79.9325</td>\n",
              "      <td>1078.41</td>\n",
              "      <td>1</td>\n",
              "    </tr>\n",
              "    <tr>\n",
              "      <th>208183333</th>\n",
              "      <td>5.0</td>\n",
              "      <td>2040</td>\n",
              "      <td>488.0</td>\n",
              "      <td>28.4504</td>\n",
              "      <td>0.0</td>\n",
              "      <td>6.91423</td>\n",
              "      <td>79.8783</td>\n",
              "      <td>6.95534</td>\n",
              "      <td>79.9205</td>\n",
              "      <td>461.49</td>\n",
              "      <td>1</td>\n",
              "    </tr>\n",
              "    <tr>\n",
              "      <th>196495407</th>\n",
              "      <td>10.5</td>\n",
              "      <td>120</td>\n",
              "      <td>0.0</td>\n",
              "      <td>0.0000</td>\n",
              "      <td>4.0</td>\n",
              "      <td>6.90655</td>\n",
              "      <td>79.9462</td>\n",
              "      <td>6.90715</td>\n",
              "      <td>79.9443</td>\n",
              "      <td>71.42</td>\n",
              "      <td>1</td>\n",
              "    </tr>\n",
              "    <tr>\n",
              "      <th>...</th>\n",
              "      <td>...</td>\n",
              "      <td>...</td>\n",
              "      <td>...</td>\n",
              "      <td>...</td>\n",
              "      <td>...</td>\n",
              "      <td>...</td>\n",
              "      <td>...</td>\n",
              "      <td>...</td>\n",
              "      <td>...</td>\n",
              "      <td>...</td>\n",
              "      <td>...</td>\n",
              "    </tr>\n",
              "    <tr>\n",
              "      <th>204020794</th>\n",
              "      <td>10.5</td>\n",
              "      <td>1620</td>\n",
              "      <td>740.0</td>\n",
              "      <td>43.1420</td>\n",
              "      <td>128.0</td>\n",
              "      <td>6.84067</td>\n",
              "      <td>79.8820</td>\n",
              "      <td>6.86364</td>\n",
              "      <td>79.8927</td>\n",
              "      <td>245.72</td>\n",
              "      <td>1</td>\n",
              "    </tr>\n",
              "    <tr>\n",
              "      <th>207677755</th>\n",
              "      <td>10.5</td>\n",
              "      <td>1140</td>\n",
              "      <td>232.0</td>\n",
              "      <td>0.0000</td>\n",
              "      <td>103.0</td>\n",
              "      <td>7.00034</td>\n",
              "      <td>79.9483</td>\n",
              "      <td>7.05068</td>\n",
              "      <td>79.9613</td>\n",
              "      <td>251.59</td>\n",
              "      <td>1</td>\n",
              "    </tr>\n",
              "    <tr>\n",
              "      <th>197524048</th>\n",
              "      <td>10.5</td>\n",
              "      <td>4380</td>\n",
              "      <td>767.0</td>\n",
              "      <td>44.3326</td>\n",
              "      <td>33.0</td>\n",
              "      <td>6.85391</td>\n",
              "      <td>79.9828</td>\n",
              "      <td>6.90010</td>\n",
              "      <td>79.8596</td>\n",
              "      <td>791.61</td>\n",
              "      <td>1</td>\n",
              "    </tr>\n",
              "    <tr>\n",
              "      <th>195569322</th>\n",
              "      <td>10.5</td>\n",
              "      <td>840</td>\n",
              "      <td>0.0</td>\n",
              "      <td>0.0000</td>\n",
              "      <td>122.0</td>\n",
              "      <td>7.12821</td>\n",
              "      <td>79.9070</td>\n",
              "      <td>7.15801</td>\n",
              "      <td>79.8709</td>\n",
              "      <td>655.41</td>\n",
              "      <td>0</td>\n",
              "    </tr>\n",
              "    <tr>\n",
              "      <th>203990066</th>\n",
              "      <td>10.5</td>\n",
              "      <td>2700</td>\n",
              "      <td>815.0</td>\n",
              "      <td>0.0000</td>\n",
              "      <td>15.0</td>\n",
              "      <td>6.87435</td>\n",
              "      <td>79.8578</td>\n",
              "      <td>6.84855</td>\n",
              "      <td>79.9764</td>\n",
              "      <td>561.29</td>\n",
              "      <td>1</td>\n",
              "    </tr>\n",
              "  </tbody>\n",
              "</table>\n",
              "<p>17176 rows × 11 columns</p>\n",
              "</div>"
            ],
            "text/plain": [
              "           additional_fare  duration  meter_waiting  ...  drop_lon     fare  label\n",
              "tripid                                               ...                          \n",
              "210652569             30.5       360           79.0  ...   80.6242   110.22      1\n",
              "191425016             10.5      2220           50.0  ...   80.3987   775.80      1\n",
              "205352789             10.5      4500          269.0  ...   79.9325  1078.41      1\n",
              "208183333              5.0      2040          488.0  ...   79.9205   461.49      1\n",
              "196495407             10.5       120            0.0  ...   79.9443    71.42      1\n",
              "...                    ...       ...            ...  ...       ...      ...    ...\n",
              "204020794             10.5      1620          740.0  ...   79.8927   245.72      1\n",
              "207677755             10.5      1140          232.0  ...   79.9613   251.59      1\n",
              "197524048             10.5      4380          767.0  ...   79.8596   791.61      1\n",
              "195569322             10.5       840            0.0  ...   79.8709   655.41      0\n",
              "203990066             10.5      2700          815.0  ...   79.9764   561.29      1\n",
              "\n",
              "[17176 rows x 11 columns]"
            ]
          },
          "metadata": {
            "tags": []
          },
          "execution_count": 345
        }
      ]
    },
    {
      "cell_type": "code",
      "metadata": {
        "id": "OefOC0bY8fGr",
        "colab_type": "code",
        "colab": {}
      },
      "source": [
        "y = Full_df['label']"
      ],
      "execution_count": null,
      "outputs": []
    },
    {
      "cell_type": "code",
      "metadata": {
        "id": "qyhMsVTx8lKz",
        "colab_type": "code",
        "colab": {}
      },
      "source": [
        "X = Full_df.drop('label',axis=1)"
      ],
      "execution_count": null,
      "outputs": []
    },
    {
      "cell_type": "code",
      "metadata": {
        "id": "yZ68_CPX8xi6",
        "colab_type": "code",
        "colab": {}
      },
      "source": [
        "scaler = StandardScaler()\n",
        "scaler.fit(X)\n",
        "\n",
        "scaled_train_x = scaler.transform(X)\n"
      ],
      "execution_count": null,
      "outputs": []
    },
    {
      "cell_type": "code",
      "metadata": {
        "id": "VVyipvsQLSc3",
        "colab_type": "code",
        "colab": {}
      },
      "source": [
        ""
      ],
      "execution_count": null,
      "outputs": []
    },
    {
      "cell_type": "code",
      "metadata": {
        "id": "TfLi5MIm4GOI",
        "colab_type": "code",
        "colab": {}
      },
      "source": [
        "from keras.models import Sequential\n",
        "from keras.layers import Dense"
      ],
      "execution_count": null,
      "outputs": []
    },
    {
      "cell_type": "code",
      "metadata": {
        "id": "RiIRZoDo4Gpq",
        "colab_type": "code",
        "colab": {}
      },
      "source": [
        "# define the keras model\n",
        "model = Sequential()\n",
        "model.add(Dense(12, input_dim=6, activation='relu'))\n",
        "model.add(Dense(10, activation='relu'))\n",
        "model.add(Dense(4, activation='relu'))\n",
        "\n",
        "model.add(Dense(1, activation='sigmoid'))"
      ],
      "execution_count": null,
      "outputs": []
    },
    {
      "cell_type": "code",
      "metadata": {
        "id": "UosqKd7l4VLl",
        "colab_type": "code",
        "colab": {}
      },
      "source": [
        "\n",
        "# compile the keras model\n",
        "model.compile(loss='binary_crossentropy', optimizer='adam', metrics=['accuracy'])"
      ],
      "execution_count": null,
      "outputs": []
    },
    {
      "cell_type": "code",
      "metadata": {
        "id": "8Ypm6B2MZLgG",
        "colab_type": "code",
        "colab": {}
      },
      "source": [
        "'''\n",
        "scaled_train_x = scaler.transform(train_set_x)\n",
        "scaled_validation_x = scaler.transform(validation_set_x)\n",
        "\n",
        "train_set_x, train_set_y,validation_set_x, validation_set_y = split_train_val(X_train)\n",
        "'''"
      ],
      "execution_count": null,
      "outputs": []
    },
    {
      "cell_type": "code",
      "metadata": {
        "id": "b1qdxw_iaFUv",
        "colab_type": "code",
        "colab": {}
      },
      "source": [
        "weights = {0:2,1:1}"
      ],
      "execution_count": null,
      "outputs": []
    },
    {
      "cell_type": "code",
      "metadata": {
        "id": "vX4jHrlIBqEv",
        "colab_type": "code",
        "colab": {}
      },
      "source": [
        "X_train"
      ],
      "execution_count": null,
      "outputs": []
    },
    {
      "cell_type": "code",
      "metadata": {
        "id": "LO6vXYue4ZoR",
        "colab_type": "code",
        "colab": {
          "base_uri": "https://localhost:8080/",
          "height": 423
        },
        "outputId": "d75d31c7-bfc6-4570-ea95-ec8cc7044b97"
      },
      "source": [
        "# fit the keras model on the dataset\n",
        "history = model.fit(scaled_train_x, train_set_y, epochs=12, batch_size=10,validation_split=0.33,class_weight=weights)"
      ],
      "execution_count": null,
      "outputs": [
        {
          "output_type": "stream",
          "text": [
            "Train on 11170 samples, validate on 5503 samples\n",
            "Epoch 1/12\n",
            "11170/11170 [==============================] - 2s 193us/step - loss: 0.4371 - accuracy: 0.9176 - val_loss: 0.4089 - val_accuracy: 0.9137\n",
            "Epoch 2/12\n",
            "11170/11170 [==============================] - 2s 170us/step - loss: 0.3761 - accuracy: 0.9181 - val_loss: 0.3689 - val_accuracy: 0.9155\n",
            "Epoch 3/12\n",
            "11170/11170 [==============================] - 2s 171us/step - loss: 0.3441 - accuracy: 0.9299 - val_loss: 0.3431 - val_accuracy: 0.9313\n",
            "Epoch 4/12\n",
            "11170/11170 [==============================] - 2s 171us/step - loss: 0.3178 - accuracy: 0.9394 - val_loss: 0.3184 - val_accuracy: 0.9379\n",
            "Epoch 5/12\n",
            "11170/11170 [==============================] - 2s 169us/step - loss: 0.2993 - accuracy: 0.9432 - val_loss: 0.3150 - val_accuracy: 0.9409\n",
            "Epoch 6/12\n",
            "11170/11170 [==============================] - 2s 171us/step - loss: 0.2839 - accuracy: 0.9449 - val_loss: 0.2899 - val_accuracy: 0.9406\n",
            "Epoch 7/12\n",
            "11170/11170 [==============================] - 2s 171us/step - loss: 0.2732 - accuracy: 0.9450 - val_loss: 0.2844 - val_accuracy: 0.9415\n",
            "Epoch 8/12\n",
            "11170/11170 [==============================] - 2s 168us/step - loss: 0.2645 - accuracy: 0.9483 - val_loss: 0.2893 - val_accuracy: 0.9466\n",
            "Epoch 9/12\n",
            "11170/11170 [==============================] - 2s 173us/step - loss: 0.2583 - accuracy: 0.9475 - val_loss: 0.2743 - val_accuracy: 0.9471\n",
            "Epoch 10/12\n",
            "11170/11170 [==============================] - 2s 171us/step - loss: 0.2523 - accuracy: 0.9479 - val_loss: 0.2748 - val_accuracy: 0.9489\n",
            "Epoch 11/12\n",
            "11170/11170 [==============================] - 2s 167us/step - loss: 0.2494 - accuracy: 0.9491 - val_loss: 0.2651 - val_accuracy: 0.9488\n",
            "Epoch 12/12\n",
            "11170/11170 [==============================] - 2s 170us/step - loss: 0.2437 - accuracy: 0.9501 - val_loss: 0.2595 - val_accuracy: 0.9458\n"
          ],
          "name": "stdout"
        }
      ]
    },
    {
      "cell_type": "code",
      "metadata": {
        "id": "_4sxoG5x7aJz",
        "colab_type": "code",
        "colab": {
          "base_uri": "https://localhost:8080/",
          "height": 588
        },
        "outputId": "c320e4d5-3d16-4555-a2d7-fcfe87bb0e9a"
      },
      "source": [
        "print(history.history.keys())\n",
        "# summarize history for accuracy\n",
        "plt.plot(history.history['accuracy'])\n",
        "plt.plot(history.history['val_accuracy'])\n",
        "plt.title('model accuracy')\n",
        "plt.ylabel('accuracy')\n",
        "plt.xlabel('epoch')\n",
        "plt.legend(['train', 'test'], loc='upper left')\n",
        "plt.show()\n",
        "# summarize history for loss\n",
        "plt.plot(history.history['loss'])\n",
        "plt.plot(history.history['val_loss'])\n",
        "plt.title('model loss')\n",
        "plt.ylabel('loss')\n",
        "plt.xlabel('epoch')\n",
        "plt.legend(['train', 'test'], loc='upper left')\n",
        "plt.show()"
      ],
      "execution_count": null,
      "outputs": [
        {
          "output_type": "stream",
          "text": [
            "dict_keys(['val_loss', 'val_accuracy', 'loss', 'accuracy'])\n"
          ],
          "name": "stdout"
        },
        {
          "output_type": "display_data",
          "data": {
            "image/png": "[encoded data removed]",
            "text/plain": [
              "<Figure size 432x288 with 1 Axes>"
            ]
          },
          "metadata": {
            "tags": [],
            "needs_background": "light"
          }
        },
        {
          "output_type": "display_data",
          "data": {
            "image/png": "[encoded data removed]",
            "text/plain": [
              "<Figure size 432x288 with 1 Axes>"
            ]
          },
          "metadata": {
            "tags": [],
            "needs_background": "light"
          }
        }
      ]
    },
    {
      "cell_type": "code",
      "metadata": {
        "id": "1k8vE8F04nh2",
        "colab_type": "code",
        "colab": {}
      },
      "source": [
        "preds = model.predict(scaled_validation_x)"
      ],
      "execution_count": null,
      "outputs": []
    },
    {
      "cell_type": "code",
      "metadata": {
        "id": "YRVvemda5WdB",
        "colab_type": "code",
        "colab": {}
      },
      "source": [
        "preds"
      ],
      "execution_count": null,
      "outputs": []
    },
    {
      "cell_type": "code",
      "metadata": {
        "id": "BLuDyO_05j3k",
        "colab_type": "code",
        "colab": {}
      },
      "source": [
        "class_preds=[]\n",
        "for pred in preds:\n",
        "  if pred>0.65:\n",
        "    class_preds.append(1)\n",
        "  else:\n",
        "    class_preds.append(0)"
      ],
      "execution_count": null,
      "outputs": []
    },
    {
      "cell_type": "code",
      "metadata": {
        "colab_type": "code",
        "id": "2Qpxwxqw5XVQ",
        "colab": {
          "base_uri": "https://localhost:8080/",
          "height": 33
        },
        "outputId": "180ec63c-fad0-4d5f-a10e-6329102e2c08"
      },
      "source": [
        "from sklearn.metrics import f1_score\n",
        "\n",
        "f1 = f1_score(validation_set_y, class_preds, average='macro')\n",
        "f1"
      ],
      "execution_count": null,
      "outputs": [
        {
          "output_type": "execute_result",
          "data": {
            "text/plain": [
              "0.8179028132992328"
            ]
          },
          "metadata": {
            "tags": []
          },
          "execution_count": 791
        }
      ]
    },
    {
      "cell_type": "code",
      "metadata": {
        "colab_type": "code",
        "id": "6x92WVTW5XVi",
        "colab": {
          "base_uri": "https://localhost:8080/",
          "height": 50
        },
        "outputId": "eee4ff22-93cb-40e8-affa-1883d89e1fa3"
      },
      "source": [
        "confusion_mat = confusion_matrix(validation_set_y, class_preds)\n",
        "confusion_mat"
      ],
      "execution_count": null,
      "outputs": [
        {
          "output_type": "execute_result",
          "data": {
            "text/plain": [
              "array([[168,  82],\n",
              "       [  7, 243]])"
            ]
          },
          "metadata": {
            "tags": []
          },
          "execution_count": 792
        }
      ]
    },
    {
      "cell_type": "code",
      "metadata": {
        "id": "ntzxZieha0j5",
        "colab_type": "code",
        "colab": {}
      },
      "source": [
        "import pickle\n",
        "filename = '/content/drive/My Drive/Ride_Fare/model_81.pkl'\n",
        "outfile = open(filename,'wb')\n",
        "\n",
        "pickle.dump(model,outfile)"
      ],
      "execution_count": null,
      "outputs": []
    },
    {
      "cell_type": "code",
      "metadata": {
        "id": "7uJrsTnNa0w9",
        "colab_type": "code",
        "colab": {
          "base_uri": "https://localhost:8080/",
          "height": 175
        },
        "outputId": "677ff29c-b43c-4c75-8d36-1c42c5f8166c"
      },
      "source": [
        "infile = open('/content/drive/My Drive/Ride_Fare/model_81.pkl','rb')\n",
        "model = pickle.load(infile)"
      ],
      "execution_count": null,
      "outputs": [
        {
          "output_type": "error",
          "ename": "EOFError",
          "evalue": "ignored",
          "traceback": [
            "\u001b[0;31m---------------------------------------------------------------------------\u001b[0m",
            "\u001b[0;31mEOFError\u001b[0m                                  Traceback (most recent call last)",
            "\u001b[0;32m<ipython-input-856-e3e75d2ebe97>\u001b[0m in \u001b[0;36m<module>\u001b[0;34m()\u001b[0m\n\u001b[1;32m      1\u001b[0m \u001b[0minfile\u001b[0m \u001b[0;34m=\u001b[0m \u001b[0mopen\u001b[0m\u001b[0;34m(\u001b[0m\u001b[0;34m'/content/drive/My Drive/Ride_Fare/model_81.pkl'\u001b[0m\u001b[0;34m,\u001b[0m\u001b[0;34m'rb'\u001b[0m\u001b[0;34m)\u001b[0m\u001b[0;34m\u001b[0m\u001b[0;34m\u001b[0m\u001b[0m\n\u001b[0;32m----> 2\u001b[0;31m \u001b[0mmodel\u001b[0m \u001b[0;34m=\u001b[0m \u001b[0mpickle\u001b[0m\u001b[0;34m.\u001b[0m\u001b[0mload\u001b[0m\u001b[0;34m(\u001b[0m\u001b[0minfile\u001b[0m\u001b[0;34m)\u001b[0m\u001b[0;34m\u001b[0m\u001b[0;34m\u001b[0m\u001b[0m\n\u001b[0m",
            "\u001b[0;31mEOFError\u001b[0m: Ran out of input"
          ]
        }
      ]
    },
    {
      "cell_type": "code",
      "metadata": {
        "id": "wYNC6unCq30c",
        "colab_type": "code",
        "colab": {}
      },
      "source": [
        ""
      ],
      "execution_count": null,
      "outputs": []
    },
    {
      "cell_type": "code",
      "metadata": {
        "colab_type": "code",
        "id": "kgS1CvsHq4NK",
        "colab": {}
      },
      "source": [
        "X_train = pd.read_csv('/content/drive/My Drive/Ride_Fare/train.csv',index_col='tripid',)"
      ],
      "execution_count": null,
      "outputs": []
    },
    {
      "cell_type": "code",
      "metadata": {
        "colab_type": "code",
        "id": "bF-BbeCdq4NR",
        "colab": {}
      },
      "source": [
        "X_train"
      ],
      "execution_count": null,
      "outputs": []
    },
    {
      "cell_type": "code",
      "metadata": {
        "colab_type": "code",
        "id": "xcta6ESzq4NU",
        "colab": {}
      },
      "source": [
        "num_rows=X_train.shape[0]\n",
        "duration_list = []\n",
        "for i in range(num_rows):\n",
        "  duration = (datetime.strptime(X_train.iloc[i]['drop_time'],'%m/%d/%Y %H:%M')- datetime.strptime(X_train.iloc[i]['pickup_time'],'%m/%d/%Y %H:%M')).seconds\n",
        "  duration_list.append(duration)\n",
        "\n",
        "X_train['duration'] = duration_list\n"
      ],
      "execution_count": null,
      "outputs": []
    },
    {
      "cell_type": "code",
      "metadata": {
        "colab_type": "code",
        "id": "THbWdtubq4Na",
        "colab": {}
      },
      "source": [
        "X_train.drop('drop_time',axis = 1,inplace=True)\n",
        "X_train.drop('pickup_time',axis = 1,inplace=True)"
      ],
      "execution_count": null,
      "outputs": []
    },
    {
      "cell_type": "code",
      "metadata": {
        "colab_type": "code",
        "id": "EHr-Qd98q4Ne",
        "colab": {}
      },
      "source": [
        "X_train"
      ],
      "execution_count": null,
      "outputs": []
    },
    {
      "cell_type": "code",
      "metadata": {
        "colab_type": "code",
        "id": "H5kovKbDq4Ni",
        "colab": {}
      },
      "source": [
        "X_train.drop('pick_lat',axis = 1,inplace=True)\n",
        "X_train.drop('pick_lon',axis = 1,inplace=True)\n",
        "X_train.drop('drop_lat',axis = 1,inplace=True)\n",
        "X_train.drop('drop_lon',axis = 1,inplace=True)\n",
        "\n",
        "\n",
        "#X_train = X_train.drop('meter_waiting_fare',axis = 1)\n"
      ],
      "execution_count": null,
      "outputs": []
    },
    {
      "cell_type": "code",
      "metadata": {
        "colab_type": "code",
        "id": "ryN8uJqxq4Nk",
        "colab": {}
      },
      "source": [
        "X_train"
      ],
      "execution_count": null,
      "outputs": []
    },
    {
      "cell_type": "code",
      "metadata": {
        "colab_type": "code",
        "id": "gmCS2BHdq4No",
        "colab": {}
      },
      "source": [
        "X_train['label'] = X_train['label'].replace({'correct':1 , 'incorrect':0})"
      ],
      "execution_count": null,
      "outputs": []
    },
    {
      "cell_type": "code",
      "metadata": {
        "colab_type": "code",
        "id": "ziMUm0G0q4Nq",
        "colab": {}
      },
      "source": [
        "X_train = X_train.fillna(X_train.mean())"
      ],
      "execution_count": null,
      "outputs": []
    },
    {
      "cell_type": "code",
      "metadata": {
        "id": "Br_lKJoZa03p",
        "colab_type": "code",
        "colab": {}
      },
      "source": [
        "Y = X_train['label']\n",
        "X = X_train.drop('label',axis=1)"
      ],
      "execution_count": null,
      "outputs": []
    },
    {
      "cell_type": "code",
      "metadata": {
        "colab_type": "code",
        "id": "fKyDgUCxpmjn",
        "colab": {}
      },
      "source": [
        "# define the keras model\n",
        "model = Sequential()\n",
        "model.add(Dense(12, input_dim=6, activation='relu'))\n",
        "model.add(Dense(10, activation='relu'))\n",
        "model.add(Dense(4, activation='relu'))\n",
        "\n",
        "model.add(Dense(1, activation='sigmoid'))"
      ],
      "execution_count": null,
      "outputs": []
    },
    {
      "cell_type": "code",
      "metadata": {
        "colab_type": "code",
        "id": "qShr39UGpmj5",
        "colab": {}
      },
      "source": [
        "\n",
        "# compile the keras model\n",
        "model.compile(loss='binary_crossentropy', optimizer='adam', metrics=['accuracy'])"
      ],
      "execution_count": null,
      "outputs": []
    },
    {
      "cell_type": "code",
      "metadata": {
        "colab_type": "code",
        "id": "v2MpRjxZpmj_",
        "colab": {}
      },
      "source": [
        "'''\n",
        "scaled_train_x = scaler.transform(train_set_x)\n",
        "scaled_validation_x = scaler.transform(validation_set_x)\n",
        "\n",
        "train_set_x, train_set_y,validation_set_x, validation_set_y = split_train_val(X_train)\n",
        "'''"
      ],
      "execution_count": null,
      "outputs": []
    },
    {
      "cell_type": "code",
      "metadata": {
        "colab_type": "code",
        "id": "W0rMknNcpmkF",
        "colab": {}
      },
      "source": [
        "weights = {0:2,1:1}"
      ],
      "execution_count": null,
      "outputs": []
    },
    {
      "cell_type": "code",
      "metadata": {
        "id": "T4FIp8ByqWuU",
        "colab_type": "code",
        "colab": {}
      },
      "source": [
        ""
      ],
      "execution_count": null,
      "outputs": []
    },
    {
      "cell_type": "code",
      "metadata": {
        "colab_type": "code",
        "id": "wCK-UiszpmkJ",
        "colab": {
          "base_uri": "https://localhost:8080/",
          "height": 1000
        },
        "outputId": "dcc861e2-e781-4358-bd5a-e4150db388bf"
      },
      "source": [
        "# fit the keras model on the dataset\n",
        "history = model.fit(X, Y, epochs=30, batch_size=10,validation_split=0.33,class_weight=weights)"
      ],
      "execution_count": null,
      "outputs": [
        {
          "output_type": "stream",
          "text": [
            "Train on 11507 samples, validate on 5669 samples\n",
            "Epoch 1/30\n",
            "11507/11507 [==============================] - 2s 186us/step - loss: 11.8666 - accuracy: 0.8030 - val_loss: 3.5233 - val_accuracy: 0.9259\n",
            "Epoch 2/30\n",
            "11507/11507 [==============================] - 2s 169us/step - loss: 3.5253 - accuracy: 0.8734 - val_loss: 1.2040 - val_accuracy: 0.9215\n",
            "Epoch 3/30\n",
            "11507/11507 [==============================] - 2s 169us/step - loss: 0.8246 - accuracy: 0.8988 - val_loss: 0.4683 - val_accuracy: 0.9212\n",
            "Epoch 4/30\n",
            "11507/11507 [==============================] - 2s 165us/step - loss: 0.6487 - accuracy: 0.9007 - val_loss: 0.4751 - val_accuracy: 0.9215\n",
            "Epoch 5/30\n",
            "11507/11507 [==============================] - 2s 168us/step - loss: 0.5457 - accuracy: 0.9017 - val_loss: 0.4549 - val_accuracy: 0.9220\n",
            "Epoch 6/30\n",
            "11507/11507 [==============================] - 2s 167us/step - loss: 0.5000 - accuracy: 0.9065 - val_loss: 0.4529 - val_accuracy: 0.9220\n",
            "Epoch 7/30\n",
            "11507/11507 [==============================] - 2s 168us/step - loss: 0.4889 - accuracy: 0.9091 - val_loss: 0.4285 - val_accuracy: 0.9270\n",
            "Epoch 8/30\n",
            "11507/11507 [==============================] - 2s 168us/step - loss: 0.4948 - accuracy: 0.9089 - val_loss: 0.4266 - val_accuracy: 0.9259\n",
            "Epoch 9/30\n",
            "11507/11507 [==============================] - 2s 170us/step - loss: 0.4796 - accuracy: 0.9117 - val_loss: 0.4746 - val_accuracy: 0.9136\n",
            "Epoch 10/30\n",
            "11507/11507 [==============================] - 2s 170us/step - loss: 0.4603 - accuracy: 0.9152 - val_loss: 0.4022 - val_accuracy: 0.9307\n",
            "Epoch 11/30\n",
            "11507/11507 [==============================] - 2s 170us/step - loss: 0.5204 - accuracy: 0.9170 - val_loss: 0.4008 - val_accuracy: 0.9335\n",
            "Epoch 12/30\n",
            "11507/11507 [==============================] - 2s 166us/step - loss: 0.4491 - accuracy: 0.9174 - val_loss: 0.3942 - val_accuracy: 0.9333\n",
            "Epoch 13/30\n",
            "11507/11507 [==============================] - 2s 171us/step - loss: 0.4464 - accuracy: 0.9210 - val_loss: 0.3996 - val_accuracy: 0.9307\n",
            "Epoch 14/30\n",
            "11507/11507 [==============================] - 2s 167us/step - loss: 0.5323 - accuracy: 0.9198 - val_loss: 0.3725 - val_accuracy: 0.9363\n",
            "Epoch 15/30\n",
            "11507/11507 [==============================] - 2s 170us/step - loss: 0.4287 - accuracy: 0.9223 - val_loss: 0.3875 - val_accuracy: 0.9330\n",
            "Epoch 16/30\n",
            "11507/11507 [==============================] - 2s 170us/step - loss: 0.4235 - accuracy: 0.9209 - val_loss: 0.3688 - val_accuracy: 0.9354\n",
            "Epoch 17/30\n",
            "11507/11507 [==============================] - 2s 168us/step - loss: 0.4187 - accuracy: 0.9212 - val_loss: 0.3388 - val_accuracy: 0.9406\n",
            "Epoch 18/30\n",
            "11507/11507 [==============================] - 2s 169us/step - loss: 0.3990 - accuracy: 0.9280 - val_loss: 0.9416 - val_accuracy: 0.9428\n",
            "Epoch 19/30\n",
            "11507/11507 [==============================] - 2s 169us/step - loss: 0.3986 - accuracy: 0.9298 - val_loss: 0.3556 - val_accuracy: 0.9391\n",
            "Epoch 20/30\n",
            "11507/11507 [==============================] - 2s 170us/step - loss: 0.4032 - accuracy: 0.9268 - val_loss: 0.3435 - val_accuracy: 0.9423\n",
            "Epoch 21/30\n",
            "11507/11507 [==============================] - 2s 168us/step - loss: 0.3884 - accuracy: 0.9291 - val_loss: 0.3403 - val_accuracy: 0.9409\n",
            "Epoch 22/30\n",
            "11507/11507 [==============================] - 2s 168us/step - loss: 0.3867 - accuracy: 0.9290 - val_loss: 0.3247 - val_accuracy: 0.9446\n",
            "Epoch 23/30\n",
            "11507/11507 [==============================] - 2s 168us/step - loss: 0.3858 - accuracy: 0.9300 - val_loss: 0.3313 - val_accuracy: 0.9423\n",
            "Epoch 24/30\n",
            "11507/11507 [==============================] - 2s 172us/step - loss: 0.3939 - accuracy: 0.9269 - val_loss: 0.3240 - val_accuracy: 0.9423\n",
            "Epoch 25/30\n",
            "11507/11507 [==============================] - 2s 169us/step - loss: 0.6617 - accuracy: 0.9287 - val_loss: 0.3320 - val_accuracy: 0.9397\n",
            "Epoch 26/30\n",
            "11507/11507 [==============================] - 2s 171us/step - loss: 0.3973 - accuracy: 0.9280 - val_loss: 0.3216 - val_accuracy: 0.9427\n",
            "Epoch 27/30\n",
            "11507/11507 [==============================] - 2s 169us/step - loss: 0.3921 - accuracy: 0.9279 - val_loss: 0.3238 - val_accuracy: 0.9414\n",
            "Epoch 28/30\n",
            "11507/11507 [==============================] - 2s 168us/step - loss: 0.3965 - accuracy: 0.9376 - val_loss: 0.3303 - val_accuracy: 0.9407\n",
            "Epoch 29/30\n",
            "11507/11507 [==============================] - 2s 172us/step - loss: 0.3963 - accuracy: 0.9279 - val_loss: 0.3205 - val_accuracy: 0.9427\n",
            "Epoch 30/30\n",
            "11507/11507 [==============================] - 2s 170us/step - loss: 0.3787 - accuracy: 0.9320 - val_loss: 0.3310 - val_accuracy: 0.9418\n"
          ],
          "name": "stdout"
        }
      ]
    },
    {
      "cell_type": "code",
      "metadata": {
        "id": "n7VSLn_ka02c",
        "colab_type": "code",
        "colab": {}
      },
      "source": [
        ""
      ],
      "execution_count": null,
      "outputs": []
    },
    {
      "cell_type": "code",
      "metadata": {
        "id": "D2pQ8ztza00o",
        "colab_type": "code",
        "colab": {}
      },
      "source": [
        ""
      ],
      "execution_count": null,
      "outputs": []
    },
    {
      "cell_type": "code",
      "metadata": {
        "id": "uRoyAMCca0vJ",
        "colab_type": "code",
        "colab": {}
      },
      "source": [
        ""
      ],
      "execution_count": null,
      "outputs": []
    },
    {
      "cell_type": "code",
      "metadata": {
        "id": "XwFbIuiL5Wx6",
        "colab_type": "code",
        "colab": {}
      },
      "source": [
        "############################ AUGMENTATION ###########################"
      ],
      "execution_count": null,
      "outputs": []
    },
    {
      "cell_type": "code",
      "metadata": {
        "id": "fGNNmm7Fspso",
        "colab_type": "code",
        "colab": {}
      },
      "source": [
        ""
      ],
      "execution_count": null,
      "outputs": []
    },
    {
      "cell_type": "code",
      "metadata": {
        "colab_type": "code",
        "id": "Y3pU6KgvsqPV",
        "colab": {}
      },
      "source": [
        "X_train = pd.read_csv('/content/drive/My Drive/Ride_Fare/train.csv',index_col='tripid',)"
      ],
      "execution_count": null,
      "outputs": []
    },
    {
      "cell_type": "code",
      "metadata": {
        "colab_type": "code",
        "id": "Ui3m4pw5sqPn",
        "colab": {}
      },
      "source": [
        "X_train"
      ],
      "execution_count": null,
      "outputs": []
    },
    {
      "cell_type": "code",
      "metadata": {
        "colab_type": "code",
        "id": "KemBENtdsqPw",
        "colab": {}
      },
      "source": [
        "num_rows=X_train.shape[0]\n",
        "duration_list = []\n",
        "for i in range(num_rows):\n",
        "  duration = (datetime.strptime(X_train.iloc[i]['drop_time'],'%m/%d/%Y %H:%M')- datetime.strptime(X_train.iloc[i]['pickup_time'],'%m/%d/%Y %H:%M')).seconds\n",
        "  duration_list.append(duration)\n",
        "\n",
        "X_train['duration'] = duration_list\n"
      ],
      "execution_count": null,
      "outputs": []
    },
    {
      "cell_type": "code",
      "metadata": {
        "colab_type": "code",
        "id": "9PDgZrbasqP0",
        "colab": {}
      },
      "source": [
        "X_train = X_train.drop('drop_time',axis = 1)\n",
        "X_train = X_train.drop('pickup_time',axis = 1)"
      ],
      "execution_count": null,
      "outputs": []
    },
    {
      "cell_type": "code",
      "metadata": {
        "colab_type": "code",
        "id": "PR4_pF2vsqP4",
        "colab": {}
      },
      "source": [
        "X_train = X_train.drop('pick_lat',axis = 1)\n",
        "X_train = X_train.drop('pick_lon',axis = 1)\n",
        "X_train = X_train.drop('drop_lat',axis = 1)\n",
        "X_train = X_train.drop('drop_lon',axis = 1)"
      ],
      "execution_count": null,
      "outputs": []
    },
    {
      "cell_type": "code",
      "metadata": {
        "colab_type": "code",
        "id": "ZIgj62bBszYq",
        "colab": {}
      },
      "source": [
        "X_train['label'] = X_train['label'].replace({'correct':1 , 'incorrect':0})"
      ],
      "execution_count": null,
      "outputs": []
    },
    {
      "cell_type": "code",
      "metadata": {
        "colab_type": "code",
        "id": "Q1rU1OmoszY3",
        "colab": {
          "base_uri": "https://localhost:8080/",
          "height": 420
        },
        "outputId": "020c242f-b5ba-42e0-d755-eb243491b483"
      },
      "source": [
        "X_train"
      ],
      "execution_count": null,
      "outputs": [
        {
          "output_type": "execute_result",
          "data": {
            "text/html": [
              "<div>\n",
              "<style scoped>\n",
              "    .dataframe tbody tr th:only-of-type {\n",
              "        vertical-align: middle;\n",
              "    }\n",
              "\n",
              "    .dataframe tbody tr th {\n",
              "        vertical-align: top;\n",
              "    }\n",
              "\n",
              "    .dataframe thead th {\n",
              "        text-align: right;\n",
              "    }\n",
              "</style>\n",
              "<table border=\"1\" class=\"dataframe\">\n",
              "  <thead>\n",
              "    <tr style=\"text-align: right;\">\n",
              "      <th></th>\n",
              "      <th>additional_fare</th>\n",
              "      <th>duration</th>\n",
              "      <th>meter_waiting</th>\n",
              "      <th>meter_waiting_fare</th>\n",
              "      <th>meter_waiting_till_pickup</th>\n",
              "      <th>fare</th>\n",
              "      <th>label</th>\n",
              "    </tr>\n",
              "    <tr>\n",
              "      <th>tripid</th>\n",
              "      <th></th>\n",
              "      <th></th>\n",
              "      <th></th>\n",
              "      <th></th>\n",
              "      <th></th>\n",
              "      <th></th>\n",
              "      <th></th>\n",
              "    </tr>\n",
              "  </thead>\n",
              "  <tbody>\n",
              "    <tr>\n",
              "      <th>189123628</th>\n",
              "      <td>10.5</td>\n",
              "      <td>840</td>\n",
              "      <td>56.0</td>\n",
              "      <td>0.0000</td>\n",
              "      <td>64.0</td>\n",
              "      <td>270.32</td>\n",
              "      <td>1</td>\n",
              "    </tr>\n",
              "    <tr>\n",
              "      <th>189125358</th>\n",
              "      <td>10.5</td>\n",
              "      <td>780</td>\n",
              "      <td>47.0</td>\n",
              "      <td>0.0000</td>\n",
              "      <td>134.0</td>\n",
              "      <td>197.85</td>\n",
              "      <td>1</td>\n",
              "    </tr>\n",
              "    <tr>\n",
              "      <th>189125719</th>\n",
              "      <td>10.5</td>\n",
              "      <td>1080</td>\n",
              "      <td>80.0</td>\n",
              "      <td>0.0000</td>\n",
              "      <td>61.0</td>\n",
              "      <td>301.64</td>\n",
              "      <td>1</td>\n",
              "    </tr>\n",
              "    <tr>\n",
              "      <th>189127273</th>\n",
              "      <td>10.5</td>\n",
              "      <td>600</td>\n",
              "      <td>271.0</td>\n",
              "      <td>15.6638</td>\n",
              "      <td>68.0</td>\n",
              "      <td>82.30</td>\n",
              "      <td>1</td>\n",
              "    </tr>\n",
              "    <tr>\n",
              "      <th>189128020</th>\n",
              "      <td>NaN</td>\n",
              "      <td>1020</td>\n",
              "      <td>NaN</td>\n",
              "      <td>NaN</td>\n",
              "      <td>NaN</td>\n",
              "      <td>358.39</td>\n",
              "      <td>1</td>\n",
              "    </tr>\n",
              "    <tr>\n",
              "      <th>...</th>\n",
              "      <td>...</td>\n",
              "      <td>...</td>\n",
              "      <td>...</td>\n",
              "      <td>...</td>\n",
              "      <td>...</td>\n",
              "      <td>...</td>\n",
              "      <td>...</td>\n",
              "    </tr>\n",
              "    <tr>\n",
              "      <th>213803193</th>\n",
              "      <td>10.5</td>\n",
              "      <td>840</td>\n",
              "      <td>93.0</td>\n",
              "      <td>5.4219</td>\n",
              "      <td>451.0</td>\n",
              "      <td>198.26</td>\n",
              "      <td>1</td>\n",
              "    </tr>\n",
              "    <tr>\n",
              "      <th>213812756</th>\n",
              "      <td>10.5</td>\n",
              "      <td>2160</td>\n",
              "      <td>428.0</td>\n",
              "      <td>0.0000</td>\n",
              "      <td>39.0</td>\n",
              "      <td>581.23</td>\n",
              "      <td>1</td>\n",
              "    </tr>\n",
              "    <tr>\n",
              "      <th>213813930</th>\n",
              "      <td>10.5</td>\n",
              "      <td>240</td>\n",
              "      <td>9.0</td>\n",
              "      <td>0.0000</td>\n",
              "      <td>110.0</td>\n",
              "      <td>76.20</td>\n",
              "      <td>1</td>\n",
              "    </tr>\n",
              "    <tr>\n",
              "      <th>213815405</th>\n",
              "      <td>10.5</td>\n",
              "      <td>840</td>\n",
              "      <td>115.0</td>\n",
              "      <td>0.0000</td>\n",
              "      <td>317.0</td>\n",
              "      <td>133.31</td>\n",
              "      <td>1</td>\n",
              "    </tr>\n",
              "    <tr>\n",
              "      <th>213817296</th>\n",
              "      <td>10.5</td>\n",
              "      <td>240</td>\n",
              "      <td>21.0</td>\n",
              "      <td>1.2243</td>\n",
              "      <td>23.0</td>\n",
              "      <td>98.57</td>\n",
              "      <td>1</td>\n",
              "    </tr>\n",
              "  </tbody>\n",
              "</table>\n",
              "<p>17176 rows × 7 columns</p>\n",
              "</div>"
            ],
            "text/plain": [
              "           additional_fare  duration  ...    fare  label\n",
              "tripid                                ...               \n",
              "189123628             10.5       840  ...  270.32      1\n",
              "189125358             10.5       780  ...  197.85      1\n",
              "189125719             10.5      1080  ...  301.64      1\n",
              "189127273             10.5       600  ...   82.30      1\n",
              "189128020              NaN      1020  ...  358.39      1\n",
              "...                    ...       ...  ...     ...    ...\n",
              "213803193             10.5       840  ...  198.26      1\n",
              "213812756             10.5      2160  ...  581.23      1\n",
              "213813930             10.5       240  ...   76.20      1\n",
              "213815405             10.5       840  ...  133.31      1\n",
              "213817296             10.5       240  ...   98.57      1\n",
              "\n",
              "[17176 rows x 7 columns]"
            ]
          },
          "metadata": {
            "tags": []
          },
          "execution_count": 34
        }
      ]
    },
    {
      "cell_type": "code",
      "metadata": {
        "colab_type": "code",
        "id": "kfi7fGpvszZI",
        "colab": {}
      },
      "source": [
        "X_train = X_train.fillna(X_train.mean())"
      ],
      "execution_count": null,
      "outputs": []
    },
    {
      "cell_type": "code",
      "metadata": {
        "id": "xnugJJ_gx4zd",
        "colab_type": "code",
        "colab": {
          "base_uri": "https://localhost:8080/",
          "height": 66
        },
        "outputId": "0582e02b-b851-4b4e-a159-681db05e1895"
      },
      "source": [
        "X_train_cols = X_train.columns\n",
        "X_train_cols"
      ],
      "execution_count": null,
      "outputs": [
        {
          "output_type": "execute_result",
          "data": {
            "text/plain": [
              "Index(['additional_fare', 'duration', 'meter_waiting', 'meter_waiting_fare',\n",
              "       'meter_waiting_till_pickup', 'fare', 'label'],\n",
              "      dtype='object')"
            ]
          },
          "metadata": {
            "tags": []
          },
          "execution_count": 128
        }
      ]
    },
    {
      "cell_type": "code",
      "metadata": {
        "id": "UpTb-3_wtQjK",
        "colab_type": "code",
        "colab": {
          "base_uri": "https://localhost:8080/",
          "height": 66
        },
        "outputId": "64618a99-8a32-4782-bcf6-e85864256383"
      },
      "source": [
        "X_train['label'].value_counts()"
      ],
      "execution_count": null,
      "outputs": [
        {
          "output_type": "execute_result",
          "data": {
            "text/plain": [
              "1    15495\n",
              "0     1681\n",
              "Name: label, dtype: int64"
            ]
          },
          "metadata": {
            "tags": []
          },
          "execution_count": 118
        }
      ]
    },
    {
      "cell_type": "code",
      "metadata": {
        "id": "T8kaPDNT0daN",
        "colab_type": "code",
        "colab": {}
      },
      "source": [
        "def split_train_test(X_train,num):\n",
        "  X_train_0 = X_train.loc[X_train['label'] == 0]\n",
        "  X_train_1 = X_train.loc[X_train['label'] == 1]\n",
        "\n",
        "\n",
        "  val_0 = X_train_0.sample(n=num ,random_state=1)\n",
        "  train_0 = X_train_0.drop(val_0.index)\n",
        "\n",
        "  val_1 = X_train_1.sample(n=num,random_state=1)\n",
        "  train_1 = X_train_1.drop(val_1.index)\n",
        "\n",
        "  validation_set = pd.concat([val_0,val_1],axis=0)\n",
        "  validation_set = validation_set.sample(frac=1)\n",
        "\n",
        "  train_set = pd.concat([train_0,train_1],axis=0)\n",
        "  train_set = train_set.sample(frac=1)\n",
        "\n",
        "  train_set_y = train_set['label']\n",
        "  train_set_x = train_set.drop('label', axis=1)\n",
        "\n",
        "  validation_set_y = validation_set['label']\n",
        "  validation_set_x = validation_set.drop('label', axis=1)\n",
        "\n",
        "  return train_set_x, train_set_y,validation_set_x, validation_set_y"
      ],
      "execution_count": null,
      "outputs": []
    },
    {
      "cell_type": "code",
      "metadata": {
        "id": "if1qjTBOzpj-",
        "colab_type": "code",
        "colab": {}
      },
      "source": [
        "train_x, train_y,test_x, test_y = split_train_test(X_train,200)"
      ],
      "execution_count": null,
      "outputs": []
    },
    {
      "cell_type": "code",
      "metadata": {
        "id": "bMpUKLols73l",
        "colab_type": "code",
        "colab": {}
      },
      "source": [
        ""
      ],
      "execution_count": null,
      "outputs": []
    },
    {
      "cell_type": "code",
      "metadata": {
        "id": "JMh0pg0RzTH8",
        "colab_type": "code",
        "colab": {}
      },
      "source": [
        ""
      ],
      "execution_count": null,
      "outputs": []
    },
    {
      "cell_type": "code",
      "metadata": {
        "id": "0jvV6n_BsiTI",
        "colab_type": "code",
        "colab": {
          "base_uri": "https://localhost:8080/",
          "height": 135
        },
        "outputId": "6965b426-3529-4841-eba2-9c7f71f27774"
      },
      "source": [
        "from imblearn.combine import SMOTETomek\n",
        "\n",
        "\n",
        "smk=SMOTETomek(random_state=42,sampling_strategy=1.0)\n",
        "x_res,y_res=smk.fit_resample(train_x,train_y)\n",
        "print('x shape',x_res.shape)\n",
        "print('y shape',y_res.shape)"
      ],
      "execution_count": null,
      "outputs": [
        {
          "output_type": "stream",
          "text": [
            "/usr/local/lib/python3.6/dist-packages/sklearn/utils/deprecation.py:87: FutureWarning: Function safe_indexing is deprecated; safe_indexing is deprecated in version 0.22 and will be removed in version 0.24.\n",
            "  warnings.warn(msg, category=FutureWarning)\n"
          ],
          "name": "stderr"
        },
        {
          "output_type": "stream",
          "text": [
            "x shape (30164, 6)\n",
            "y shape (30164,)\n"
          ],
          "name": "stdout"
        },
        {
          "output_type": "stream",
          "text": [
            "/usr/local/lib/python3.6/dist-packages/sklearn/utils/deprecation.py:87: FutureWarning: Function safe_indexing is deprecated; safe_indexing is deprecated in version 0.22 and will be removed in version 0.24.\n",
            "  warnings.warn(msg, category=FutureWarning)\n"
          ],
          "name": "stderr"
        }
      ]
    },
    {
      "cell_type": "code",
      "metadata": {
        "id": "qpJ9AndpxJxb",
        "colab_type": "code",
        "colab": {}
      },
      "source": [
        "res_x_pd = pd.DataFrame(x_res,columns=X_train_cols[:-1])"
      ],
      "execution_count": null,
      "outputs": []
    },
    {
      "cell_type": "code",
      "metadata": {
        "id": "NtsrqG6lxfrK",
        "colab_type": "code",
        "colab": {
          "base_uri": "https://localhost:8080/",
          "height": 391
        },
        "outputId": "1181ef7a-d424-4cbf-f54e-63e3cbf23115"
      },
      "source": [
        "res_x_pd"
      ],
      "execution_count": null,
      "outputs": [
        {
          "output_type": "execute_result",
          "data": {
            "text/html": [
              "<div>\n",
              "<style scoped>\n",
              "    .dataframe tbody tr th:only-of-type {\n",
              "        vertical-align: middle;\n",
              "    }\n",
              "\n",
              "    .dataframe tbody tr th {\n",
              "        vertical-align: top;\n",
              "    }\n",
              "\n",
              "    .dataframe thead th {\n",
              "        text-align: right;\n",
              "    }\n",
              "</style>\n",
              "<table border=\"1\" class=\"dataframe\">\n",
              "  <thead>\n",
              "    <tr style=\"text-align: right;\">\n",
              "      <th></th>\n",
              "      <th>additional_fare</th>\n",
              "      <th>duration</th>\n",
              "      <th>meter_waiting</th>\n",
              "      <th>meter_waiting_fare</th>\n",
              "      <th>meter_waiting_till_pickup</th>\n",
              "      <th>fare</th>\n",
              "    </tr>\n",
              "  </thead>\n",
              "  <tbody>\n",
              "    <tr>\n",
              "      <th>0</th>\n",
              "      <td>10.500000</td>\n",
              "      <td>900.000000</td>\n",
              "      <td>143.000000</td>\n",
              "      <td>0.000000</td>\n",
              "      <td>81.000000</td>\n",
              "      <td>209.000000</td>\n",
              "    </tr>\n",
              "    <tr>\n",
              "      <th>1</th>\n",
              "      <td>10.500000</td>\n",
              "      <td>1140.000000</td>\n",
              "      <td>144.000000</td>\n",
              "      <td>8.395200</td>\n",
              "      <td>112.000000</td>\n",
              "      <td>183.410000</td>\n",
              "    </tr>\n",
              "    <tr>\n",
              "      <th>2</th>\n",
              "      <td>5.000000</td>\n",
              "      <td>240.000000</td>\n",
              "      <td>70.000000</td>\n",
              "      <td>4.081000</td>\n",
              "      <td>0.000000</td>\n",
              "      <td>72.000000</td>\n",
              "    </tr>\n",
              "    <tr>\n",
              "      <th>3</th>\n",
              "      <td>10.500000</td>\n",
              "      <td>60.000000</td>\n",
              "      <td>41.000000</td>\n",
              "      <td>0.000000</td>\n",
              "      <td>8.000000</td>\n",
              "      <td>60.500000</td>\n",
              "    </tr>\n",
              "    <tr>\n",
              "      <th>4</th>\n",
              "      <td>10.500000</td>\n",
              "      <td>300.000000</td>\n",
              "      <td>104.000000</td>\n",
              "      <td>6.063200</td>\n",
              "      <td>135.000000</td>\n",
              "      <td>75.580000</td>\n",
              "    </tr>\n",
              "    <tr>\n",
              "      <th>...</th>\n",
              "      <td>...</td>\n",
              "      <td>...</td>\n",
              "      <td>...</td>\n",
              "      <td>...</td>\n",
              "      <td>...</td>\n",
              "      <td>...</td>\n",
              "    </tr>\n",
              "    <tr>\n",
              "      <th>30159</th>\n",
              "      <td>10.500000</td>\n",
              "      <td>952.803762</td>\n",
              "      <td>59.362947</td>\n",
              "      <td>0.000000</td>\n",
              "      <td>75.244577</td>\n",
              "      <td>862.019614</td>\n",
              "    </tr>\n",
              "    <tr>\n",
              "      <th>30160</th>\n",
              "      <td>12.056220</td>\n",
              "      <td>600.000000</td>\n",
              "      <td>542.238791</td>\n",
              "      <td>15.495094</td>\n",
              "      <td>57.460814</td>\n",
              "      <td>333.830098</td>\n",
              "    </tr>\n",
              "    <tr>\n",
              "      <th>30161</th>\n",
              "      <td>13.719651</td>\n",
              "      <td>98.444174</td>\n",
              "      <td>629.074231</td>\n",
              "      <td>32.057666</td>\n",
              "      <td>112.466832</td>\n",
              "      <td>312.655466</td>\n",
              "    </tr>\n",
              "    <tr>\n",
              "      <th>30162</th>\n",
              "      <td>10.500000</td>\n",
              "      <td>780.000000</td>\n",
              "      <td>90.023446</td>\n",
              "      <td>0.771413</td>\n",
              "      <td>33.724101</td>\n",
              "      <td>365.839777</td>\n",
              "    </tr>\n",
              "    <tr>\n",
              "      <th>30163</th>\n",
              "      <td>10.500000</td>\n",
              "      <td>463.946183</td>\n",
              "      <td>40.508219</td>\n",
              "      <td>0.000000</td>\n",
              "      <td>97.802691</td>\n",
              "      <td>467.346324</td>\n",
              "    </tr>\n",
              "  </tbody>\n",
              "</table>\n",
              "<p>30164 rows × 6 columns</p>\n",
              "</div>"
            ],
            "text/plain": [
              "       additional_fare     duration  ...  meter_waiting_till_pickup        fare\n",
              "0            10.500000   900.000000  ...                  81.000000  209.000000\n",
              "1            10.500000  1140.000000  ...                 112.000000  183.410000\n",
              "2             5.000000   240.000000  ...                   0.000000   72.000000\n",
              "3            10.500000    60.000000  ...                   8.000000   60.500000\n",
              "4            10.500000   300.000000  ...                 135.000000   75.580000\n",
              "...                ...          ...  ...                        ...         ...\n",
              "30159        10.500000   952.803762  ...                  75.244577  862.019614\n",
              "30160        12.056220   600.000000  ...                  57.460814  333.830098\n",
              "30161        13.719651    98.444174  ...                 112.466832  312.655466\n",
              "30162        10.500000   780.000000  ...                  33.724101  365.839777\n",
              "30163        10.500000   463.946183  ...                  97.802691  467.346324\n",
              "\n",
              "[30164 rows x 6 columns]"
            ]
          },
          "metadata": {
            "tags": []
          },
          "execution_count": 133
        }
      ]
    },
    {
      "cell_type": "code",
      "metadata": {
        "id": "YPPMPkiPxOe7",
        "colab_type": "code",
        "colab": {}
      },
      "source": [
        "res_y_pd = pd.DataFrame(y_res, columns = ['label'])"
      ],
      "execution_count": null,
      "outputs": []
    },
    {
      "cell_type": "code",
      "metadata": {
        "id": "q7WuIZgPtLj-",
        "colab_type": "code",
        "colab": {}
      },
      "source": [
        "res_full = pd.concat([res_x_pd,res_y_pd],axis = 1)"
      ],
      "execution_count": null,
      "outputs": []
    },
    {
      "cell_type": "code",
      "metadata": {
        "id": "-GiTnUWHyXEN",
        "colab_type": "code",
        "colab": {
          "base_uri": "https://localhost:8080/",
          "height": 391
        },
        "outputId": "4d4a92ef-a8ee-4b0d-acab-7ca7e55ba6f1"
      },
      "source": [
        "res_full"
      ],
      "execution_count": null,
      "outputs": [
        {
          "output_type": "execute_result",
          "data": {
            "text/html": [
              "<div>\n",
              "<style scoped>\n",
              "    .dataframe tbody tr th:only-of-type {\n",
              "        vertical-align: middle;\n",
              "    }\n",
              "\n",
              "    .dataframe tbody tr th {\n",
              "        vertical-align: top;\n",
              "    }\n",
              "\n",
              "    .dataframe thead th {\n",
              "        text-align: right;\n",
              "    }\n",
              "</style>\n",
              "<table border=\"1\" class=\"dataframe\">\n",
              "  <thead>\n",
              "    <tr style=\"text-align: right;\">\n",
              "      <th></th>\n",
              "      <th>additional_fare</th>\n",
              "      <th>duration</th>\n",
              "      <th>meter_waiting</th>\n",
              "      <th>meter_waiting_fare</th>\n",
              "      <th>meter_waiting_till_pickup</th>\n",
              "      <th>fare</th>\n",
              "      <th>label</th>\n",
              "    </tr>\n",
              "  </thead>\n",
              "  <tbody>\n",
              "    <tr>\n",
              "      <th>0</th>\n",
              "      <td>10.500000</td>\n",
              "      <td>900.000000</td>\n",
              "      <td>143.000000</td>\n",
              "      <td>0.000000</td>\n",
              "      <td>81.000000</td>\n",
              "      <td>209.000000</td>\n",
              "      <td>1</td>\n",
              "    </tr>\n",
              "    <tr>\n",
              "      <th>1</th>\n",
              "      <td>10.500000</td>\n",
              "      <td>1140.000000</td>\n",
              "      <td>144.000000</td>\n",
              "      <td>8.395200</td>\n",
              "      <td>112.000000</td>\n",
              "      <td>183.410000</td>\n",
              "      <td>1</td>\n",
              "    </tr>\n",
              "    <tr>\n",
              "      <th>2</th>\n",
              "      <td>5.000000</td>\n",
              "      <td>240.000000</td>\n",
              "      <td>70.000000</td>\n",
              "      <td>4.081000</td>\n",
              "      <td>0.000000</td>\n",
              "      <td>72.000000</td>\n",
              "      <td>1</td>\n",
              "    </tr>\n",
              "    <tr>\n",
              "      <th>3</th>\n",
              "      <td>10.500000</td>\n",
              "      <td>60.000000</td>\n",
              "      <td>41.000000</td>\n",
              "      <td>0.000000</td>\n",
              "      <td>8.000000</td>\n",
              "      <td>60.500000</td>\n",
              "      <td>0</td>\n",
              "    </tr>\n",
              "    <tr>\n",
              "      <th>4</th>\n",
              "      <td>10.500000</td>\n",
              "      <td>300.000000</td>\n",
              "      <td>104.000000</td>\n",
              "      <td>6.063200</td>\n",
              "      <td>135.000000</td>\n",
              "      <td>75.580000</td>\n",
              "      <td>1</td>\n",
              "    </tr>\n",
              "    <tr>\n",
              "      <th>...</th>\n",
              "      <td>...</td>\n",
              "      <td>...</td>\n",
              "      <td>...</td>\n",
              "      <td>...</td>\n",
              "      <td>...</td>\n",
              "      <td>...</td>\n",
              "      <td>...</td>\n",
              "    </tr>\n",
              "    <tr>\n",
              "      <th>30159</th>\n",
              "      <td>10.500000</td>\n",
              "      <td>952.803762</td>\n",
              "      <td>59.362947</td>\n",
              "      <td>0.000000</td>\n",
              "      <td>75.244577</td>\n",
              "      <td>862.019614</td>\n",
              "      <td>0</td>\n",
              "    </tr>\n",
              "    <tr>\n",
              "      <th>30160</th>\n",
              "      <td>12.056220</td>\n",
              "      <td>600.000000</td>\n",
              "      <td>542.238791</td>\n",
              "      <td>15.495094</td>\n",
              "      <td>57.460814</td>\n",
              "      <td>333.830098</td>\n",
              "      <td>0</td>\n",
              "    </tr>\n",
              "    <tr>\n",
              "      <th>30161</th>\n",
              "      <td>13.719651</td>\n",
              "      <td>98.444174</td>\n",
              "      <td>629.074231</td>\n",
              "      <td>32.057666</td>\n",
              "      <td>112.466832</td>\n",
              "      <td>312.655466</td>\n",
              "      <td>0</td>\n",
              "    </tr>\n",
              "    <tr>\n",
              "      <th>30162</th>\n",
              "      <td>10.500000</td>\n",
              "      <td>780.000000</td>\n",
              "      <td>90.023446</td>\n",
              "      <td>0.771413</td>\n",
              "      <td>33.724101</td>\n",
              "      <td>365.839777</td>\n",
              "      <td>0</td>\n",
              "    </tr>\n",
              "    <tr>\n",
              "      <th>30163</th>\n",
              "      <td>10.500000</td>\n",
              "      <td>463.946183</td>\n",
              "      <td>40.508219</td>\n",
              "      <td>0.000000</td>\n",
              "      <td>97.802691</td>\n",
              "      <td>467.346324</td>\n",
              "      <td>0</td>\n",
              "    </tr>\n",
              "  </tbody>\n",
              "</table>\n",
              "<p>30164 rows × 7 columns</p>\n",
              "</div>"
            ],
            "text/plain": [
              "       additional_fare     duration  ...        fare  label\n",
              "0            10.500000   900.000000  ...  209.000000      1\n",
              "1            10.500000  1140.000000  ...  183.410000      1\n",
              "2             5.000000   240.000000  ...   72.000000      1\n",
              "3            10.500000    60.000000  ...   60.500000      0\n",
              "4            10.500000   300.000000  ...   75.580000      1\n",
              "...                ...          ...  ...         ...    ...\n",
              "30159        10.500000   952.803762  ...  862.019614      0\n",
              "30160        12.056220   600.000000  ...  333.830098      0\n",
              "30161        13.719651    98.444174  ...  312.655466      0\n",
              "30162        10.500000   780.000000  ...  365.839777      0\n",
              "30163        10.500000   463.946183  ...  467.346324      0\n",
              "\n",
              "[30164 rows x 7 columns]"
            ]
          },
          "metadata": {
            "tags": []
          },
          "execution_count": 136
        }
      ]
    },
    {
      "cell_type": "code",
      "metadata": {
        "id": "BW4KgHnUwMLI",
        "colab_type": "code",
        "colab": {}
      },
      "source": [
        "train_set_x, train_set_y,validation_set_x, validation_set_y = split_train_val(res_full)"
      ],
      "execution_count": null,
      "outputs": []
    },
    {
      "cell_type": "code",
      "metadata": {
        "colab_type": "code",
        "id": "85hTx3E3uuvX",
        "colab": {}
      },
      "source": [
        "scaler = StandardScaler()\n",
        "scaler.fit(train_set_x)\n",
        "\n",
        "scaled_train_x = scaler.transform(train_set_x)\n",
        "scaled_validation_x = scaler.transform(validation_set_x)"
      ],
      "execution_count": null,
      "outputs": []
    },
    {
      "cell_type": "code",
      "metadata": {
        "colab_type": "code",
        "id": "TB7vmtp8uuvq",
        "colab": {
          "base_uri": "https://localhost:8080/",
          "height": 131
        },
        "outputId": "c8502e70-d00b-45f5-e9b2-c1fa3f1670b6"
      },
      "source": [
        "from imblearn.ensemble import BalancedBaggingClassifier\n",
        "from sklearn.tree import DecisionTreeClassifier\n",
        "from sklearn.ensemble import RandomForestClassifier\n",
        "from sklearn import svm\n",
        "from xgboost import XGBClassifier\n",
        "\n",
        "#Create an object of the classifier.\n",
        "#bbc = BalancedBaggingClassifier(base_estimator=RandomForestClassifier(n_estimators=200))\n",
        "model = XGBClassifier(subsample=0.8,random_state=2,colsample_bytree=0.7)\n",
        "y_train = train_set_y\n",
        "X_train = scaled_train_x\n",
        "\n",
        "#Train the classifier.\n",
        "model.fit(X_train, y_train)\n"
      ],
      "execution_count": null,
      "outputs": [
        {
          "output_type": "execute_result",
          "data": {
            "text/plain": [
              "XGBClassifier(base_score=0.5, booster='gbtree', colsample_bylevel=1,\n",
              "              colsample_bynode=1, colsample_bytree=0.7, gamma=0,\n",
              "              learning_rate=0.1, max_delta_step=0, max_depth=3,\n",
              "              min_child_weight=1, missing=None, n_estimators=100, n_jobs=1,\n",
              "              nthread=None, objective='binary:logistic', random_state=2,\n",
              "              reg_alpha=0, reg_lambda=1, scale_pos_weight=1, seed=None,\n",
              "              silent=None, subsample=0.8, verbosity=1)"
            ]
          },
          "metadata": {
            "tags": []
          },
          "execution_count": 176
        }
      ]
    },
    {
      "cell_type": "code",
      "metadata": {
        "colab_type": "code",
        "id": "6YGjV3fBwfbe",
        "colab": {}
      },
      "source": [
        "preds = bbc.predict(scaled_validation_x)"
      ],
      "execution_count": null,
      "outputs": []
    },
    {
      "cell_type": "code",
      "metadata": {
        "colab_type": "code",
        "id": "Kv_x6JBOwfbs",
        "colab": {
          "base_uri": "https://localhost:8080/",
          "height": 33
        },
        "outputId": "e99201a1-093a-4da2-92af-c698b34c3652"
      },
      "source": [
        "preds"
      ],
      "execution_count": null,
      "outputs": [
        {
          "output_type": "execute_result",
          "data": {
            "text/plain": [
              "array([0, 0, 1, ..., 0, 1, 1])"
            ]
          },
          "metadata": {
            "tags": []
          },
          "execution_count": 178
        }
      ]
    },
    {
      "cell_type": "code",
      "metadata": {
        "colab_type": "code",
        "id": "TTiHKJXEwfb5",
        "colab": {}
      },
      "source": [
        "class_preds=[]\n",
        "for pred in preds:\n",
        "  if pred>0.5:\n",
        "    class_preds.append(1)\n",
        "  else:\n",
        "    class_preds.append(0)"
      ],
      "execution_count": null,
      "outputs": []
    },
    {
      "cell_type": "code",
      "metadata": {
        "colab_type": "code",
        "id": "zHgmUxjVwfcF",
        "colab": {
          "base_uri": "https://localhost:8080/",
          "height": 33
        },
        "outputId": "e805ccfe-2726-4a8f-92e3-a4290761e6f4"
      },
      "source": [
        "from sklearn.metrics import f1_score\n",
        "\n",
        "f1 = f1_score(validation_set_y, class_preds, average='macro')\n",
        "f1"
      ],
      "execution_count": null,
      "outputs": [
        {
          "output_type": "execute_result",
          "data": {
            "text/plain": [
              "0.9505954265611258"
            ]
          },
          "metadata": {
            "tags": []
          },
          "execution_count": 180
        }
      ]
    },
    {
      "cell_type": "code",
      "metadata": {
        "colab_type": "code",
        "id": "Gdgi73q-wfcP",
        "colab": {
          "base_uri": "https://localhost:8080/",
          "height": 50
        },
        "outputId": "4a32560f-347e-44c3-eff2-5e3ff7853beb"
      },
      "source": [
        "confusion_mat = confusion_matrix(validation_set_y, class_preds)\n",
        "confusion_mat"
      ],
      "execution_count": null,
      "outputs": [
        {
          "output_type": "execute_result",
          "data": {
            "text/plain": [
              "array([[2851,  165],\n",
              "       [ 133, 2883]])"
            ]
          },
          "metadata": {
            "tags": []
          },
          "execution_count": 181
        }
      ]
    },
    {
      "cell_type": "code",
      "metadata": {
        "id": "JRlTscIewq7r",
        "colab_type": "code",
        "colab": {
          "base_uri": "https://localhost:8080/",
          "height": 66
        },
        "outputId": "eed3a8f1-074a-4633-ab2c-d2a0663a7d53"
      },
      "source": [
        "validation_set_y.value_counts()"
      ],
      "execution_count": null,
      "outputs": [
        {
          "output_type": "execute_result",
          "data": {
            "text/plain": [
              "1    3016\n",
              "0    3016\n",
              "Name: label, dtype: int64"
            ]
          },
          "metadata": {
            "tags": []
          },
          "execution_count": 170
        }
      ]
    },
    {
      "cell_type": "code",
      "metadata": {
        "id": "jW5xB306w-Ek",
        "colab_type": "code",
        "colab": {}
      },
      "source": [
        "################## for test set"
      ],
      "execution_count": null,
      "outputs": []
    },
    {
      "cell_type": "code",
      "metadata": {
        "id": "Ws9Po_W51xrN",
        "colab_type": "code",
        "colab": {}
      },
      "source": [
        "#test_x, test_y"
      ],
      "execution_count": null,
      "outputs": []
    },
    {
      "cell_type": "code",
      "metadata": {
        "id": "dp3l7O1A2Agm",
        "colab_type": "code",
        "colab": {}
      },
      "source": [
        "scaled_test_x = scaler.transform(test_x)"
      ],
      "execution_count": null,
      "outputs": []
    },
    {
      "cell_type": "code",
      "metadata": {
        "colab_type": "code",
        "id": "J4bfCp_S1x0D",
        "colab": {}
      },
      "source": [
        "test_preds = model.predict(scaled_test_x)"
      ],
      "execution_count": null,
      "outputs": []
    },
    {
      "cell_type": "code",
      "metadata": {
        "colab_type": "code",
        "id": "d6BeKach1x0G",
        "colab": {
          "base_uri": "https://localhost:8080/",
          "height": 326
        },
        "outputId": "3c494dd3-0442-406f-8613-182c79558c4d"
      },
      "source": [
        "test_preds"
      ],
      "execution_count": null,
      "outputs": [
        {
          "output_type": "execute_result",
          "data": {
            "text/plain": [
              "array([0, 0, 1, 1, 0, 1, 1, 1, 0, 1, 1, 1, 1, 1, 1, 1, 1, 0, 1, 1, 0, 1,\n",
              "       1, 1, 1, 1, 1, 0, 0, 1, 0, 1, 0, 0, 0, 1, 1, 1, 1, 0, 1, 1, 0, 0,\n",
              "       1, 0, 1, 1, 0, 1, 0, 0, 1, 0, 1, 1, 0, 1, 0, 0, 1, 1, 0, 1, 1, 0,\n",
              "       1, 0, 1, 0, 0, 0, 1, 1, 1, 1, 1, 0, 0, 1, 1, 0, 1, 1, 1, 1, 1, 1,\n",
              "       1, 1, 1, 1, 1, 1, 1, 1, 1, 1, 1, 0, 1, 1, 1, 0, 1, 0, 1, 1, 1, 1,\n",
              "       0, 1, 0, 1, 1, 1, 1, 1, 1, 1, 0, 0, 1, 0, 1, 1, 0, 0, 1, 1, 1, 1,\n",
              "       0, 1, 1, 0, 0, 1, 1, 1, 0, 1, 1, 1, 1, 1, 1, 1, 1, 1, 1, 0, 1, 0,\n",
              "       1, 0, 0, 1, 0, 1, 1, 1, 0, 0, 1, 1, 1, 0, 1, 1, 1, 1, 1, 0, 1, 1,\n",
              "       0, 1, 0, 0, 1, 1, 0, 1, 1, 0, 1, 1, 0, 0, 0, 1, 1, 0, 1, 0, 0, 0,\n",
              "       1, 0, 1, 0, 1, 0, 0, 0, 1, 0, 1, 1, 1, 1, 1, 0, 1, 0, 0, 1, 0, 0,\n",
              "       0, 1, 1, 1, 1, 1, 1, 1, 1, 1, 1, 1, 1, 1, 1, 1, 0, 1, 1, 1, 1, 1,\n",
              "       1, 1, 1, 1, 0, 0, 0, 0, 1, 0, 1, 0, 1, 1, 1, 1, 1, 1, 1, 0, 0, 1,\n",
              "       0, 0, 1, 1, 1, 0, 1, 0, 1, 1, 0, 1, 0, 0, 0, 0, 1, 0, 0, 1, 1, 0,\n",
              "       1, 1, 0, 1, 0, 0, 1, 0, 1, 1, 1, 0, 1, 1, 1, 1, 1, 1, 1, 0, 0, 0,\n",
              "       0, 1, 1, 1, 0, 1, 1, 1, 0, 1, 1, 1, 1, 0, 1, 1, 1, 1, 0, 1, 1, 1,\n",
              "       1, 0, 1, 1, 1, 0, 1, 1, 1, 1, 1, 1, 1, 0, 0, 0, 1, 1, 0, 1, 0, 1,\n",
              "       1, 1, 0, 1, 0, 0, 1, 1, 0, 0, 1, 0, 1, 1, 1, 1, 1, 0, 1, 1, 1, 1,\n",
              "       1, 0, 0, 1, 1, 0, 0, 0, 1, 1, 0, 0, 0, 0, 0, 0, 0, 1, 0, 1, 1, 0,\n",
              "       0, 1, 1, 1])"
            ]
          },
          "metadata": {
            "tags": []
          },
          "execution_count": 184
        }
      ]
    },
    {
      "cell_type": "code",
      "metadata": {
        "colab_type": "code",
        "id": "WX6QRHtV1x0P",
        "colab": {}
      },
      "source": [
        "class_preds=[]\n",
        "for pred in test_preds:\n",
        "  if pred>0.5:\n",
        "    class_preds.append(1)\n",
        "  else:\n",
        "    class_preds.append(0)"
      ],
      "execution_count": null,
      "outputs": []
    },
    {
      "cell_type": "code",
      "metadata": {
        "colab_type": "code",
        "id": "Q2GZUMgo1x0U",
        "colab": {
          "base_uri": "https://localhost:8080/",
          "height": 33
        },
        "outputId": "af1a0b55-9262-435e-f9ba-6fa13f683a4a"
      },
      "source": [
        "from sklearn.metrics import f1_score\n",
        "\n",
        "f1 = f1_score(test_y, class_preds, average='macro')\n",
        "f1"
      ],
      "execution_count": null,
      "outputs": [
        {
          "output_type": "execute_result",
          "data": {
            "text/plain": [
              "0.7803825429658572"
            ]
          },
          "metadata": {
            "tags": []
          },
          "execution_count": 186
        }
      ]
    },
    {
      "cell_type": "code",
      "metadata": {
        "colab_type": "code",
        "id": "gD4jXWOy1x0X",
        "colab": {
          "base_uri": "https://localhost:8080/",
          "height": 50
        },
        "outputId": "25de00bc-2476-4105-a254-619abecfb35c"
      },
      "source": [
        "confusion_mat = confusion_matrix(test_y, class_preds)\n",
        "confusion_mat"
      ],
      "execution_count": null,
      "outputs": [
        {
          "output_type": "execute_result",
          "data": {
            "text/plain": [
              "array([[124,  76],\n",
              "       [  7, 193]])"
            ]
          },
          "metadata": {
            "tags": []
          },
          "execution_count": 163
        }
      ]
    },
    {
      "cell_type": "code",
      "metadata": {
        "colab_type": "code",
        "id": "gV43PLwv1x0c",
        "colab": {
          "base_uri": "https://localhost:8080/",
          "height": 69
        },
        "outputId": "29ab9147-fc5e-4361-a2f9-aeb955f999f1"
      },
      "source": [
        "test_y.value_counts()"
      ],
      "execution_count": null,
      "outputs": [
        {
          "output_type": "execute_result",
          "data": {
            "text/plain": [
              "1    3052\n",
              "0    3052\n",
              "Name: label, dtype: int64"
            ]
          },
          "metadata": {
            "tags": []
          },
          "execution_count": 91
        }
      ]
    },
    {
      "cell_type": "code",
      "metadata": {
        "colab_type": "code",
        "id": "AkufP0nF1x0k",
        "colab": {}
      },
      "source": [
        ""
      ],
      "execution_count": null,
      "outputs": []
    },
    {
      "cell_type": "code",
      "metadata": {
        "id": "uD7h4GTMxs7K",
        "colab_type": "code",
        "colab": {}
      },
      "source": [
        "######################## NN"
      ],
      "execution_count": null,
      "outputs": []
    },
    {
      "cell_type": "code",
      "metadata": {
        "id": "CM-H94vKzEYO",
        "colab_type": "code",
        "colab": {}
      },
      "source": [
        ""
      ],
      "execution_count": null,
      "outputs": []
    },
    {
      "cell_type": "code",
      "metadata": {
        "colab_type": "code",
        "id": "qUvtTUyozEiL",
        "colab": {
          "base_uri": "https://localhost:8080/",
          "height": 33
        },
        "outputId": "6f1463e4-3327-4e74-b960-855ba655245c"
      },
      "source": [
        "from keras.models import Sequential\n",
        "from keras.layers import Dense"
      ],
      "execution_count": null,
      "outputs": [
        {
          "output_type": "stream",
          "text": [
            "Using TensorFlow backend.\n"
          ],
          "name": "stderr"
        }
      ]
    },
    {
      "cell_type": "code",
      "metadata": {
        "colab_type": "code",
        "id": "k0MZaAVZzEig",
        "colab": {}
      },
      "source": [
        "# define the keras model\n",
        "model = Sequential()\n",
        "model.add(Dense(12, input_dim=6, activation='relu'))\n",
        "model.add(Dense(8, activation='relu'))\n",
        "model.add(Dense(1, activation='sigmoid'))"
      ],
      "execution_count": null,
      "outputs": []
    },
    {
      "cell_type": "code",
      "metadata": {
        "colab_type": "code",
        "id": "2OnbxO2rzEis",
        "colab": {}
      },
      "source": [
        "\n",
        "# compile the keras model\n",
        "model.compile(loss='binary_crossentropy', optimizer='adam', metrics=['accuracy'])"
      ],
      "execution_count": null,
      "outputs": []
    },
    {
      "cell_type": "code",
      "metadata": {
        "id": "co-onD1v4gUo",
        "colab_type": "code",
        "colab": {}
      },
      "source": [
        ""
      ],
      "execution_count": null,
      "outputs": []
    },
    {
      "cell_type": "code",
      "metadata": {
        "colab_type": "code",
        "id": "AN618jUSzEi9",
        "colab": {}
      },
      "source": [
        "# fit the keras model on the dataset\n",
        "history = model.fit(x= scaled_train_x, y=train_set_y, epochs=70, batch_size=10,)"
      ],
      "execution_count": null,
      "outputs": []
    },
    {
      "cell_type": "code",
      "metadata": {
        "id": "6bxri31I32O3",
        "colab_type": "code",
        "colab": {}
      },
      "source": [
        ""
      ],
      "execution_count": null,
      "outputs": []
    }
  ]
}