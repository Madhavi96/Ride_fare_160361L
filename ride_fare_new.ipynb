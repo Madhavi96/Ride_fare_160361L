{
  "nbformat": 4,
  "nbformat_minor": 0,
  "metadata": {
    "colab": {
      "name": "ride_fare_new.ipynb",
      "provenance": []
    },
    "kernelspec": {
      "name": "python3",
      "display_name": "Python 3"
    }
  },
  "cells": [
    {
      "cell_type": "code",
      "metadata": {
        "id": "ELzktJ0LD21Y",
        "colab_type": "code",
        "colab": {}
      },
      "source": [
        "import pandas as pd\n",
        "import numpy as np\n",
        "from datetime import datetime\n",
        "from sklearn.preprocessing import StandardScaler,MinMaxScaler\n",
        "import matplotlib.pyplot as plt\n",
        "from sklearn.metrics import confusion_matrix\n"
      ],
      "execution_count": 0,
      "outputs": []
    },
    {
      "cell_type": "code",
      "metadata": {
        "id": "rHjdAcQ49jdH",
        "colab_type": "code",
        "colab": {}
      },
      "source": [
        "# Load libraries\n",
        "from pandas import read_csv\n",
        "from pandas.plotting import scatter_matrix\n",
        "from matplotlib import pyplot\n",
        "\n",
        "from sklearn.model_selection import train_test_split\n",
        "from sklearn.model_selection import cross_val_score\n",
        "from sklearn.model_selection import StratifiedKFold\n",
        "from sklearn.metrics import classification_report\n",
        "from sklearn.metrics import confusion_matrix\n",
        "from sklearn.metrics import accuracy_score\n",
        "from sklearn.linear_model import LogisticRegression\n",
        "from sklearn.tree import DecisionTreeClassifier\n",
        "from sklearn.neighbors import KNeighborsClassifier\n",
        "from sklearn.discriminant_analysis import LinearDiscriminantAnalysis\n",
        "from sklearn.naive_bayes import GaussianNB\n",
        "from sklearn.svm import SVC"
      ],
      "execution_count": 0,
      "outputs": []
    },
    {
      "cell_type": "code",
      "metadata": {
        "id": "O3IchYmyV7HX",
        "colab_type": "code",
        "colab": {}
      },
      "source": [
        "X_train = pd.read_csv('/content/drive/My Drive/Ride_Fare/train.csv',index_col='tripid',)"
      ],
      "execution_count": 0,
      "outputs": []
    },
    {
      "cell_type": "code",
      "metadata": {
        "id": "N6EVvuNcWWqG",
        "colab_type": "code",
        "outputId": "5c75d0e5-e060-43b5-9a6c-bd3d953c9c56",
        "colab": {
          "base_uri": "https://localhost:8080/",
          "height": 420
        }
      },
      "source": [
        "X_train"
      ],
      "execution_count": 4,
      "outputs": [
        {
          "output_type": "execute_result",
          "data": {
            "text/html": [
              "<div>\n",
              "<style scoped>\n",
              "    .dataframe tbody tr th:only-of-type {\n",
              "        vertical-align: middle;\n",
              "    }\n",
              "\n",
              "    .dataframe tbody tr th {\n",
              "        vertical-align: top;\n",
              "    }\n",
              "\n",
              "    .dataframe thead th {\n",
              "        text-align: right;\n",
              "    }\n",
              "</style>\n",
              "<table border=\"1\" class=\"dataframe\">\n",
              "  <thead>\n",
              "    <tr style=\"text-align: right;\">\n",
              "      <th></th>\n",
              "      <th>additional_fare</th>\n",
              "      <th>duration</th>\n",
              "      <th>meter_waiting</th>\n",
              "      <th>meter_waiting_fare</th>\n",
              "      <th>meter_waiting_till_pickup</th>\n",
              "      <th>pickup_time</th>\n",
              "      <th>drop_time</th>\n",
              "      <th>pick_lat</th>\n",
              "      <th>pick_lon</th>\n",
              "      <th>drop_lat</th>\n",
              "      <th>drop_lon</th>\n",
              "      <th>fare</th>\n",
              "      <th>label</th>\n",
              "    </tr>\n",
              "    <tr>\n",
              "      <th>tripid</th>\n",
              "      <th></th>\n",
              "      <th></th>\n",
              "      <th></th>\n",
              "      <th></th>\n",
              "      <th></th>\n",
              "      <th></th>\n",
              "      <th></th>\n",
              "      <th></th>\n",
              "      <th></th>\n",
              "      <th></th>\n",
              "      <th></th>\n",
              "      <th></th>\n",
              "      <th></th>\n",
              "    </tr>\n",
              "  </thead>\n",
              "  <tbody>\n",
              "    <tr>\n",
              "      <th>189123628</th>\n",
              "      <td>10.5</td>\n",
              "      <td>834.0</td>\n",
              "      <td>56.0</td>\n",
              "      <td>0.0000</td>\n",
              "      <td>64.0</td>\n",
              "      <td>11/1/2019 0:20</td>\n",
              "      <td>11/1/2019 0:34</td>\n",
              "      <td>6.86252</td>\n",
              "      <td>79.8993</td>\n",
              "      <td>6.90330</td>\n",
              "      <td>79.8783</td>\n",
              "      <td>270.32</td>\n",
              "      <td>correct</td>\n",
              "    </tr>\n",
              "    <tr>\n",
              "      <th>189125358</th>\n",
              "      <td>10.5</td>\n",
              "      <td>791.0</td>\n",
              "      <td>47.0</td>\n",
              "      <td>0.0000</td>\n",
              "      <td>134.0</td>\n",
              "      <td>11/1/2019 0:56</td>\n",
              "      <td>11/1/2019 1:09</td>\n",
              "      <td>6.88589</td>\n",
              "      <td>79.8984</td>\n",
              "      <td>6.91373</td>\n",
              "      <td>79.8923</td>\n",
              "      <td>197.85</td>\n",
              "      <td>correct</td>\n",
              "    </tr>\n",
              "    <tr>\n",
              "      <th>189125719</th>\n",
              "      <td>10.5</td>\n",
              "      <td>1087.0</td>\n",
              "      <td>80.0</td>\n",
              "      <td>0.0000</td>\n",
              "      <td>61.0</td>\n",
              "      <td>11/1/2019 1:08</td>\n",
              "      <td>11/1/2019 1:26</td>\n",
              "      <td>6.90839</td>\n",
              "      <td>79.8651</td>\n",
              "      <td>6.93669</td>\n",
              "      <td>79.9146</td>\n",
              "      <td>301.64</td>\n",
              "      <td>correct</td>\n",
              "    </tr>\n",
              "    <tr>\n",
              "      <th>189127273</th>\n",
              "      <td>10.5</td>\n",
              "      <td>598.0</td>\n",
              "      <td>271.0</td>\n",
              "      <td>15.6638</td>\n",
              "      <td>68.0</td>\n",
              "      <td>11/1/2019 2:27</td>\n",
              "      <td>11/1/2019 2:37</td>\n",
              "      <td>6.92570</td>\n",
              "      <td>79.8895</td>\n",
              "      <td>6.92748</td>\n",
              "      <td>79.8971</td>\n",
              "      <td>82.30</td>\n",
              "      <td>correct</td>\n",
              "    </tr>\n",
              "    <tr>\n",
              "      <th>189128020</th>\n",
              "      <td>NaN</td>\n",
              "      <td>NaN</td>\n",
              "      <td>NaN</td>\n",
              "      <td>NaN</td>\n",
              "      <td>NaN</td>\n",
              "      <td>11/1/2019 3:34</td>\n",
              "      <td>11/1/2019 3:51</td>\n",
              "      <td>6.87441</td>\n",
              "      <td>79.8615</td>\n",
              "      <td>6.84478</td>\n",
              "      <td>79.9290</td>\n",
              "      <td>358.39</td>\n",
              "      <td>correct</td>\n",
              "    </tr>\n",
              "    <tr>\n",
              "      <th>...</th>\n",
              "      <td>...</td>\n",
              "      <td>...</td>\n",
              "      <td>...</td>\n",
              "      <td>...</td>\n",
              "      <td>...</td>\n",
              "      <td>...</td>\n",
              "      <td>...</td>\n",
              "      <td>...</td>\n",
              "      <td>...</td>\n",
              "      <td>...</td>\n",
              "      <td>...</td>\n",
              "      <td>...</td>\n",
              "      <td>...</td>\n",
              "    </tr>\n",
              "    <tr>\n",
              "      <th>213803193</th>\n",
              "      <td>10.5</td>\n",
              "      <td>838.0</td>\n",
              "      <td>93.0</td>\n",
              "      <td>5.4219</td>\n",
              "      <td>451.0</td>\n",
              "      <td>1/31/2020 22:07</td>\n",
              "      <td>1/31/2020 22:21</td>\n",
              "      <td>7.29073</td>\n",
              "      <td>80.6367</td>\n",
              "      <td>7.28891</td>\n",
              "      <td>80.6557</td>\n",
              "      <td>198.26</td>\n",
              "      <td>correct</td>\n",
              "    </tr>\n",
              "    <tr>\n",
              "      <th>213812756</th>\n",
              "      <td>10.5</td>\n",
              "      <td>2151.0</td>\n",
              "      <td>428.0</td>\n",
              "      <td>0.0000</td>\n",
              "      <td>39.0</td>\n",
              "      <td>1/31/2020 23:07</td>\n",
              "      <td>1/31/2020 23:43</td>\n",
              "      <td>6.90569</td>\n",
              "      <td>79.8516</td>\n",
              "      <td>6.95089</td>\n",
              "      <td>79.9389</td>\n",
              "      <td>581.23</td>\n",
              "      <td>correct</td>\n",
              "    </tr>\n",
              "    <tr>\n",
              "      <th>213813930</th>\n",
              "      <td>10.5</td>\n",
              "      <td>263.0</td>\n",
              "      <td>9.0</td>\n",
              "      <td>0.0000</td>\n",
              "      <td>110.0</td>\n",
              "      <td>1/31/2020 23:21</td>\n",
              "      <td>1/31/2020 23:25</td>\n",
              "      <td>7.09210</td>\n",
              "      <td>79.9000</td>\n",
              "      <td>7.10135</td>\n",
              "      <td>79.9017</td>\n",
              "      <td>76.20</td>\n",
              "      <td>correct</td>\n",
              "    </tr>\n",
              "    <tr>\n",
              "      <th>213815405</th>\n",
              "      <td>10.5</td>\n",
              "      <td>858.0</td>\n",
              "      <td>115.0</td>\n",
              "      <td>0.0000</td>\n",
              "      <td>317.0</td>\n",
              "      <td>1/31/2020 23:39</td>\n",
              "      <td>1/31/2020 23:53</td>\n",
              "      <td>6.94540</td>\n",
              "      <td>79.8768</td>\n",
              "      <td>6.93574</td>\n",
              "      <td>79.9010</td>\n",
              "      <td>133.31</td>\n",
              "      <td>correct</td>\n",
              "    </tr>\n",
              "    <tr>\n",
              "      <th>213817296</th>\n",
              "      <td>10.5</td>\n",
              "      <td>262.0</td>\n",
              "      <td>21.0</td>\n",
              "      <td>1.2243</td>\n",
              "      <td>23.0</td>\n",
              "      <td>1/31/2020 23:49</td>\n",
              "      <td>1/31/2020 23:53</td>\n",
              "      <td>6.90257</td>\n",
              "      <td>79.9557</td>\n",
              "      <td>6.90823</td>\n",
              "      <td>79.9374</td>\n",
              "      <td>98.57</td>\n",
              "      <td>correct</td>\n",
              "    </tr>\n",
              "  </tbody>\n",
              "</table>\n",
              "<p>17176 rows × 13 columns</p>\n",
              "</div>"
            ],
            "text/plain": [
              "           additional_fare  duration  meter_waiting  ...  drop_lon    fare    label\n",
              "tripid                                               ...                           \n",
              "189123628             10.5     834.0           56.0  ...   79.8783  270.32  correct\n",
              "189125358             10.5     791.0           47.0  ...   79.8923  197.85  correct\n",
              "189125719             10.5    1087.0           80.0  ...   79.9146  301.64  correct\n",
              "189127273             10.5     598.0          271.0  ...   79.8971   82.30  correct\n",
              "189128020              NaN       NaN            NaN  ...   79.9290  358.39  correct\n",
              "...                    ...       ...            ...  ...       ...     ...      ...\n",
              "213803193             10.5     838.0           93.0  ...   80.6557  198.26  correct\n",
              "213812756             10.5    2151.0          428.0  ...   79.9389  581.23  correct\n",
              "213813930             10.5     263.0            9.0  ...   79.9017   76.20  correct\n",
              "213815405             10.5     858.0          115.0  ...   79.9010  133.31  correct\n",
              "213817296             10.5     262.0           21.0  ...   79.9374   98.57  correct\n",
              "\n",
              "[17176 rows x 13 columns]"
            ]
          },
          "metadata": {
            "tags": []
          },
          "execution_count": 4
        }
      ]
    },
    {
      "cell_type": "code",
      "metadata": {
        "id": "XcUj6nCy3t9o",
        "colab_type": "code",
        "colab": {
          "base_uri": "https://localhost:8080/",
          "height": 342
        },
        "outputId": "5ed55c79-9a63-4107-bccc-f19959ddb6e6"
      },
      "source": [
        "X_train.info()"
      ],
      "execution_count": 1061,
      "outputs": [
        {
          "output_type": "stream",
          "text": [
            "<class 'pandas.core.frame.DataFrame'>\n",
            "Int64Index: 17176 entries, 189123628 to 213817296\n",
            "Data columns (total 13 columns):\n",
            " #   Column                     Non-Null Count  Dtype  \n",
            "---  ------                     --------------  -----  \n",
            " 0   additional_fare            16974 non-null  float64\n",
            " 1   duration                   16974 non-null  float64\n",
            " 2   meter_waiting              16974 non-null  float64\n",
            " 3   meter_waiting_fare         16974 non-null  float64\n",
            " 4   meter_waiting_till_pickup  16974 non-null  float64\n",
            " 5   pickup_time                17176 non-null  object \n",
            " 6   drop_time                  17176 non-null  object \n",
            " 7   pick_lat                   17176 non-null  float64\n",
            " 8   pick_lon                   17176 non-null  float64\n",
            " 9   drop_lat                   17176 non-null  float64\n",
            " 10  drop_lon                   17176 non-null  float64\n",
            " 11  fare                       17039 non-null  float64\n",
            " 12  label                      17176 non-null  object \n",
            "dtypes: float64(10), object(3)\n",
            "memory usage: 1.8+ MB\n"
          ],
          "name": "stdout"
        }
      ]
    },
    {
      "cell_type": "code",
      "metadata": {
        "colab_type": "code",
        "id": "h3sL0qOFVrkY",
        "colab": {}
      },
      "source": [
        "num_rows=X_train.shape[0]\n",
        "duration_list = []\n",
        "for i in range(num_rows):\n",
        "  duration = (datetime.strptime(X_train.iloc[i]['drop_time'],'%m/%d/%Y %H:%M')- datetime.strptime(X_train.iloc[i]['pickup_time'],'%m/%d/%Y %H:%M')).seconds\n",
        "  duration_list.append(duration)\n",
        "\n",
        "X_train['calc_duration'] = duration_list\n"
      ],
      "execution_count": 0,
      "outputs": []
    },
    {
      "cell_type": "code",
      "metadata": {
        "id": "SZHZNwaYpE7a",
        "colab_type": "code",
        "colab": {}
      },
      "source": [
        "'''\n",
        "num_rows=X_train.shape[0]\n",
        "hour_list = []\n",
        "for i in range(num_rows):\n",
        "  hour = datetime.strptime(X_train.iloc[i]['pickup_time'],'%m/%d/%Y %H:%M').hour\n",
        "  hour_list.append(hour)\n",
        "\n",
        "X_train['hour'] = hour_list\n",
        "'''"
      ],
      "execution_count": 0,
      "outputs": []
    },
    {
      "cell_type": "code",
      "metadata": {
        "id": "oVGHg6CvpFZX",
        "colab_type": "code",
        "colab": {}
      },
      "source": [
        ""
      ],
      "execution_count": 0,
      "outputs": []
    },
    {
      "cell_type": "code",
      "metadata": {
        "colab_type": "code",
        "id": "daE0bvaVVrke",
        "colab": {}
      },
      "source": [
        "X_train.drop('drop_time',axis = 1,inplace=True)\n",
        "X_train.drop('pickup_time',axis = 1,inplace=True)\n",
        "#X_train.drop('additional_fare',axis = 1,inplace=True)\n",
        "#X_train.drop('meter_waiting_till_pickup',axis = 1,inplace=True)\n"
      ],
      "execution_count": 0,
      "outputs": []
    },
    {
      "cell_type": "code",
      "metadata": {
        "id": "w6s3ycXaWkmW",
        "colab_type": "code",
        "outputId": "50beb571-c183-41b2-8cb4-59c876797a55",
        "colab": {
          "base_uri": "https://localhost:8080/",
          "height": 335
        }
      },
      "source": [
        "X_train.corr()"
      ],
      "execution_count": 29,
      "outputs": [
        {
          "output_type": "execute_result",
          "data": {
            "text/html": [
              "<div>\n",
              "<style scoped>\n",
              "    .dataframe tbody tr th:only-of-type {\n",
              "        vertical-align: middle;\n",
              "    }\n",
              "\n",
              "    .dataframe tbody tr th {\n",
              "        vertical-align: top;\n",
              "    }\n",
              "\n",
              "    .dataframe thead th {\n",
              "        text-align: right;\n",
              "    }\n",
              "</style>\n",
              "<table border=\"1\" class=\"dataframe\">\n",
              "  <thead>\n",
              "    <tr style=\"text-align: right;\">\n",
              "      <th></th>\n",
              "      <th>additional_fare</th>\n",
              "      <th>meter_waiting</th>\n",
              "      <th>meter_waiting_fare</th>\n",
              "      <th>meter_waiting_till_pickup</th>\n",
              "      <th>pick_lat</th>\n",
              "      <th>pick_lon</th>\n",
              "      <th>drop_lat</th>\n",
              "      <th>drop_lon</th>\n",
              "      <th>fare</th>\n",
              "      <th>calc_duration</th>\n",
              "    </tr>\n",
              "  </thead>\n",
              "  <tbody>\n",
              "    <tr>\n",
              "      <th>additional_fare</th>\n",
              "      <td>1.000000</td>\n",
              "      <td>0.197605</td>\n",
              "      <td>0.199604</td>\n",
              "      <td>0.002355</td>\n",
              "      <td>0.009124</td>\n",
              "      <td>0.000621</td>\n",
              "      <td>0.004644</td>\n",
              "      <td>0.001539</td>\n",
              "      <td>0.315285</td>\n",
              "      <td>-0.000649</td>\n",
              "    </tr>\n",
              "    <tr>\n",
              "      <th>meter_waiting</th>\n",
              "      <td>0.197605</td>\n",
              "      <td>1.000000</td>\n",
              "      <td>0.999474</td>\n",
              "      <td>0.030447</td>\n",
              "      <td>-0.016171</td>\n",
              "      <td>-0.014211</td>\n",
              "      <td>-0.010117</td>\n",
              "      <td>-0.007905</td>\n",
              "      <td>0.870126</td>\n",
              "      <td>0.468704</td>\n",
              "    </tr>\n",
              "    <tr>\n",
              "      <th>meter_waiting_fare</th>\n",
              "      <td>0.199604</td>\n",
              "      <td>0.999474</td>\n",
              "      <td>1.000000</td>\n",
              "      <td>0.029908</td>\n",
              "      <td>-0.015014</td>\n",
              "      <td>-0.012483</td>\n",
              "      <td>-0.009430</td>\n",
              "      <td>-0.006805</td>\n",
              "      <td>0.865073</td>\n",
              "      <td>0.467759</td>\n",
              "    </tr>\n",
              "    <tr>\n",
              "      <th>meter_waiting_till_pickup</th>\n",
              "      <td>0.002355</td>\n",
              "      <td>0.030447</td>\n",
              "      <td>0.029908</td>\n",
              "      <td>1.000000</td>\n",
              "      <td>0.011393</td>\n",
              "      <td>0.016509</td>\n",
              "      <td>0.006949</td>\n",
              "      <td>0.011065</td>\n",
              "      <td>0.045468</td>\n",
              "      <td>0.062765</td>\n",
              "    </tr>\n",
              "    <tr>\n",
              "      <th>pick_lat</th>\n",
              "      <td>0.009124</td>\n",
              "      <td>-0.016171</td>\n",
              "      <td>-0.015014</td>\n",
              "      <td>0.011393</td>\n",
              "      <td>1.000000</td>\n",
              "      <td>0.522473</td>\n",
              "      <td>0.560466</td>\n",
              "      <td>0.340161</td>\n",
              "      <td>-0.024556</td>\n",
              "      <td>-0.045228</td>\n",
              "    </tr>\n",
              "    <tr>\n",
              "      <th>pick_lon</th>\n",
              "      <td>0.000621</td>\n",
              "      <td>-0.014211</td>\n",
              "      <td>-0.012483</td>\n",
              "      <td>0.016509</td>\n",
              "      <td>0.522473</td>\n",
              "      <td>1.000000</td>\n",
              "      <td>0.307313</td>\n",
              "      <td>0.654917</td>\n",
              "      <td>-0.035237</td>\n",
              "      <td>-0.052146</td>\n",
              "    </tr>\n",
              "    <tr>\n",
              "      <th>drop_lat</th>\n",
              "      <td>0.004644</td>\n",
              "      <td>-0.010117</td>\n",
              "      <td>-0.009430</td>\n",
              "      <td>0.006949</td>\n",
              "      <td>0.560466</td>\n",
              "      <td>0.307313</td>\n",
              "      <td>1.000000</td>\n",
              "      <td>-0.414566</td>\n",
              "      <td>-0.015530</td>\n",
              "      <td>-0.022170</td>\n",
              "    </tr>\n",
              "    <tr>\n",
              "      <th>drop_lon</th>\n",
              "      <td>0.001539</td>\n",
              "      <td>-0.007905</td>\n",
              "      <td>-0.006805</td>\n",
              "      <td>0.011065</td>\n",
              "      <td>0.340161</td>\n",
              "      <td>0.654917</td>\n",
              "      <td>-0.414566</td>\n",
              "      <td>1.000000</td>\n",
              "      <td>-0.014912</td>\n",
              "      <td>-0.026661</td>\n",
              "    </tr>\n",
              "    <tr>\n",
              "      <th>fare</th>\n",
              "      <td>0.315285</td>\n",
              "      <td>0.870126</td>\n",
              "      <td>0.865073</td>\n",
              "      <td>0.045468</td>\n",
              "      <td>-0.024556</td>\n",
              "      <td>-0.035237</td>\n",
              "      <td>-0.015530</td>\n",
              "      <td>-0.014912</td>\n",
              "      <td>1.000000</td>\n",
              "      <td>0.582714</td>\n",
              "    </tr>\n",
              "    <tr>\n",
              "      <th>calc_duration</th>\n",
              "      <td>-0.000649</td>\n",
              "      <td>0.468704</td>\n",
              "      <td>0.467759</td>\n",
              "      <td>0.062765</td>\n",
              "      <td>-0.045228</td>\n",
              "      <td>-0.052146</td>\n",
              "      <td>-0.022170</td>\n",
              "      <td>-0.026661</td>\n",
              "      <td>0.582714</td>\n",
              "      <td>1.000000</td>\n",
              "    </tr>\n",
              "  </tbody>\n",
              "</table>\n",
              "</div>"
            ],
            "text/plain": [
              "                           additional_fare  ...  calc_duration\n",
              "additional_fare                   1.000000  ...      -0.000649\n",
              "meter_waiting                     0.197605  ...       0.468704\n",
              "meter_waiting_fare                0.199604  ...       0.467759\n",
              "meter_waiting_till_pickup         0.002355  ...       0.062765\n",
              "pick_lat                          0.009124  ...      -0.045228\n",
              "pick_lon                          0.000621  ...      -0.052146\n",
              "drop_lat                          0.004644  ...      -0.022170\n",
              "drop_lon                          0.001539  ...      -0.026661\n",
              "fare                              0.315285  ...       0.582714\n",
              "calc_duration                    -0.000649  ...       1.000000\n",
              "\n",
              "[10 rows x 10 columns]"
            ]
          },
          "metadata": {
            "tags": []
          },
          "execution_count": 29
        }
      ]
    },
    {
      "cell_type": "code",
      "metadata": {
        "id": "AA9uFGUupTDz",
        "colab_type": "code",
        "colab": {}
      },
      "source": [
        ""
      ],
      "execution_count": 0,
      "outputs": []
    },
    {
      "cell_type": "code",
      "metadata": {
        "id": "xMaGRXJ8iU_4",
        "colab_type": "code",
        "colab": {}
      },
      "source": [
        ""
      ],
      "execution_count": 0,
      "outputs": []
    },
    {
      "cell_type": "code",
      "metadata": {
        "id": "mGKUaARF2Tz-",
        "colab_type": "code",
        "colab": {}
      },
      "source": [
        "from numpy import cos, sin, arcsin, sqrt\n",
        "from math import radians\n",
        "\n",
        "def haversine(pick_lon,pick_lat,drop_lon,drop_lat):\n",
        "    lon1 = pick_lon\n",
        "    lat1 = pick_lat\n",
        "    lon2 =drop_lon\n",
        "    lat2 = drop_lat\n",
        "\n",
        "    lon1, lat1, lon2, lat2 = map(radians, [lon1, lat1, lon2, lat2])\n",
        "    dlon = lon2 - lon1 \n",
        "    dlat = lat2 - lat1 \n",
        "    a = sin(dlat/2)**2 + cos(lat1) * cos(lat2) * sin(dlon/2)**2\n",
        "    c = 2 * arcsin(sqrt(a)) \n",
        "    km = 6367 * c\n",
        "\n",
        "    return km"
      ],
      "execution_count": 0,
      "outputs": []
    },
    {
      "cell_type": "code",
      "metadata": {
        "id": "_1oM5eLu2YRq",
        "colab_type": "code",
        "colab": {}
      },
      "source": [
        "########### distance harvesian\n",
        "\n",
        "num_rows=X_train.shape[0]\n",
        "distance_list = []\n",
        "\n",
        "for i in range(num_rows):\n",
        "  pick_lon = X_train.iloc[i]['pick_lon'] \n",
        "  pick_lat = X_train.iloc[i]['pick_lat'] \n",
        "  drop_lon =  X_train.iloc[i]['drop_lon']\n",
        "  drop_lat =  X_train.iloc[i]['drop_lat']\n",
        "  dist = haversine(pick_lon,pick_lat,drop_lon,drop_lat)\n",
        "  distance_list.append(dist)\n",
        "\n",
        "X_train['distance'] = distance_list\n"
      ],
      "execution_count": 0,
      "outputs": []
    },
    {
      "cell_type": "code",
      "metadata": {
        "id": "sdZx4dcxrFwn",
        "colab_type": "code",
        "colab": {}
      },
      "source": [
        ""
      ],
      "execution_count": 0,
      "outputs": []
    },
    {
      "cell_type": "code",
      "metadata": {
        "id": "2qk70Mo-pSPq",
        "colab_type": "code",
        "colab": {}
      },
      "source": [
        "X_train.drop('pick_lat',axis = 1,inplace=True)\n",
        "X_train.drop('pick_lon',axis = 1,inplace=True)\n",
        "X_train.drop('drop_lat',axis = 1,inplace=True)\n",
        "X_train.drop('drop_lon',axis = 1,inplace=True)\n"
      ],
      "execution_count": 0,
      "outputs": []
    },
    {
      "cell_type": "code",
      "metadata": {
        "id": "4BCUmBjUqOGE",
        "colab_type": "code",
        "outputId": "8b3f4cd9-906f-4b1a-b402-8a50c2a1cf91",
        "colab": {
          "base_uri": "https://localhost:8080/",
          "height": 420
        }
      },
      "source": [
        "X_train"
      ],
      "execution_count": 1714,
      "outputs": [
        {
          "output_type": "execute_result",
          "data": {
            "text/html": [
              "<div>\n",
              "<style scoped>\n",
              "    .dataframe tbody tr th:only-of-type {\n",
              "        vertical-align: middle;\n",
              "    }\n",
              "\n",
              "    .dataframe tbody tr th {\n",
              "        vertical-align: top;\n",
              "    }\n",
              "\n",
              "    .dataframe thead th {\n",
              "        text-align: right;\n",
              "    }\n",
              "</style>\n",
              "<table border=\"1\" class=\"dataframe\">\n",
              "  <thead>\n",
              "    <tr style=\"text-align: right;\">\n",
              "      <th></th>\n",
              "      <th>additional_fare</th>\n",
              "      <th>duration</th>\n",
              "      <th>meter_waiting</th>\n",
              "      <th>meter_waiting_fare</th>\n",
              "      <th>meter_waiting_till_pickup</th>\n",
              "      <th>fare</th>\n",
              "      <th>label</th>\n",
              "      <th>calc_duration</th>\n",
              "      <th>distance</th>\n",
              "    </tr>\n",
              "    <tr>\n",
              "      <th>tripid</th>\n",
              "      <th></th>\n",
              "      <th></th>\n",
              "      <th></th>\n",
              "      <th></th>\n",
              "      <th></th>\n",
              "      <th></th>\n",
              "      <th></th>\n",
              "      <th></th>\n",
              "      <th></th>\n",
              "    </tr>\n",
              "  </thead>\n",
              "  <tbody>\n",
              "    <tr>\n",
              "      <th>189123628</th>\n",
              "      <td>10.5</td>\n",
              "      <td>834.0</td>\n",
              "      <td>56.0</td>\n",
              "      <td>0.0000</td>\n",
              "      <td>64.0</td>\n",
              "      <td>270.32</td>\n",
              "      <td>correct</td>\n",
              "      <td>840</td>\n",
              "      <td>5.089572</td>\n",
              "    </tr>\n",
              "    <tr>\n",
              "      <th>189125358</th>\n",
              "      <td>10.5</td>\n",
              "      <td>791.0</td>\n",
              "      <td>47.0</td>\n",
              "      <td>0.0000</td>\n",
              "      <td>134.0</td>\n",
              "      <td>197.85</td>\n",
              "      <td>correct</td>\n",
              "      <td>780</td>\n",
              "      <td>3.166069</td>\n",
              "    </tr>\n",
              "    <tr>\n",
              "      <th>189125719</th>\n",
              "      <td>10.5</td>\n",
              "      <td>1087.0</td>\n",
              "      <td>80.0</td>\n",
              "      <td>0.0000</td>\n",
              "      <td>61.0</td>\n",
              "      <td>301.64</td>\n",
              "      <td>correct</td>\n",
              "      <td>1080</td>\n",
              "      <td>6.301436</td>\n",
              "    </tr>\n",
              "    <tr>\n",
              "      <th>189127273</th>\n",
              "      <td>10.5</td>\n",
              "      <td>598.0</td>\n",
              "      <td>271.0</td>\n",
              "      <td>15.6638</td>\n",
              "      <td>68.0</td>\n",
              "      <td>82.30</td>\n",
              "      <td>correct</td>\n",
              "      <td>600</td>\n",
              "      <td>0.861405</td>\n",
              "    </tr>\n",
              "    <tr>\n",
              "      <th>189128020</th>\n",
              "      <td>NaN</td>\n",
              "      <td>NaN</td>\n",
              "      <td>NaN</td>\n",
              "      <td>NaN</td>\n",
              "      <td>NaN</td>\n",
              "      <td>358.39</td>\n",
              "      <td>correct</td>\n",
              "      <td>1020</td>\n",
              "      <td>8.142667</td>\n",
              "    </tr>\n",
              "    <tr>\n",
              "      <th>...</th>\n",
              "      <td>...</td>\n",
              "      <td>...</td>\n",
              "      <td>...</td>\n",
              "      <td>...</td>\n",
              "      <td>...</td>\n",
              "      <td>...</td>\n",
              "      <td>...</td>\n",
              "      <td>...</td>\n",
              "      <td>...</td>\n",
              "    </tr>\n",
              "    <tr>\n",
              "      <th>213803193</th>\n",
              "      <td>10.5</td>\n",
              "      <td>838.0</td>\n",
              "      <td>93.0</td>\n",
              "      <td>5.4219</td>\n",
              "      <td>451.0</td>\n",
              "      <td>198.26</td>\n",
              "      <td>correct</td>\n",
              "      <td>840</td>\n",
              "      <td>2.104054</td>\n",
              "    </tr>\n",
              "    <tr>\n",
              "      <th>213812756</th>\n",
              "      <td>10.5</td>\n",
              "      <td>2151.0</td>\n",
              "      <td>428.0</td>\n",
              "      <td>0.0000</td>\n",
              "      <td>39.0</td>\n",
              "      <td>581.23</td>\n",
              "      <td>correct</td>\n",
              "      <td>2160</td>\n",
              "      <td>10.861554</td>\n",
              "    </tr>\n",
              "    <tr>\n",
              "      <th>213813930</th>\n",
              "      <td>10.5</td>\n",
              "      <td>263.0</td>\n",
              "      <td>9.0</td>\n",
              "      <td>0.0000</td>\n",
              "      <td>110.0</td>\n",
              "      <td>76.20</td>\n",
              "      <td>correct</td>\n",
              "      <td>240</td>\n",
              "      <td>1.044862</td>\n",
              "    </tr>\n",
              "    <tr>\n",
              "      <th>213815405</th>\n",
              "      <td>10.5</td>\n",
              "      <td>858.0</td>\n",
              "      <td>115.0</td>\n",
              "      <td>0.0000</td>\n",
              "      <td>317.0</td>\n",
              "      <td>133.31</td>\n",
              "      <td>correct</td>\n",
              "      <td>840</td>\n",
              "      <td>2.877269</td>\n",
              "    </tr>\n",
              "    <tr>\n",
              "      <th>213817296</th>\n",
              "      <td>10.5</td>\n",
              "      <td>262.0</td>\n",
              "      <td>21.0</td>\n",
              "      <td>1.2243</td>\n",
              "      <td>23.0</td>\n",
              "      <td>98.57</td>\n",
              "      <td>correct</td>\n",
              "      <td>240</td>\n",
              "      <td>2.114547</td>\n",
              "    </tr>\n",
              "  </tbody>\n",
              "</table>\n",
              "<p>17176 rows × 9 columns</p>\n",
              "</div>"
            ],
            "text/plain": [
              "           additional_fare  duration  ...  calc_duration   distance\n",
              "tripid                                ...                          \n",
              "189123628             10.5     834.0  ...            840   5.089572\n",
              "189125358             10.5     791.0  ...            780   3.166069\n",
              "189125719             10.5    1087.0  ...           1080   6.301436\n",
              "189127273             10.5     598.0  ...            600   0.861405\n",
              "189128020              NaN       NaN  ...           1020   8.142667\n",
              "...                    ...       ...  ...            ...        ...\n",
              "213803193             10.5     838.0  ...            840   2.104054\n",
              "213812756             10.5    2151.0  ...           2160  10.861554\n",
              "213813930             10.5     263.0  ...            240   1.044862\n",
              "213815405             10.5     858.0  ...            840   2.877269\n",
              "213817296             10.5     262.0  ...            240   2.114547\n",
              "\n",
              "[17176 rows x 9 columns]"
            ]
          },
          "metadata": {
            "tags": []
          },
          "execution_count": 1714
        }
      ]
    },
    {
      "cell_type": "code",
      "metadata": {
        "id": "6Zp0GantrEWg",
        "colab_type": "code",
        "outputId": "4941a442-165f-4a2d-f987-8d56805483b3",
        "colab": {
          "base_uri": "https://localhost:8080/",
          "height": 277
        }
      },
      "source": [
        "X_train.describe()"
      ],
      "execution_count": 1627,
      "outputs": [
        {
          "output_type": "execute_result",
          "data": {
            "text/html": [
              "<div>\n",
              "<style scoped>\n",
              "    .dataframe tbody tr th:only-of-type {\n",
              "        vertical-align: middle;\n",
              "    }\n",
              "\n",
              "    .dataframe tbody tr th {\n",
              "        vertical-align: top;\n",
              "    }\n",
              "\n",
              "    .dataframe thead th {\n",
              "        text-align: right;\n",
              "    }\n",
              "</style>\n",
              "<table border=\"1\" class=\"dataframe\">\n",
              "  <thead>\n",
              "    <tr style=\"text-align: right;\">\n",
              "      <th></th>\n",
              "      <th>additional_fare</th>\n",
              "      <th>duration</th>\n",
              "      <th>meter_waiting</th>\n",
              "      <th>meter_waiting_fare</th>\n",
              "      <th>meter_waiting_till_pickup</th>\n",
              "      <th>pick_lat</th>\n",
              "      <th>pick_lon</th>\n",
              "      <th>fare</th>\n",
              "      <th>calc_duration</th>\n",
              "      <th>hour</th>\n",
              "      <th>distance</th>\n",
              "    </tr>\n",
              "  </thead>\n",
              "  <tbody>\n",
              "    <tr>\n",
              "      <th>count</th>\n",
              "      <td>16974.000000</td>\n",
              "      <td>16974.000000</td>\n",
              "      <td>16974.000000</td>\n",
              "      <td>16974.000000</td>\n",
              "      <td>16974.000000</td>\n",
              "      <td>17176.000000</td>\n",
              "      <td>17176.000000</td>\n",
              "      <td>17039.000000</td>\n",
              "      <td>17176.000000</td>\n",
              "      <td>17176.000000</td>\n",
              "      <td>17176.000000</td>\n",
              "    </tr>\n",
              "    <tr>\n",
              "      <th>mean</th>\n",
              "      <td>13.719651</td>\n",
              "      <td>1702.858077</td>\n",
              "      <td>629.074231</td>\n",
              "      <td>32.057666</td>\n",
              "      <td>112.466832</td>\n",
              "      <td>6.965499</td>\n",
              "      <td>79.998389</td>\n",
              "      <td>312.655466</td>\n",
              "      <td>1542.900559</td>\n",
              "      <td>13.817536</td>\n",
              "      <td>4.855211</td>\n",
              "    </tr>\n",
              "    <tr>\n",
              "      <th>std</th>\n",
              "      <td>98.975052</td>\n",
              "      <td>8120.160818</td>\n",
              "      <td>8063.260669</td>\n",
              "      <td>465.483573</td>\n",
              "      <td>442.054812</td>\n",
              "      <td>0.210760</td>\n",
              "      <td>0.243384</td>\n",
              "      <td>605.300565</td>\n",
              "      <td>3050.348164</td>\n",
              "      <td>4.824091</td>\n",
              "      <td>42.988843</td>\n",
              "    </tr>\n",
              "    <tr>\n",
              "      <th>min</th>\n",
              "      <td>0.000000</td>\n",
              "      <td>0.000000</td>\n",
              "      <td>0.000000</td>\n",
              "      <td>0.000000</td>\n",
              "      <td>0.000000</td>\n",
              "      <td>5.937600</td>\n",
              "      <td>79.819100</td>\n",
              "      <td>0.000000</td>\n",
              "      <td>0.000000</td>\n",
              "      <td>0.000000</td>\n",
              "      <td>0.000000</td>\n",
              "    </tr>\n",
              "    <tr>\n",
              "      <th>25%</th>\n",
              "      <td>10.500000</td>\n",
              "      <td>548.000000</td>\n",
              "      <td>33.000000</td>\n",
              "      <td>0.000000</td>\n",
              "      <td>26.000000</td>\n",
              "      <td>6.865077</td>\n",
              "      <td>79.870400</td>\n",
              "      <td>125.515000</td>\n",
              "      <td>540.000000</td>\n",
              "      <td>10.000000</td>\n",
              "      <td>1.485229</td>\n",
              "    </tr>\n",
              "    <tr>\n",
              "      <th>50%</th>\n",
              "      <td>10.500000</td>\n",
              "      <td>1009.500000</td>\n",
              "      <td>123.000000</td>\n",
              "      <td>0.116600</td>\n",
              "      <td>73.000000</td>\n",
              "      <td>6.914105</td>\n",
              "      <td>79.898600</td>\n",
              "      <td>211.180000</td>\n",
              "      <td>1020.000000</td>\n",
              "      <td>14.000000</td>\n",
              "      <td>3.216362</td>\n",
              "    </tr>\n",
              "    <tr>\n",
              "      <th>75%</th>\n",
              "      <td>10.500000</td>\n",
              "      <td>1803.000000</td>\n",
              "      <td>351.000000</td>\n",
              "      <td>14.341800</td>\n",
              "      <td>144.000000</td>\n",
              "      <td>7.043057</td>\n",
              "      <td>79.956600</td>\n",
              "      <td>366.465000</td>\n",
              "      <td>1800.000000</td>\n",
              "      <td>18.000000</td>\n",
              "      <td>6.157178</td>\n",
              "    </tr>\n",
              "    <tr>\n",
              "      <th>max</th>\n",
              "      <td>12795.030000</td>\n",
              "      <td>453872.000000</td>\n",
              "      <td>453650.000000</td>\n",
              "      <td>26198.601400</td>\n",
              "      <td>51288.000000</td>\n",
              "      <td>8.051010</td>\n",
              "      <td>81.009600</td>\n",
              "      <td>26945.990000</td>\n",
              "      <td>86100.000000</td>\n",
              "      <td>23.000000</td>\n",
              "      <td>5605.999530</td>\n",
              "    </tr>\n",
              "  </tbody>\n",
              "</table>\n",
              "</div>"
            ],
            "text/plain": [
              "       additional_fare       duration  ...          hour      distance\n",
              "count     16974.000000   16974.000000  ...  17176.000000  17176.000000\n",
              "mean         13.719651    1702.858077  ...     13.817536      4.855211\n",
              "std          98.975052    8120.160818  ...      4.824091     42.988843\n",
              "min           0.000000       0.000000  ...      0.000000      0.000000\n",
              "25%          10.500000     548.000000  ...     10.000000      1.485229\n",
              "50%          10.500000    1009.500000  ...     14.000000      3.216362\n",
              "75%          10.500000    1803.000000  ...     18.000000      6.157178\n",
              "max       12795.030000  453872.000000  ...     23.000000   5605.999530\n",
              "\n",
              "[8 rows x 11 columns]"
            ]
          },
          "metadata": {
            "tags": []
          },
          "execution_count": 1627
        }
      ]
    },
    {
      "cell_type": "code",
      "metadata": {
        "id": "Bcahup_vDIf4",
        "colab_type": "code",
        "colab": {}
      },
      "source": [
        "########################## outliers"
      ],
      "execution_count": 0,
      "outputs": []
    },
    {
      "cell_type": "code",
      "metadata": {
        "id": "9z2U0KVoYxpK",
        "colab_type": "code",
        "colab": {
          "base_uri": "https://localhost:8080/",
          "height": 281
        },
        "outputId": "359e928b-03e2-4419-bc2c-456b1602a175"
      },
      "source": [
        "plt.scatter(X_train['additional_fare'],X_train['fare'])"
      ],
      "execution_count": 388,
      "outputs": [
        {
          "output_type": "execute_result",
          "data": {
            "text/plain": [
              "<matplotlib.collections.PathCollection at 0x7f9754938c88>"
            ]
          },
          "metadata": {
            "tags": []
          },
          "execution_count": 388
        },
        {
          "output_type": "display_data",
          "data": {
            "image/png": "[encoded data removed]",
            "text/plain": [
              "<Figure size 432x288 with 1 Axes>"
            ]
          },
          "metadata": {
            "tags": [],
            "needs_background": "light"
          }
        }
      ]
    },
    {
      "cell_type": "code",
      "metadata": {
        "id": "KiEolPJBY22V",
        "colab_type": "code",
        "colab": {
          "base_uri": "https://localhost:8080/",
          "height": 33
        },
        "outputId": "fcc6833e-d305-4d9e-a3fd-94fe0b2fce64"
      },
      "source": [
        "\n",
        "outlier_dist_row = X_train.loc[X_train['additional_fare']>12000].index\n",
        "outlier_dist_row\n"
      ],
      "execution_count": 14,
      "outputs": [
        {
          "output_type": "execute_result",
          "data": {
            "text/plain": [
              "Int64Index([209365576], dtype='int64', name='tripid')"
            ]
          },
          "metadata": {
            "tags": []
          },
          "execution_count": 14
        }
      ]
    },
    {
      "cell_type": "code",
      "metadata": {
        "id": "bFAFz2NvcZtV",
        "colab_type": "code",
        "colab": {}
      },
      "source": [
        "X_train.drop(outlier_dist_row,inplace=True)"
      ],
      "execution_count": 0,
      "outputs": []
    },
    {
      "cell_type": "code",
      "metadata": {
        "id": "gLy1sgb6HFPn",
        "colab_type": "code",
        "colab": {}
      },
      "source": [
        "##################### distance"
      ],
      "execution_count": 0,
      "outputs": []
    },
    {
      "cell_type": "code",
      "metadata": {
        "id": "Oy6Zuui07sNa",
        "colab_type": "code",
        "outputId": "a71c0777-2a74-4f9b-fbc3-23a10eeec286",
        "colab": {
          "base_uri": "https://localhost:8080/",
          "height": 281
        }
      },
      "source": [
        "plt.scatter(X_train['distance'],X_train['fare'])"
      ],
      "execution_count": 1645,
      "outputs": [
        {
          "output_type": "execute_result",
          "data": {
            "text/plain": [
              "<matplotlib.collections.PathCollection at 0x7f970881d128>"
            ]
          },
          "metadata": {
            "tags": []
          },
          "execution_count": 1645
        },
        {
          "output_type": "display_data",
          "data": {
            "image/png": "[encoded data removed]",
            "text/plain": [
              "<Figure size 432x288 with 1 Axes>"
            ]
          },
          "metadata": {
            "tags": [],
            "needs_background": "light"
          }
        }
      ]
    },
    {
      "cell_type": "code",
      "metadata": {
        "id": "cgqo6pWkCbTO",
        "colab_type": "code",
        "outputId": "c67d3877-f47f-474e-bc6b-dd6d746b4088",
        "colab": {
          "base_uri": "https://localhost:8080/",
          "height": 33
        }
      },
      "source": [
        "outlier_dist_row = X_train.loc[X_train['distance']>5000].index\n",
        "outlier_dist_row"
      ],
      "execution_count": 16,
      "outputs": [
        {
          "output_type": "execute_result",
          "data": {
            "text/plain": [
              "Int64Index([190167541], dtype='int64', name='tripid')"
            ]
          },
          "metadata": {
            "tags": []
          },
          "execution_count": 16
        }
      ]
    },
    {
      "cell_type": "code",
      "metadata": {
        "id": "M-VuOCudCqxj",
        "colab_type": "code",
        "colab": {}
      },
      "source": [
        "X_train.drop(outlier_dist_row,inplace=True)"
      ],
      "execution_count": 0,
      "outputs": []
    },
    {
      "cell_type": "code",
      "metadata": {
        "id": "MZ83wg1VDLKk",
        "colab_type": "code",
        "colab": {}
      },
      "source": [
        "########### meter_waiting_till_pickup"
      ],
      "execution_count": 0,
      "outputs": []
    },
    {
      "cell_type": "code",
      "metadata": {
        "colab_type": "code",
        "outputId": "000bab60-c9d6-45b0-e4b3-d8bbc9f0053c",
        "id": "L-oJq3txDLaz",
        "colab": {
          "base_uri": "https://localhost:8080/",
          "height": 281
        }
      },
      "source": [
        "#plt.scatter(X_train['meter_waiting_till_pickup'],X_train['fare'])"
      ],
      "execution_count": 961,
      "outputs": [
        {
          "output_type": "execute_result",
          "data": {
            "text/plain": [
              "<matplotlib.collections.PathCollection at 0x7f9708c785c0>"
            ]
          },
          "metadata": {
            "tags": []
          },
          "execution_count": 961
        },
        {
          "output_type": "display_data",
          "data": {
            "image/png": "[encoded data removed]",
            "text/plain": [
              "<Figure size 432x288 with 1 Axes>"
            ]
          },
          "metadata": {
            "tags": [],
            "needs_background": "light"
          }
        }
      ]
    },
    {
      "cell_type": "code",
      "metadata": {
        "colab_type": "code",
        "outputId": "aa54f741-8bcf-452c-bce8-8f32879363ef",
        "id": "ENs1LXR7DLbF",
        "colab": {
          "base_uri": "https://localhost:8080/",
          "height": 191
        }
      },
      "source": [
        "\n",
        "outlier_waiting_till_pickup_row = X_train.loc[X_train['meter_waiting_till_pickup']>6000]\n",
        "outlier_waiting_till_pickup_row\n"
      ],
      "execution_count": 18,
      "outputs": [
        {
          "output_type": "execute_result",
          "data": {
            "text/html": [
              "<div>\n",
              "<style scoped>\n",
              "    .dataframe tbody tr th:only-of-type {\n",
              "        vertical-align: middle;\n",
              "    }\n",
              "\n",
              "    .dataframe tbody tr th {\n",
              "        vertical-align: top;\n",
              "    }\n",
              "\n",
              "    .dataframe thead th {\n",
              "        text-align: right;\n",
              "    }\n",
              "</style>\n",
              "<table border=\"1\" class=\"dataframe\">\n",
              "  <thead>\n",
              "    <tr style=\"text-align: right;\">\n",
              "      <th></th>\n",
              "      <th>additional_fare</th>\n",
              "      <th>duration</th>\n",
              "      <th>meter_waiting</th>\n",
              "      <th>meter_waiting_fare</th>\n",
              "      <th>meter_waiting_till_pickup</th>\n",
              "      <th>fare</th>\n",
              "      <th>label</th>\n",
              "      <th>calc_duration</th>\n",
              "      <th>distance</th>\n",
              "    </tr>\n",
              "    <tr>\n",
              "      <th>tripid</th>\n",
              "      <th></th>\n",
              "      <th></th>\n",
              "      <th></th>\n",
              "      <th></th>\n",
              "      <th></th>\n",
              "      <th></th>\n",
              "      <th></th>\n",
              "      <th></th>\n",
              "      <th></th>\n",
              "    </tr>\n",
              "  </thead>\n",
              "  <tbody>\n",
              "    <tr>\n",
              "      <th>191056435</th>\n",
              "      <td>10.5</td>\n",
              "      <td>80.0</td>\n",
              "      <td>80.0</td>\n",
              "      <td>0.0000</td>\n",
              "      <td>51288.0</td>\n",
              "      <td>60.50</td>\n",
              "      <td>correct</td>\n",
              "      <td>120</td>\n",
              "      <td>1.583644</td>\n",
              "    </tr>\n",
              "    <tr>\n",
              "      <th>193341290</th>\n",
              "      <td>10.5</td>\n",
              "      <td>154423.0</td>\n",
              "      <td>121319.0</td>\n",
              "      <td>7012.2382</td>\n",
              "      <td>11722.0</td>\n",
              "      <td>11503.81</td>\n",
              "      <td>incorrect</td>\n",
              "      <td>67980</td>\n",
              "      <td>4.350098</td>\n",
              "    </tr>\n",
              "    <tr>\n",
              "      <th>193827380</th>\n",
              "      <td>10.5</td>\n",
              "      <td>83.0</td>\n",
              "      <td>73.0</td>\n",
              "      <td>0.0000</td>\n",
              "      <td>8800.0</td>\n",
              "      <td>60.50</td>\n",
              "      <td>correct</td>\n",
              "      <td>120</td>\n",
              "      <td>1.703314</td>\n",
              "    </tr>\n",
              "    <tr>\n",
              "      <th>205639292</th>\n",
              "      <td>10.5</td>\n",
              "      <td>98.0</td>\n",
              "      <td>0.0</td>\n",
              "      <td>0.0000</td>\n",
              "      <td>11944.0</td>\n",
              "      <td>60.50</td>\n",
              "      <td>correct</td>\n",
              "      <td>120</td>\n",
              "      <td>3.503663</td>\n",
              "    </tr>\n",
              "  </tbody>\n",
              "</table>\n",
              "</div>"
            ],
            "text/plain": [
              "           additional_fare  duration  ...  calc_duration  distance\n",
              "tripid                                ...                         \n",
              "191056435             10.5      80.0  ...            120  1.583644\n",
              "193341290             10.5  154423.0  ...          67980  4.350098\n",
              "193827380             10.5      83.0  ...            120  1.703314\n",
              "205639292             10.5      98.0  ...            120  3.503663\n",
              "\n",
              "[4 rows x 9 columns]"
            ]
          },
          "metadata": {
            "tags": []
          },
          "execution_count": 18
        }
      ]
    },
    {
      "cell_type": "code",
      "metadata": {
        "colab_type": "code",
        "id": "MhAuYuAyDLbP",
        "colab": {}
      },
      "source": [
        "#ids = X_train.index[['191056435','193827380','205639292']]\n",
        "X_train.drop(191056435,inplace=True)\n",
        "X_train.drop(193827380,inplace=True)\n",
        "X_train.drop(205639292,inplace=True)\n"
      ],
      "execution_count": 0,
      "outputs": []
    },
    {
      "cell_type": "code",
      "metadata": {
        "id": "KZCexcRbG6wP",
        "colab_type": "code",
        "colab": {}
      },
      "source": [
        "###############   meter_waiting_fare"
      ],
      "execution_count": 0,
      "outputs": []
    },
    {
      "cell_type": "code",
      "metadata": {
        "id": "xWK1A2JBHOtH",
        "colab_type": "code",
        "colab": {}
      },
      "source": [
        ""
      ],
      "execution_count": 0,
      "outputs": []
    },
    {
      "cell_type": "code",
      "metadata": {
        "colab_type": "code",
        "outputId": "54e39a8c-9145-44ca-c334-1de35908cb1e",
        "id": "rRq1KAtSHO3M",
        "colab": {
          "base_uri": "https://localhost:8080/",
          "height": 281
        }
      },
      "source": [
        "plt.scatter(X_train['meter_waiting_fare'],X_train['fare'])"
      ],
      "execution_count": 14,
      "outputs": [
        {
          "output_type": "execute_result",
          "data": {
            "text/plain": [
              "<matplotlib.collections.PathCollection at 0x7f9757cda358>"
            ]
          },
          "metadata": {
            "tags": []
          },
          "execution_count": 14
        },
        {
          "output_type": "display_data",
          "data": {
            "image/png": "[encoded data removed]",
            "text/plain": [
              "<Figure size 432x288 with 1 Axes>"
            ]
          },
          "metadata": {
            "tags": [],
            "needs_background": "light"
          }
        }
      ]
    },
    {
      "cell_type": "code",
      "metadata": {
        "colab_type": "code",
        "outputId": "4011cdd6-be7d-47ff-923a-b4786e16c5cc",
        "id": "gpYWklQ-HO3a",
        "colab": {
          "base_uri": "https://localhost:8080/",
          "height": 248
        }
      },
      "source": [
        "outlier_waiting_time = X_train.loc[X_train['fare']>15000]\n",
        "outlier_waiting_time"
      ],
      "execution_count": 20,
      "outputs": [
        {
          "output_type": "execute_result",
          "data": {
            "text/html": [
              "<div>\n",
              "<style scoped>\n",
              "    .dataframe tbody tr th:only-of-type {\n",
              "        vertical-align: middle;\n",
              "    }\n",
              "\n",
              "    .dataframe tbody tr th {\n",
              "        vertical-align: top;\n",
              "    }\n",
              "\n",
              "    .dataframe thead th {\n",
              "        text-align: right;\n",
              "    }\n",
              "</style>\n",
              "<table border=\"1\" class=\"dataframe\">\n",
              "  <thead>\n",
              "    <tr style=\"text-align: right;\">\n",
              "      <th></th>\n",
              "      <th>additional_fare</th>\n",
              "      <th>duration</th>\n",
              "      <th>meter_waiting</th>\n",
              "      <th>meter_waiting_fare</th>\n",
              "      <th>meter_waiting_till_pickup</th>\n",
              "      <th>fare</th>\n",
              "      <th>label</th>\n",
              "      <th>calc_duration</th>\n",
              "      <th>distance</th>\n",
              "    </tr>\n",
              "    <tr>\n",
              "      <th>tripid</th>\n",
              "      <th></th>\n",
              "      <th></th>\n",
              "      <th></th>\n",
              "      <th></th>\n",
              "      <th></th>\n",
              "      <th></th>\n",
              "      <th></th>\n",
              "      <th></th>\n",
              "      <th></th>\n",
              "    </tr>\n",
              "  </thead>\n",
              "  <tbody>\n",
              "    <tr>\n",
              "      <th>192121471</th>\n",
              "      <td>10.5</td>\n",
              "      <td>435397.0</td>\n",
              "      <td>435308.0</td>\n",
              "      <td>25098.4362</td>\n",
              "      <td>39.0</td>\n",
              "      <td>25315.09</td>\n",
              "      <td>incorrect</td>\n",
              "      <td>3360</td>\n",
              "      <td>1.074735</td>\n",
              "    </tr>\n",
              "    <tr>\n",
              "      <th>194554416</th>\n",
              "      <td>10.5</td>\n",
              "      <td>339351.0</td>\n",
              "      <td>339312.0</td>\n",
              "      <td>19570.7332</td>\n",
              "      <td>44.0</td>\n",
              "      <td>19865.46</td>\n",
              "      <td>incorrect</td>\n",
              "      <td>80160</td>\n",
              "      <td>5.830278</td>\n",
              "    </tr>\n",
              "    <tr>\n",
              "      <th>195593822</th>\n",
              "      <td>10.5</td>\n",
              "      <td>442190.0</td>\n",
              "      <td>431741.0</td>\n",
              "      <td>24954.6298</td>\n",
              "      <td>7.0</td>\n",
              "      <td>26098.75</td>\n",
              "      <td>incorrect</td>\n",
              "      <td>10200</td>\n",
              "      <td>3.395979</td>\n",
              "    </tr>\n",
              "    <tr>\n",
              "      <th>199689558</th>\n",
              "      <td>10.5</td>\n",
              "      <td>316978.0</td>\n",
              "      <td>316725.0</td>\n",
              "      <td>18465.0675</td>\n",
              "      <td>37.0</td>\n",
              "      <td>18962.60</td>\n",
              "      <td>incorrect</td>\n",
              "      <td>57780</td>\n",
              "      <td>8.357869</td>\n",
              "    </tr>\n",
              "    <tr>\n",
              "      <th>200943864</th>\n",
              "      <td>10.5</td>\n",
              "      <td>91344.0</td>\n",
              "      <td>90026.0</td>\n",
              "      <td>3810.2338</td>\n",
              "      <td>121.0</td>\n",
              "      <td>17499.49</td>\n",
              "      <td>incorrect</td>\n",
              "      <td>4920</td>\n",
              "      <td>1.603449</td>\n",
              "    </tr>\n",
              "    <tr>\n",
              "      <th>210573839</th>\n",
              "      <td>10.5</td>\n",
              "      <td>453872.0</td>\n",
              "      <td>453650.0</td>\n",
              "      <td>26198.6014</td>\n",
              "      <td>361.0</td>\n",
              "      <td>26945.99</td>\n",
              "      <td>correct</td>\n",
              "      <td>21840</td>\n",
              "      <td>10.702709</td>\n",
              "    </tr>\n",
              "  </tbody>\n",
              "</table>\n",
              "</div>"
            ],
            "text/plain": [
              "           additional_fare  duration  ...  calc_duration   distance\n",
              "tripid                                ...                          \n",
              "192121471             10.5  435397.0  ...           3360   1.074735\n",
              "194554416             10.5  339351.0  ...          80160   5.830278\n",
              "195593822             10.5  442190.0  ...          10200   3.395979\n",
              "199689558             10.5  316978.0  ...          57780   8.357869\n",
              "200943864             10.5   91344.0  ...           4920   1.603449\n",
              "210573839             10.5  453872.0  ...          21840  10.702709\n",
              "\n",
              "[6 rows x 9 columns]"
            ]
          },
          "metadata": {
            "tags": []
          },
          "execution_count": 20
        }
      ]
    },
    {
      "cell_type": "code",
      "metadata": {
        "id": "M3aupy1uIhHY",
        "colab_type": "code",
        "colab": {}
      },
      "source": [
        "X_train.drop(210573839,inplace=True)\n"
      ],
      "execution_count": 0,
      "outputs": []
    },
    {
      "cell_type": "code",
      "metadata": {
        "id": "SSAwLYnk_pE8",
        "colab_type": "code",
        "colab": {}
      },
      "source": [
        ""
      ],
      "execution_count": 0,
      "outputs": []
    },
    {
      "cell_type": "code",
      "metadata": {
        "id": "psuxX4eu_jcO",
        "colab_type": "code",
        "colab": {}
      },
      "source": [
        "X_train.drop('duration',axis = 1,inplace=True)\n"
      ],
      "execution_count": 0,
      "outputs": []
    },
    {
      "cell_type": "code",
      "metadata": {
        "id": "KPgGtd7vIb8C",
        "colab_type": "code",
        "colab": {
          "base_uri": "https://localhost:8080/",
          "height": 420
        },
        "outputId": "1b608ff9-4564-4f9b-a77c-09c66dbd0048"
      },
      "source": [
        "X_train"
      ],
      "execution_count": 23,
      "outputs": [
        {
          "output_type": "execute_result",
          "data": {
            "text/html": [
              "<div>\n",
              "<style scoped>\n",
              "    .dataframe tbody tr th:only-of-type {\n",
              "        vertical-align: middle;\n",
              "    }\n",
              "\n",
              "    .dataframe tbody tr th {\n",
              "        vertical-align: top;\n",
              "    }\n",
              "\n",
              "    .dataframe thead th {\n",
              "        text-align: right;\n",
              "    }\n",
              "</style>\n",
              "<table border=\"1\" class=\"dataframe\">\n",
              "  <thead>\n",
              "    <tr style=\"text-align: right;\">\n",
              "      <th></th>\n",
              "      <th>additional_fare</th>\n",
              "      <th>meter_waiting</th>\n",
              "      <th>meter_waiting_fare</th>\n",
              "      <th>meter_waiting_till_pickup</th>\n",
              "      <th>fare</th>\n",
              "      <th>label</th>\n",
              "      <th>calc_duration</th>\n",
              "      <th>distance</th>\n",
              "    </tr>\n",
              "    <tr>\n",
              "      <th>tripid</th>\n",
              "      <th></th>\n",
              "      <th></th>\n",
              "      <th></th>\n",
              "      <th></th>\n",
              "      <th></th>\n",
              "      <th></th>\n",
              "      <th></th>\n",
              "      <th></th>\n",
              "    </tr>\n",
              "  </thead>\n",
              "  <tbody>\n",
              "    <tr>\n",
              "      <th>189123628</th>\n",
              "      <td>10.5</td>\n",
              "      <td>56.0</td>\n",
              "      <td>0.0000</td>\n",
              "      <td>64.0</td>\n",
              "      <td>270.32</td>\n",
              "      <td>correct</td>\n",
              "      <td>840</td>\n",
              "      <td>5.089572</td>\n",
              "    </tr>\n",
              "    <tr>\n",
              "      <th>189125358</th>\n",
              "      <td>10.5</td>\n",
              "      <td>47.0</td>\n",
              "      <td>0.0000</td>\n",
              "      <td>134.0</td>\n",
              "      <td>197.85</td>\n",
              "      <td>correct</td>\n",
              "      <td>780</td>\n",
              "      <td>3.166069</td>\n",
              "    </tr>\n",
              "    <tr>\n",
              "      <th>189125719</th>\n",
              "      <td>10.5</td>\n",
              "      <td>80.0</td>\n",
              "      <td>0.0000</td>\n",
              "      <td>61.0</td>\n",
              "      <td>301.64</td>\n",
              "      <td>correct</td>\n",
              "      <td>1080</td>\n",
              "      <td>6.301436</td>\n",
              "    </tr>\n",
              "    <tr>\n",
              "      <th>189127273</th>\n",
              "      <td>10.5</td>\n",
              "      <td>271.0</td>\n",
              "      <td>15.6638</td>\n",
              "      <td>68.0</td>\n",
              "      <td>82.30</td>\n",
              "      <td>correct</td>\n",
              "      <td>600</td>\n",
              "      <td>0.861405</td>\n",
              "    </tr>\n",
              "    <tr>\n",
              "      <th>189128020</th>\n",
              "      <td>NaN</td>\n",
              "      <td>NaN</td>\n",
              "      <td>NaN</td>\n",
              "      <td>NaN</td>\n",
              "      <td>358.39</td>\n",
              "      <td>correct</td>\n",
              "      <td>1020</td>\n",
              "      <td>8.142667</td>\n",
              "    </tr>\n",
              "    <tr>\n",
              "      <th>...</th>\n",
              "      <td>...</td>\n",
              "      <td>...</td>\n",
              "      <td>...</td>\n",
              "      <td>...</td>\n",
              "      <td>...</td>\n",
              "      <td>...</td>\n",
              "      <td>...</td>\n",
              "      <td>...</td>\n",
              "    </tr>\n",
              "    <tr>\n",
              "      <th>213803193</th>\n",
              "      <td>10.5</td>\n",
              "      <td>93.0</td>\n",
              "      <td>5.4219</td>\n",
              "      <td>451.0</td>\n",
              "      <td>198.26</td>\n",
              "      <td>correct</td>\n",
              "      <td>840</td>\n",
              "      <td>2.104054</td>\n",
              "    </tr>\n",
              "    <tr>\n",
              "      <th>213812756</th>\n",
              "      <td>10.5</td>\n",
              "      <td>428.0</td>\n",
              "      <td>0.0000</td>\n",
              "      <td>39.0</td>\n",
              "      <td>581.23</td>\n",
              "      <td>correct</td>\n",
              "      <td>2160</td>\n",
              "      <td>10.861554</td>\n",
              "    </tr>\n",
              "    <tr>\n",
              "      <th>213813930</th>\n",
              "      <td>10.5</td>\n",
              "      <td>9.0</td>\n",
              "      <td>0.0000</td>\n",
              "      <td>110.0</td>\n",
              "      <td>76.20</td>\n",
              "      <td>correct</td>\n",
              "      <td>240</td>\n",
              "      <td>1.044862</td>\n",
              "    </tr>\n",
              "    <tr>\n",
              "      <th>213815405</th>\n",
              "      <td>10.5</td>\n",
              "      <td>115.0</td>\n",
              "      <td>0.0000</td>\n",
              "      <td>317.0</td>\n",
              "      <td>133.31</td>\n",
              "      <td>correct</td>\n",
              "      <td>840</td>\n",
              "      <td>2.877269</td>\n",
              "    </tr>\n",
              "    <tr>\n",
              "      <th>213817296</th>\n",
              "      <td>10.5</td>\n",
              "      <td>21.0</td>\n",
              "      <td>1.2243</td>\n",
              "      <td>23.0</td>\n",
              "      <td>98.57</td>\n",
              "      <td>correct</td>\n",
              "      <td>240</td>\n",
              "      <td>2.114547</td>\n",
              "    </tr>\n",
              "  </tbody>\n",
              "</table>\n",
              "<p>17170 rows × 8 columns</p>\n",
              "</div>"
            ],
            "text/plain": [
              "           additional_fare  meter_waiting  ...  calc_duration   distance\n",
              "tripid                                     ...                          \n",
              "189123628             10.5           56.0  ...            840   5.089572\n",
              "189125358             10.5           47.0  ...            780   3.166069\n",
              "189125719             10.5           80.0  ...           1080   6.301436\n",
              "189127273             10.5          271.0  ...            600   0.861405\n",
              "189128020              NaN            NaN  ...           1020   8.142667\n",
              "...                    ...            ...  ...            ...        ...\n",
              "213803193             10.5           93.0  ...            840   2.104054\n",
              "213812756             10.5          428.0  ...           2160  10.861554\n",
              "213813930             10.5            9.0  ...            240   1.044862\n",
              "213815405             10.5          115.0  ...            840   2.877269\n",
              "213817296             10.5           21.0  ...            240   2.114547\n",
              "\n",
              "[17170 rows x 8 columns]"
            ]
          },
          "metadata": {
            "tags": []
          },
          "execution_count": 23
        }
      ]
    },
    {
      "cell_type": "code",
      "metadata": {
        "id": "aR2Gg3kFIsiq",
        "colab_type": "code",
        "colab": {}
      },
      "source": [
        "\n",
        "num_rows=X_train.shape[0]\n",
        "li =[]\n",
        "\n",
        "for i in range(num_rows):\n",
        "  if X_train.iloc[i]['meter_waiting'] >  X_train.iloc[i]['calc_duration'] and  X_train.iloc[i]['label'] == 'correct' :\n",
        "    li.append(i)\n"
      ],
      "execution_count": 0,
      "outputs": []
    },
    {
      "cell_type": "code",
      "metadata": {
        "id": "_Ml4aACYIsq-",
        "colab_type": "code",
        "outputId": "db4759a8-8821-4083-9439-8079dbe16c4f",
        "colab": {
          "base_uri": "https://localhost:8080/",
          "height": 420
        }
      },
      "source": [
        "X_train.iloc[li]"
      ],
      "execution_count": 25,
      "outputs": [
        {
          "output_type": "execute_result",
          "data": {
            "text/html": [
              "<div>\n",
              "<style scoped>\n",
              "    .dataframe tbody tr th:only-of-type {\n",
              "        vertical-align: middle;\n",
              "    }\n",
              "\n",
              "    .dataframe tbody tr th {\n",
              "        vertical-align: top;\n",
              "    }\n",
              "\n",
              "    .dataframe thead th {\n",
              "        text-align: right;\n",
              "    }\n",
              "</style>\n",
              "<table border=\"1\" class=\"dataframe\">\n",
              "  <thead>\n",
              "    <tr style=\"text-align: right;\">\n",
              "      <th></th>\n",
              "      <th>additional_fare</th>\n",
              "      <th>meter_waiting</th>\n",
              "      <th>meter_waiting_fare</th>\n",
              "      <th>meter_waiting_till_pickup</th>\n",
              "      <th>fare</th>\n",
              "      <th>label</th>\n",
              "      <th>calc_duration</th>\n",
              "      <th>distance</th>\n",
              "    </tr>\n",
              "    <tr>\n",
              "      <th>tripid</th>\n",
              "      <th></th>\n",
              "      <th></th>\n",
              "      <th></th>\n",
              "      <th></th>\n",
              "      <th></th>\n",
              "      <th></th>\n",
              "      <th></th>\n",
              "      <th></th>\n",
              "    </tr>\n",
              "  </thead>\n",
              "  <tbody>\n",
              "    <tr>\n",
              "      <th>189192436</th>\n",
              "      <td>10.5</td>\n",
              "      <td>21.0</td>\n",
              "      <td>0.0000</td>\n",
              "      <td>289.0</td>\n",
              "      <td>60.50</td>\n",
              "      <td>correct</td>\n",
              "      <td>0</td>\n",
              "      <td>0.023820</td>\n",
              "    </tr>\n",
              "    <tr>\n",
              "      <th>189213407</th>\n",
              "      <td>5.0</td>\n",
              "      <td>162277.0</td>\n",
              "      <td>9460.7491</td>\n",
              "      <td>0.0</td>\n",
              "      <td>10264.42</td>\n",
              "      <td>correct</td>\n",
              "      <td>76380</td>\n",
              "      <td>12.987443</td>\n",
              "    </tr>\n",
              "    <tr>\n",
              "      <th>189302363</th>\n",
              "      <td>5.0</td>\n",
              "      <td>83.0</td>\n",
              "      <td>4.8389</td>\n",
              "      <td>0.0</td>\n",
              "      <td>64.83</td>\n",
              "      <td>correct</td>\n",
              "      <td>60</td>\n",
              "      <td>0.000000</td>\n",
              "    </tr>\n",
              "    <tr>\n",
              "      <th>189326852</th>\n",
              "      <td>10.5</td>\n",
              "      <td>35.0</td>\n",
              "      <td>0.0000</td>\n",
              "      <td>81.0</td>\n",
              "      <td>394.62</td>\n",
              "      <td>correct</td>\n",
              "      <td>0</td>\n",
              "      <td>8.219985</td>\n",
              "    </tr>\n",
              "    <tr>\n",
              "      <th>189679466</th>\n",
              "      <td>10.5</td>\n",
              "      <td>30.0</td>\n",
              "      <td>0.0000</td>\n",
              "      <td>7.0</td>\n",
              "      <td>60.50</td>\n",
              "      <td>correct</td>\n",
              "      <td>0</td>\n",
              "      <td>0.037058</td>\n",
              "    </tr>\n",
              "    <tr>\n",
              "      <th>...</th>\n",
              "      <td>...</td>\n",
              "      <td>...</td>\n",
              "      <td>...</td>\n",
              "      <td>...</td>\n",
              "      <td>...</td>\n",
              "      <td>...</td>\n",
              "      <td>...</td>\n",
              "      <td>...</td>\n",
              "    </tr>\n",
              "    <tr>\n",
              "      <th>211959838</th>\n",
              "      <td>10.5</td>\n",
              "      <td>145.0</td>\n",
              "      <td>0.0000</td>\n",
              "      <td>393.0</td>\n",
              "      <td>437.95</td>\n",
              "      <td>correct</td>\n",
              "      <td>120</td>\n",
              "      <td>8.849337</td>\n",
              "    </tr>\n",
              "    <tr>\n",
              "      <th>212525755</th>\n",
              "      <td>10.5</td>\n",
              "      <td>11.0</td>\n",
              "      <td>0.0000</td>\n",
              "      <td>78.0</td>\n",
              "      <td>60.50</td>\n",
              "      <td>correct</td>\n",
              "      <td>0</td>\n",
              "      <td>1.045064</td>\n",
              "    </tr>\n",
              "    <tr>\n",
              "      <th>212896193</th>\n",
              "      <td>10.5</td>\n",
              "      <td>23.0</td>\n",
              "      <td>0.0000</td>\n",
              "      <td>50.0</td>\n",
              "      <td>141.13</td>\n",
              "      <td>correct</td>\n",
              "      <td>0</td>\n",
              "      <td>2.510341</td>\n",
              "    </tr>\n",
              "    <tr>\n",
              "      <th>213245782</th>\n",
              "      <td>10.5</td>\n",
              "      <td>62.0</td>\n",
              "      <td>3.6146</td>\n",
              "      <td>114.0</td>\n",
              "      <td>74.11</td>\n",
              "      <td>correct</td>\n",
              "      <td>60</td>\n",
              "      <td>3.132834</td>\n",
              "    </tr>\n",
              "    <tr>\n",
              "      <th>213385719</th>\n",
              "      <td>10.5</td>\n",
              "      <td>668.0</td>\n",
              "      <td>38.9444</td>\n",
              "      <td>262.0</td>\n",
              "      <td>109.44</td>\n",
              "      <td>correct</td>\n",
              "      <td>660</td>\n",
              "      <td>0.113022</td>\n",
              "    </tr>\n",
              "  </tbody>\n",
              "</table>\n",
              "<p>92 rows × 8 columns</p>\n",
              "</div>"
            ],
            "text/plain": [
              "           additional_fare  meter_waiting  ...  calc_duration   distance\n",
              "tripid                                     ...                          \n",
              "189192436             10.5           21.0  ...              0   0.023820\n",
              "189213407              5.0       162277.0  ...          76380  12.987443\n",
              "189302363              5.0           83.0  ...             60   0.000000\n",
              "189326852             10.5           35.0  ...              0   8.219985\n",
              "189679466             10.5           30.0  ...              0   0.037058\n",
              "...                    ...            ...  ...            ...        ...\n",
              "211959838             10.5          145.0  ...            120   8.849337\n",
              "212525755             10.5           11.0  ...              0   1.045064\n",
              "212896193             10.5           23.0  ...              0   2.510341\n",
              "213245782             10.5           62.0  ...             60   3.132834\n",
              "213385719             10.5          668.0  ...            660   0.113022\n",
              "\n",
              "[92 rows x 8 columns]"
            ]
          },
          "metadata": {
            "tags": []
          },
          "execution_count": 25
        }
      ]
    },
    {
      "cell_type": "code",
      "metadata": {
        "id": "dI4lr72DIsx3",
        "colab_type": "code",
        "colab": {}
      },
      "source": [
        "X_train.drop(X_train.index[li],inplace=True)"
      ],
      "execution_count": 0,
      "outputs": []
    },
    {
      "cell_type": "code",
      "metadata": {
        "id": "I4CTy8-iK_Mn",
        "colab_type": "code",
        "colab": {
          "base_uri": "https://localhost:8080/",
          "height": 33
        },
        "outputId": "4e44a7f5-3128-46c5-d709-56fa31d2dcc1"
      },
      "source": [
        "num_rows=X_train.shape[0]\n",
        "li =[]\n",
        "\n",
        "for i in range(num_rows):\n",
        "  if X_train.iloc[i]['distance'] == 0  and X_train.iloc[i]['meter_waiting'] == 0 and X_train.iloc[i]['fare'] > 0:\n",
        "    li.append(i)\n",
        "li    "
      ],
      "execution_count": 27,
      "outputs": [
        {
          "output_type": "execute_result",
          "data": {
            "text/plain": [
              "[15752]"
            ]
          },
          "metadata": {
            "tags": []
          },
          "execution_count": 27
        }
      ]
    },
    {
      "cell_type": "code",
      "metadata": {
        "id": "AbEnbqQXK_RR",
        "colab_type": "code",
        "colab": {
          "base_uri": "https://localhost:8080/",
          "height": 105
        },
        "outputId": "bf07bb06-c661-4b93-9e21-17d1c2a3145d"
      },
      "source": [
        "X_train.iloc[li]"
      ],
      "execution_count": 28,
      "outputs": [
        {
          "output_type": "execute_result",
          "data": {
            "text/html": [
              "<div>\n",
              "<style scoped>\n",
              "    .dataframe tbody tr th:only-of-type {\n",
              "        vertical-align: middle;\n",
              "    }\n",
              "\n",
              "    .dataframe tbody tr th {\n",
              "        vertical-align: top;\n",
              "    }\n",
              "\n",
              "    .dataframe thead th {\n",
              "        text-align: right;\n",
              "    }\n",
              "</style>\n",
              "<table border=\"1\" class=\"dataframe\">\n",
              "  <thead>\n",
              "    <tr style=\"text-align: right;\">\n",
              "      <th></th>\n",
              "      <th>additional_fare</th>\n",
              "      <th>meter_waiting</th>\n",
              "      <th>meter_waiting_fare</th>\n",
              "      <th>meter_waiting_till_pickup</th>\n",
              "      <th>fare</th>\n",
              "      <th>label</th>\n",
              "      <th>calc_duration</th>\n",
              "      <th>distance</th>\n",
              "    </tr>\n",
              "    <tr>\n",
              "      <th>tripid</th>\n",
              "      <th></th>\n",
              "      <th></th>\n",
              "      <th></th>\n",
              "      <th></th>\n",
              "      <th></th>\n",
              "      <th></th>\n",
              "      <th></th>\n",
              "      <th></th>\n",
              "    </tr>\n",
              "  </thead>\n",
              "  <tbody>\n",
              "    <tr>\n",
              "      <th>212078793</th>\n",
              "      <td>5.0</td>\n",
              "      <td>0.0</td>\n",
              "      <td>0.0</td>\n",
              "      <td>0.0</td>\n",
              "      <td>60.0</td>\n",
              "      <td>correct</td>\n",
              "      <td>60</td>\n",
              "      <td>0.0</td>\n",
              "    </tr>\n",
              "  </tbody>\n",
              "</table>\n",
              "</div>"
            ],
            "text/plain": [
              "           additional_fare  meter_waiting  ...  calc_duration  distance\n",
              "tripid                                     ...                         \n",
              "212078793              5.0            0.0  ...             60       0.0\n",
              "\n",
              "[1 rows x 8 columns]"
            ]
          },
          "metadata": {
            "tags": []
          },
          "execution_count": 28
        }
      ]
    },
    {
      "cell_type": "code",
      "metadata": {
        "id": "i9qf6RSbczed",
        "colab_type": "code",
        "colab": {}
      },
      "source": [
        "X_train.drop(X_train.index[li],inplace=True)"
      ],
      "execution_count": 0,
      "outputs": []
    },
    {
      "cell_type": "code",
      "metadata": {
        "id": "X-ObtnkS8yi0",
        "colab_type": "code",
        "colab": {}
      },
      "source": [
        ""
      ],
      "execution_count": 0,
      "outputs": []
    },
    {
      "cell_type": "code",
      "metadata": {
        "id": "NTKrSefeK_V_",
        "colab_type": "code",
        "colab": {}
      },
      "source": [
        "######################## "
      ],
      "execution_count": 0,
      "outputs": []
    },
    {
      "cell_type": "code",
      "metadata": {
        "id": "robxMYcJH6Ct",
        "colab_type": "code",
        "colab": {}
      },
      "source": [
        "num_rows=X_train.shape[0]\n",
        "li = []\n",
        "for i in range(num_rows):\n",
        "  if X_train.iloc[i].isna().sum() > 0 and X_train.iloc[i]['label']=='incorrect':\n",
        "    li.append(i)"
      ],
      "execution_count": 0,
      "outputs": []
    },
    {
      "cell_type": "code",
      "metadata": {
        "id": "_fdZzTcUH_MJ",
        "colab_type": "code",
        "colab": {
          "base_uri": "https://localhost:8080/",
          "height": 420
        },
        "outputId": "2bcc0fd5-bec7-44b8-b128-08ee1b1f6612"
      },
      "source": [
        "X_train.iloc[li]"
      ],
      "execution_count": 31,
      "outputs": [
        {
          "output_type": "execute_result",
          "data": {
            "text/html": [
              "<div>\n",
              "<style scoped>\n",
              "    .dataframe tbody tr th:only-of-type {\n",
              "        vertical-align: middle;\n",
              "    }\n",
              "\n",
              "    .dataframe tbody tr th {\n",
              "        vertical-align: top;\n",
              "    }\n",
              "\n",
              "    .dataframe thead th {\n",
              "        text-align: right;\n",
              "    }\n",
              "</style>\n",
              "<table border=\"1\" class=\"dataframe\">\n",
              "  <thead>\n",
              "    <tr style=\"text-align: right;\">\n",
              "      <th></th>\n",
              "      <th>additional_fare</th>\n",
              "      <th>meter_waiting</th>\n",
              "      <th>meter_waiting_fare</th>\n",
              "      <th>meter_waiting_till_pickup</th>\n",
              "      <th>fare</th>\n",
              "      <th>label</th>\n",
              "      <th>calc_duration</th>\n",
              "      <th>distance</th>\n",
              "    </tr>\n",
              "    <tr>\n",
              "      <th>tripid</th>\n",
              "      <th></th>\n",
              "      <th></th>\n",
              "      <th></th>\n",
              "      <th></th>\n",
              "      <th></th>\n",
              "      <th></th>\n",
              "      <th></th>\n",
              "      <th></th>\n",
              "    </tr>\n",
              "  </thead>\n",
              "  <tbody>\n",
              "    <tr>\n",
              "      <th>189157607</th>\n",
              "      <td>10.5</td>\n",
              "      <td>1686.0</td>\n",
              "      <td>97.4508</td>\n",
              "      <td>29.0</td>\n",
              "      <td>NaN</td>\n",
              "      <td>incorrect</td>\n",
              "      <td>2460</td>\n",
              "      <td>2.280035</td>\n",
              "    </tr>\n",
              "    <tr>\n",
              "      <th>189164806</th>\n",
              "      <td>10.5</td>\n",
              "      <td>2689.0</td>\n",
              "      <td>146.9854</td>\n",
              "      <td>69.0</td>\n",
              "      <td>NaN</td>\n",
              "      <td>incorrect</td>\n",
              "      <td>780</td>\n",
              "      <td>2.700387</td>\n",
              "    </tr>\n",
              "    <tr>\n",
              "      <th>189164831</th>\n",
              "      <td>NaN</td>\n",
              "      <td>NaN</td>\n",
              "      <td>NaN</td>\n",
              "      <td>NaN</td>\n",
              "      <td>NaN</td>\n",
              "      <td>incorrect</td>\n",
              "      <td>480</td>\n",
              "      <td>2.432922</td>\n",
              "    </tr>\n",
              "    <tr>\n",
              "      <th>189231599</th>\n",
              "      <td>NaN</td>\n",
              "      <td>NaN</td>\n",
              "      <td>NaN</td>\n",
              "      <td>NaN</td>\n",
              "      <td>196.50</td>\n",
              "      <td>incorrect</td>\n",
              "      <td>900</td>\n",
              "      <td>2.441577</td>\n",
              "    </tr>\n",
              "    <tr>\n",
              "      <th>189393356</th>\n",
              "      <td>NaN</td>\n",
              "      <td>NaN</td>\n",
              "      <td>NaN</td>\n",
              "      <td>NaN</td>\n",
              "      <td>188.71</td>\n",
              "      <td>incorrect</td>\n",
              "      <td>1560</td>\n",
              "      <td>1.282278</td>\n",
              "    </tr>\n",
              "    <tr>\n",
              "      <th>...</th>\n",
              "      <td>...</td>\n",
              "      <td>...</td>\n",
              "      <td>...</td>\n",
              "      <td>...</td>\n",
              "      <td>...</td>\n",
              "      <td>...</td>\n",
              "      <td>...</td>\n",
              "      <td>...</td>\n",
              "    </tr>\n",
              "    <tr>\n",
              "      <th>213449192</th>\n",
              "      <td>NaN</td>\n",
              "      <td>NaN</td>\n",
              "      <td>NaN</td>\n",
              "      <td>NaN</td>\n",
              "      <td>NaN</td>\n",
              "      <td>incorrect</td>\n",
              "      <td>780</td>\n",
              "      <td>4.211012</td>\n",
              "    </tr>\n",
              "    <tr>\n",
              "      <th>213510465</th>\n",
              "      <td>NaN</td>\n",
              "      <td>NaN</td>\n",
              "      <td>NaN</td>\n",
              "      <td>NaN</td>\n",
              "      <td>NaN</td>\n",
              "      <td>incorrect</td>\n",
              "      <td>60</td>\n",
              "      <td>0.022506</td>\n",
              "    </tr>\n",
              "    <tr>\n",
              "      <th>213538831</th>\n",
              "      <td>NaN</td>\n",
              "      <td>NaN</td>\n",
              "      <td>NaN</td>\n",
              "      <td>NaN</td>\n",
              "      <td>NaN</td>\n",
              "      <td>incorrect</td>\n",
              "      <td>4560</td>\n",
              "      <td>0.023796</td>\n",
              "    </tr>\n",
              "    <tr>\n",
              "      <th>213674502</th>\n",
              "      <td>NaN</td>\n",
              "      <td>NaN</td>\n",
              "      <td>NaN</td>\n",
              "      <td>NaN</td>\n",
              "      <td>NaN</td>\n",
              "      <td>incorrect</td>\n",
              "      <td>4380</td>\n",
              "      <td>13.630763</td>\n",
              "    </tr>\n",
              "    <tr>\n",
              "      <th>213758346</th>\n",
              "      <td>NaN</td>\n",
              "      <td>NaN</td>\n",
              "      <td>NaN</td>\n",
              "      <td>NaN</td>\n",
              "      <td>NaN</td>\n",
              "      <td>incorrect</td>\n",
              "      <td>3660</td>\n",
              "      <td>1.483309</td>\n",
              "    </tr>\n",
              "  </tbody>\n",
              "</table>\n",
              "<p>155 rows × 8 columns</p>\n",
              "</div>"
            ],
            "text/plain": [
              "           additional_fare  meter_waiting  ...  calc_duration   distance\n",
              "tripid                                     ...                          \n",
              "189157607             10.5         1686.0  ...           2460   2.280035\n",
              "189164806             10.5         2689.0  ...            780   2.700387\n",
              "189164831              NaN            NaN  ...            480   2.432922\n",
              "189231599              NaN            NaN  ...            900   2.441577\n",
              "189393356              NaN            NaN  ...           1560   1.282278\n",
              "...                    ...            ...  ...            ...        ...\n",
              "213449192              NaN            NaN  ...            780   4.211012\n",
              "213510465              NaN            NaN  ...             60   0.022506\n",
              "213538831              NaN            NaN  ...           4560   0.023796\n",
              "213674502              NaN            NaN  ...           4380  13.630763\n",
              "213758346              NaN            NaN  ...           3660   1.483309\n",
              "\n",
              "[155 rows x 8 columns]"
            ]
          },
          "metadata": {
            "tags": []
          },
          "execution_count": 31
        }
      ]
    },
    {
      "cell_type": "code",
      "metadata": {
        "id": "lq9SX39xAVRc",
        "colab_type": "code",
        "colab": {
          "base_uri": "https://localhost:8080/",
          "height": 277
        },
        "outputId": "23dc68e7-ddab-4a83-bd12-bf1db133e2a3"
      },
      "source": [
        "X_train.loc[X_train['label']=='incorrect'].describe()"
      ],
      "execution_count": 1187,
      "outputs": [
        {
          "output_type": "execute_result",
          "data": {
            "text/html": [
              "<div>\n",
              "<style scoped>\n",
              "    .dataframe tbody tr th:only-of-type {\n",
              "        vertical-align: middle;\n",
              "    }\n",
              "\n",
              "    .dataframe tbody tr th {\n",
              "        vertical-align: top;\n",
              "    }\n",
              "\n",
              "    .dataframe thead th {\n",
              "        text-align: right;\n",
              "    }\n",
              "</style>\n",
              "<table border=\"1\" class=\"dataframe\">\n",
              "  <thead>\n",
              "    <tr style=\"text-align: right;\">\n",
              "      <th></th>\n",
              "      <th>additional_fare</th>\n",
              "      <th>meter_waiting</th>\n",
              "      <th>meter_waiting_fare</th>\n",
              "      <th>meter_waiting_till_pickup</th>\n",
              "      <th>drop_lat</th>\n",
              "      <th>drop_lon</th>\n",
              "      <th>fare</th>\n",
              "      <th>calc_duration</th>\n",
              "      <th>distance</th>\n",
              "    </tr>\n",
              "  </thead>\n",
              "  <tbody>\n",
              "    <tr>\n",
              "      <th>count</th>\n",
              "      <td>1623.000000</td>\n",
              "      <td>1623.000000</td>\n",
              "      <td>1623.000000</td>\n",
              "      <td>1623.000000</td>\n",
              "      <td>1772.000000</td>\n",
              "      <td>1772.000000</td>\n",
              "      <td>1635.000000</td>\n",
              "      <td>1772.000000</td>\n",
              "      <td>1772.000000</td>\n",
              "    </tr>\n",
              "    <tr>\n",
              "      <th>mean</th>\n",
              "      <td>17.905619</td>\n",
              "      <td>3213.540357</td>\n",
              "      <td>175.873207</td>\n",
              "      <td>159.086876</td>\n",
              "      <td>6.980930</td>\n",
              "      <td>80.026081</td>\n",
              "      <td>629.681468</td>\n",
              "      <td>2974.740406</td>\n",
              "      <td>4.674357</td>\n",
              "    </tr>\n",
              "    <tr>\n",
              "      <th>std</th>\n",
              "      <td>25.170206</td>\n",
              "      <td>22668.207477</td>\n",
              "      <td>1308.223080</td>\n",
              "      <td>378.684937</td>\n",
              "      <td>0.208991</td>\n",
              "      <td>0.267377</td>\n",
              "      <td>1527.425984</td>\n",
              "      <td>8381.466519</td>\n",
              "      <td>5.751879</td>\n",
              "    </tr>\n",
              "    <tr>\n",
              "      <th>min</th>\n",
              "      <td>0.000000</td>\n",
              "      <td>0.000000</td>\n",
              "      <td>0.000000</td>\n",
              "      <td>0.000000</td>\n",
              "      <td>5.998940</td>\n",
              "      <td>79.819900</td>\n",
              "      <td>0.000000</td>\n",
              "      <td>0.000000</td>\n",
              "      <td>0.000000</td>\n",
              "    </tr>\n",
              "    <tr>\n",
              "      <th>25%</th>\n",
              "      <td>10.500000</td>\n",
              "      <td>28.000000</td>\n",
              "      <td>0.000000</td>\n",
              "      <td>38.000000</td>\n",
              "      <td>6.867337</td>\n",
              "      <td>79.872600</td>\n",
              "      <td>111.125000</td>\n",
              "      <td>360.000000</td>\n",
              "      <td>0.955811</td>\n",
              "    </tr>\n",
              "    <tr>\n",
              "      <th>50%</th>\n",
              "      <td>10.500000</td>\n",
              "      <td>130.000000</td>\n",
              "      <td>0.000000</td>\n",
              "      <td>93.000000</td>\n",
              "      <td>6.921200</td>\n",
              "      <td>79.905600</td>\n",
              "      <td>357.670000</td>\n",
              "      <td>1020.000000</td>\n",
              "      <td>2.943514</td>\n",
              "    </tr>\n",
              "    <tr>\n",
              "      <th>75%</th>\n",
              "      <td>10.500000</td>\n",
              "      <td>543.000000</td>\n",
              "      <td>15.461500</td>\n",
              "      <td>178.500000</td>\n",
              "      <td>7.077193</td>\n",
              "      <td>79.981625</td>\n",
              "      <td>627.195000</td>\n",
              "      <td>2400.000000</td>\n",
              "      <td>6.670741</td>\n",
              "    </tr>\n",
              "    <tr>\n",
              "      <th>max</th>\n",
              "      <td>450.820000</td>\n",
              "      <td>435308.000000</td>\n",
              "      <td>25098.436200</td>\n",
              "      <td>11722.000000</td>\n",
              "      <td>7.591890</td>\n",
              "      <td>80.751100</td>\n",
              "      <td>26098.750000</td>\n",
              "      <td>86100.000000</td>\n",
              "      <td>79.171036</td>\n",
              "    </tr>\n",
              "  </tbody>\n",
              "</table>\n",
              "</div>"
            ],
            "text/plain": [
              "       additional_fare  meter_waiting  ...  calc_duration     distance\n",
              "count      1623.000000    1623.000000  ...    1772.000000  1772.000000\n",
              "mean         17.905619    3213.540357  ...    2974.740406     4.674357\n",
              "std          25.170206   22668.207477  ...    8381.466519     5.751879\n",
              "min           0.000000       0.000000  ...       0.000000     0.000000\n",
              "25%          10.500000      28.000000  ...     360.000000     0.955811\n",
              "50%          10.500000     130.000000  ...    1020.000000     2.943514\n",
              "75%          10.500000     543.000000  ...    2400.000000     6.670741\n",
              "max         450.820000  435308.000000  ...   86100.000000    79.171036\n",
              "\n",
              "[8 rows x 9 columns]"
            ]
          },
          "metadata": {
            "tags": []
          },
          "execution_count": 1187
        }
      ]
    },
    {
      "cell_type": "code",
      "metadata": {
        "id": "lzRrHsf8AtMX",
        "colab_type": "code",
        "colab": {
          "base_uri": "https://localhost:8080/",
          "height": 105
        },
        "outputId": "4dd7db7e-1c41-4b0a-c373-dc485c713826"
      },
      "source": [
        "X_train.loc[X_train['label']=='incorrect'].mode()\n"
      ],
      "execution_count": 588,
      "outputs": [
        {
          "output_type": "execute_result",
          "data": {
            "text/html": [
              "<div>\n",
              "<style scoped>\n",
              "    .dataframe tbody tr th:only-of-type {\n",
              "        vertical-align: middle;\n",
              "    }\n",
              "\n",
              "    .dataframe tbody tr th {\n",
              "        vertical-align: top;\n",
              "    }\n",
              "\n",
              "    .dataframe thead th {\n",
              "        text-align: right;\n",
              "    }\n",
              "</style>\n",
              "<table border=\"1\" class=\"dataframe\">\n",
              "  <thead>\n",
              "    <tr style=\"text-align: right;\">\n",
              "      <th></th>\n",
              "      <th>additional_fare</th>\n",
              "      <th>meter_waiting</th>\n",
              "      <th>meter_waiting_fare</th>\n",
              "      <th>meter_waiting_till_pickup</th>\n",
              "      <th>fare</th>\n",
              "      <th>label</th>\n",
              "      <th>calc_duration</th>\n",
              "      <th>distance</th>\n",
              "    </tr>\n",
              "  </thead>\n",
              "  <tbody>\n",
              "    <tr>\n",
              "      <th>0</th>\n",
              "      <td>10.5</td>\n",
              "      <td>0.0</td>\n",
              "      <td>0.0</td>\n",
              "      <td>8.0</td>\n",
              "      <td>60.5</td>\n",
              "      <td>incorrect</td>\n",
              "      <td>60.0</td>\n",
              "      <td>0.005556</td>\n",
              "    </tr>\n",
              "    <tr>\n",
              "      <th>1</th>\n",
              "      <td>NaN</td>\n",
              "      <td>NaN</td>\n",
              "      <td>NaN</td>\n",
              "      <td>76.0</td>\n",
              "      <td>NaN</td>\n",
              "      <td>NaN</td>\n",
              "      <td>NaN</td>\n",
              "      <td>NaN</td>\n",
              "    </tr>\n",
              "  </tbody>\n",
              "</table>\n",
              "</div>"
            ],
            "text/plain": [
              "   additional_fare  meter_waiting  ...  calc_duration  distance\n",
              "0             10.5            0.0  ...           60.0  0.005556\n",
              "1              NaN            NaN  ...            NaN       NaN\n",
              "\n",
              "[2 rows x 8 columns]"
            ]
          },
          "metadata": {
            "tags": []
          },
          "execution_count": 588
        }
      ]
    },
    {
      "cell_type": "code",
      "metadata": {
        "id": "O8c9Dd9ePiZM",
        "colab_type": "code",
        "colab": {
          "base_uri": "https://localhost:8080/",
          "height": 147
        },
        "outputId": "b67752fe-e1cf-4ae8-fbd7-cc146f280252"
      },
      "source": [
        "X_train.loc[X_train['label']=='incorrect'].mean()\n"
      ],
      "execution_count": 590,
      "outputs": [
        {
          "output_type": "execute_result",
          "data": {
            "text/plain": [
              "additional_fare                18.234370\n",
              "meter_waiting                3239.885696\n",
              "meter_waiting_fare            176.858910\n",
              "meter_waiting_till_pickup     162.022208\n",
              "fare                          648.362858\n",
              "calc_duration                3081.214286\n",
              "distance                        4.811506\n",
              "dtype: float64"
            ]
          },
          "metadata": {
            "tags": []
          },
          "execution_count": 590
        }
      ]
    },
    {
      "cell_type": "code",
      "metadata": {
        "id": "TuU9wMLCPoIs",
        "colab_type": "code",
        "colab": {
          "base_uri": "https://localhost:8080/",
          "height": 76
        },
        "outputId": "dbcf1740-20e3-4972-b8f4-42a755a15da0"
      },
      "source": [
        "X_train.loc[X_train['label']=='correct'].mode()\n"
      ],
      "execution_count": 589,
      "outputs": [
        {
          "output_type": "execute_result",
          "data": {
            "text/html": [
              "<div>\n",
              "<style scoped>\n",
              "    .dataframe tbody tr th:only-of-type {\n",
              "        vertical-align: middle;\n",
              "    }\n",
              "\n",
              "    .dataframe tbody tr th {\n",
              "        vertical-align: top;\n",
              "    }\n",
              "\n",
              "    .dataframe thead th {\n",
              "        text-align: right;\n",
              "    }\n",
              "</style>\n",
              "<table border=\"1\" class=\"dataframe\">\n",
              "  <thead>\n",
              "    <tr style=\"text-align: right;\">\n",
              "      <th></th>\n",
              "      <th>additional_fare</th>\n",
              "      <th>meter_waiting</th>\n",
              "      <th>meter_waiting_fare</th>\n",
              "      <th>meter_waiting_till_pickup</th>\n",
              "      <th>fare</th>\n",
              "      <th>label</th>\n",
              "      <th>calc_duration</th>\n",
              "      <th>distance</th>\n",
              "    </tr>\n",
              "  </thead>\n",
              "  <tbody>\n",
              "    <tr>\n",
              "      <th>0</th>\n",
              "      <td>10.5</td>\n",
              "      <td>0.0</td>\n",
              "      <td>0.0</td>\n",
              "      <td>0.0</td>\n",
              "      <td>60.5</td>\n",
              "      <td>correct</td>\n",
              "      <td>600</td>\n",
              "      <td>0.0</td>\n",
              "    </tr>\n",
              "  </tbody>\n",
              "</table>\n",
              "</div>"
            ],
            "text/plain": [
              "   additional_fare  meter_waiting  ...  calc_duration  distance\n",
              "0             10.5            0.0  ...            600       0.0\n",
              "\n",
              "[1 rows x 8 columns]"
            ]
          },
          "metadata": {
            "tags": []
          },
          "execution_count": 589
        }
      ]
    },
    {
      "cell_type": "code",
      "metadata": {
        "id": "3Iw7ik2RQTle",
        "colab_type": "code",
        "colab": {
          "base_uri": "https://localhost:8080/",
          "height": 147
        },
        "outputId": "2cfd81ad-eaec-45f0-af43-bdbf5c4eb0a5"
      },
      "source": [
        "X_train.loc[X_train['label']=='correct'].mean()\n"
      ],
      "execution_count": 591,
      "outputs": [
        {
          "output_type": "execute_result",
          "data": {
            "text/plain": [
              "additional_fare                12.445516\n",
              "meter_waiting                 312.715915\n",
              "meter_waiting_fare             14.354179\n",
              "meter_waiting_till_pickup     102.850691\n",
              "fare                          275.732857\n",
              "calc_duration                1377.350133\n",
              "distance                        4.512941\n",
              "dtype: float64"
            ]
          },
          "metadata": {
            "tags": []
          },
          "execution_count": 591
        }
      ]
    },
    {
      "cell_type": "code",
      "metadata": {
        "id": "QU-KBXInCRxs",
        "colab_type": "code",
        "outputId": "6d8bfbac-bbfc-4b6c-ea4e-ade5c2fb8e31",
        "colab": {
          "base_uri": "https://localhost:8080/",
          "height": 163
        }
      },
      "source": [
        "X_train.loc[X_train['label']=='incorrect'].isna().sum() > 0\n"
      ],
      "execution_count": 413,
      "outputs": [
        {
          "output_type": "execute_result",
          "data": {
            "text/plain": [
              "additional_fare               True\n",
              "meter_waiting                 True\n",
              "meter_waiting_fare            True\n",
              "meter_waiting_till_pickup     True\n",
              "fare                          True\n",
              "label                        False\n",
              "calc_duration                False\n",
              "distance                     False\n",
              "dtype: bool"
            ]
          },
          "metadata": {
            "tags": []
          },
          "execution_count": 413
        }
      ]
    },
    {
      "cell_type": "code",
      "metadata": {
        "id": "cPgErIzQK_Ua",
        "colab_type": "code",
        "colab": {}
      },
      "source": [
        "num_rows=X_train.shape[0]\n",
        "\n",
        "for row in X_train.itertuples():\n",
        "  if row.label == 'incorrect':\n",
        "   \n",
        "    \n",
        "    if pd.isna(row.additional_fare):\n",
        "      #X_train.iloc[i]['additional_fare'] = 10.5      \n",
        "      X_train.at[row.Index, 'additional_fare'] = 18.234370\n",
        "  \n",
        "    if pd.isna(row.meter_waiting):\n",
        "      #X_train.iloc[i]['meter_waiting'] = 0.0\n",
        "      X_train.at[row.Index, 'meter_waiting'] = 3239.885696\n",
        "\n",
        "    if pd.isna(row.meter_waiting_fare) :\n",
        "      #X_train.iloc[i]['meter_waiting_fare'] = 0.0\n",
        "      X_train.at[row.Index, 'meter_waiting_fare'] = 176.858910\n",
        "\n",
        "    if pd.isna(row.meter_waiting_till_pickup) :\n",
        "      #X_train.iloc[i]['meter_waiting_till_pickup'] = 8.0\n",
        "      X_train.at[row.Index, 'meter_waiting_till_pickup'] = 162.022208\n",
        "\n",
        "    if pd.isna(row.fare) :\n",
        "      #X_train.iloc[i]['fare'] = 60.5\n",
        "      X_train.at[row.Index, 'fare'] =  648.362858\n",
        "\n",
        " \n"
      ],
      "execution_count": 0,
      "outputs": []
    },
    {
      "cell_type": "code",
      "metadata": {
        "id": "WANvv-ZCES3x",
        "colab_type": "code",
        "colab": {}
      },
      "source": [
        "num_rows=X_train.shape[0]\n",
        "li = []\n",
        "for i in range(num_rows):\n",
        "  if X_train.iloc[i].isna().sum() > 0 and X_train.iloc[i]['label']=='incorrect':\n",
        "    li.append(i)\n"
      ],
      "execution_count": 0,
      "outputs": []
    },
    {
      "cell_type": "code",
      "metadata": {
        "id": "WJfSyzMOK_Pe",
        "colab_type": "code",
        "colab": {
          "base_uri": "https://localhost:8080/",
          "height": 76
        },
        "outputId": "77b9de09-5df0-4ad9-d586-0342d184cbcf"
      },
      "source": [
        "X_train.iloc[li] #chek all are replaced correctly"
      ],
      "execution_count": 34,
      "outputs": [
        {
          "output_type": "execute_result",
          "data": {
            "text/html": [
              "<div>\n",
              "<style scoped>\n",
              "    .dataframe tbody tr th:only-of-type {\n",
              "        vertical-align: middle;\n",
              "    }\n",
              "\n",
              "    .dataframe tbody tr th {\n",
              "        vertical-align: top;\n",
              "    }\n",
              "\n",
              "    .dataframe thead th {\n",
              "        text-align: right;\n",
              "    }\n",
              "</style>\n",
              "<table border=\"1\" class=\"dataframe\">\n",
              "  <thead>\n",
              "    <tr style=\"text-align: right;\">\n",
              "      <th></th>\n",
              "      <th>additional_fare</th>\n",
              "      <th>meter_waiting</th>\n",
              "      <th>meter_waiting_fare</th>\n",
              "      <th>meter_waiting_till_pickup</th>\n",
              "      <th>fare</th>\n",
              "      <th>label</th>\n",
              "      <th>calc_duration</th>\n",
              "      <th>distance</th>\n",
              "    </tr>\n",
              "    <tr>\n",
              "      <th>tripid</th>\n",
              "      <th></th>\n",
              "      <th></th>\n",
              "      <th></th>\n",
              "      <th></th>\n",
              "      <th></th>\n",
              "      <th></th>\n",
              "      <th></th>\n",
              "      <th></th>\n",
              "    </tr>\n",
              "  </thead>\n",
              "  <tbody>\n",
              "  </tbody>\n",
              "</table>\n",
              "</div>"
            ],
            "text/plain": [
              "Empty DataFrame\n",
              "Columns: [additional_fare, meter_waiting, meter_waiting_fare, meter_waiting_till_pickup, fare, label, calc_duration, distance]\n",
              "Index: []"
            ]
          },
          "metadata": {
            "tags": []
          },
          "execution_count": 34
        }
      ]
    },
    {
      "cell_type": "code",
      "metadata": {
        "id": "Ew9KQ8CYWyRN",
        "colab_type": "code",
        "outputId": "9aba607b-9fa5-48bc-8600-c631f69d58d6",
        "colab": {
          "base_uri": "https://localhost:8080/",
          "height": 420
        }
      },
      "source": [
        "X_train"
      ],
      "execution_count": 1734,
      "outputs": [
        {
          "output_type": "execute_result",
          "data": {
            "text/html": [
              "<div>\n",
              "<style scoped>\n",
              "    .dataframe tbody tr th:only-of-type {\n",
              "        vertical-align: middle;\n",
              "    }\n",
              "\n",
              "    .dataframe tbody tr th {\n",
              "        vertical-align: top;\n",
              "    }\n",
              "\n",
              "    .dataframe thead th {\n",
              "        text-align: right;\n",
              "    }\n",
              "</style>\n",
              "<table border=\"1\" class=\"dataframe\">\n",
              "  <thead>\n",
              "    <tr style=\"text-align: right;\">\n",
              "      <th></th>\n",
              "      <th>additional_fare</th>\n",
              "      <th>meter_waiting</th>\n",
              "      <th>meter_waiting_fare</th>\n",
              "      <th>meter_waiting_till_pickup</th>\n",
              "      <th>fare</th>\n",
              "      <th>label</th>\n",
              "      <th>calc_duration</th>\n",
              "      <th>distance</th>\n",
              "    </tr>\n",
              "    <tr>\n",
              "      <th>tripid</th>\n",
              "      <th></th>\n",
              "      <th></th>\n",
              "      <th></th>\n",
              "      <th></th>\n",
              "      <th></th>\n",
              "      <th></th>\n",
              "      <th></th>\n",
              "      <th></th>\n",
              "    </tr>\n",
              "  </thead>\n",
              "  <tbody>\n",
              "    <tr>\n",
              "      <th>189123628</th>\n",
              "      <td>10.5</td>\n",
              "      <td>56.0</td>\n",
              "      <td>0.0000</td>\n",
              "      <td>64.0</td>\n",
              "      <td>270.32</td>\n",
              "      <td>correct</td>\n",
              "      <td>840</td>\n",
              "      <td>5.089572</td>\n",
              "    </tr>\n",
              "    <tr>\n",
              "      <th>189125358</th>\n",
              "      <td>10.5</td>\n",
              "      <td>47.0</td>\n",
              "      <td>0.0000</td>\n",
              "      <td>134.0</td>\n",
              "      <td>197.85</td>\n",
              "      <td>correct</td>\n",
              "      <td>780</td>\n",
              "      <td>3.166069</td>\n",
              "    </tr>\n",
              "    <tr>\n",
              "      <th>189125719</th>\n",
              "      <td>10.5</td>\n",
              "      <td>80.0</td>\n",
              "      <td>0.0000</td>\n",
              "      <td>61.0</td>\n",
              "      <td>301.64</td>\n",
              "      <td>correct</td>\n",
              "      <td>1080</td>\n",
              "      <td>6.301436</td>\n",
              "    </tr>\n",
              "    <tr>\n",
              "      <th>189127273</th>\n",
              "      <td>10.5</td>\n",
              "      <td>271.0</td>\n",
              "      <td>15.6638</td>\n",
              "      <td>68.0</td>\n",
              "      <td>82.30</td>\n",
              "      <td>correct</td>\n",
              "      <td>600</td>\n",
              "      <td>0.861405</td>\n",
              "    </tr>\n",
              "    <tr>\n",
              "      <th>189128020</th>\n",
              "      <td>NaN</td>\n",
              "      <td>NaN</td>\n",
              "      <td>NaN</td>\n",
              "      <td>NaN</td>\n",
              "      <td>358.39</td>\n",
              "      <td>correct</td>\n",
              "      <td>1020</td>\n",
              "      <td>8.142667</td>\n",
              "    </tr>\n",
              "    <tr>\n",
              "      <th>...</th>\n",
              "      <td>...</td>\n",
              "      <td>...</td>\n",
              "      <td>...</td>\n",
              "      <td>...</td>\n",
              "      <td>...</td>\n",
              "      <td>...</td>\n",
              "      <td>...</td>\n",
              "      <td>...</td>\n",
              "    </tr>\n",
              "    <tr>\n",
              "      <th>213803193</th>\n",
              "      <td>10.5</td>\n",
              "      <td>93.0</td>\n",
              "      <td>5.4219</td>\n",
              "      <td>451.0</td>\n",
              "      <td>198.26</td>\n",
              "      <td>correct</td>\n",
              "      <td>840</td>\n",
              "      <td>2.104054</td>\n",
              "    </tr>\n",
              "    <tr>\n",
              "      <th>213812756</th>\n",
              "      <td>10.5</td>\n",
              "      <td>428.0</td>\n",
              "      <td>0.0000</td>\n",
              "      <td>39.0</td>\n",
              "      <td>581.23</td>\n",
              "      <td>correct</td>\n",
              "      <td>2160</td>\n",
              "      <td>10.861554</td>\n",
              "    </tr>\n",
              "    <tr>\n",
              "      <th>213813930</th>\n",
              "      <td>10.5</td>\n",
              "      <td>9.0</td>\n",
              "      <td>0.0000</td>\n",
              "      <td>110.0</td>\n",
              "      <td>76.20</td>\n",
              "      <td>correct</td>\n",
              "      <td>240</td>\n",
              "      <td>1.044862</td>\n",
              "    </tr>\n",
              "    <tr>\n",
              "      <th>213815405</th>\n",
              "      <td>10.5</td>\n",
              "      <td>115.0</td>\n",
              "      <td>0.0000</td>\n",
              "      <td>317.0</td>\n",
              "      <td>133.31</td>\n",
              "      <td>correct</td>\n",
              "      <td>840</td>\n",
              "      <td>2.877269</td>\n",
              "    </tr>\n",
              "    <tr>\n",
              "      <th>213817296</th>\n",
              "      <td>10.5</td>\n",
              "      <td>21.0</td>\n",
              "      <td>1.2243</td>\n",
              "      <td>23.0</td>\n",
              "      <td>98.57</td>\n",
              "      <td>correct</td>\n",
              "      <td>240</td>\n",
              "      <td>2.114547</td>\n",
              "    </tr>\n",
              "  </tbody>\n",
              "</table>\n",
              "<p>17077 rows × 8 columns</p>\n",
              "</div>"
            ],
            "text/plain": [
              "           additional_fare  meter_waiting  ...  calc_duration   distance\n",
              "tripid                                     ...                          \n",
              "189123628             10.5           56.0  ...            840   5.089572\n",
              "189125358             10.5           47.0  ...            780   3.166069\n",
              "189125719             10.5           80.0  ...           1080   6.301436\n",
              "189127273             10.5          271.0  ...            600   0.861405\n",
              "189128020              NaN            NaN  ...           1020   8.142667\n",
              "...                    ...            ...  ...            ...        ...\n",
              "213803193             10.5           93.0  ...            840   2.104054\n",
              "213812756             10.5          428.0  ...           2160  10.861554\n",
              "213813930             10.5            9.0  ...            240   1.044862\n",
              "213815405             10.5          115.0  ...            840   2.877269\n",
              "213817296             10.5           21.0  ...            240   2.114547\n",
              "\n",
              "[17077 rows x 8 columns]"
            ]
          },
          "metadata": {
            "tags": []
          },
          "execution_count": 1734
        }
      ]
    },
    {
      "cell_type": "code",
      "metadata": {
        "id": "ElGb1bKJbJvT",
        "colab_type": "code",
        "colab": {}
      },
      "source": [
        "num_rows=X_train.shape[0]\n",
        "li =[]\n",
        "\n",
        "for i in range(num_rows):\n",
        "  if X_train.iloc[i]['label'] == 'correct'  and X_train.iloc[i].isna().sum() >=3:\n",
        "    li.append(i)\n",
        " "
      ],
      "execution_count": 0,
      "outputs": []
    },
    {
      "cell_type": "code",
      "metadata": {
        "id": "FXWo-36Vbm9P",
        "colab_type": "code",
        "colab": {
          "base_uri": "https://localhost:8080/",
          "height": 33
        },
        "outputId": "237ad09f-18b7-4e8d-98cd-acdb506f1541"
      },
      "source": [
        "len(li)"
      ],
      "execution_count": 36,
      "outputs": [
        {
          "output_type": "execute_result",
          "data": {
            "text/plain": [
              "53"
            ]
          },
          "metadata": {
            "tags": []
          },
          "execution_count": 36
        }
      ]
    },
    {
      "cell_type": "code",
      "metadata": {
        "id": "LQhpp-VNI6Fg",
        "colab_type": "code",
        "colab": {}
      },
      "source": [
        ""
      ],
      "execution_count": 0,
      "outputs": []
    },
    {
      "cell_type": "code",
      "metadata": {
        "id": "EHehiWqgbPYR",
        "colab_type": "code",
        "colab": {}
      },
      "source": [
        "X_train.drop(X_train.index[li],inplace=True)"
      ],
      "execution_count": 0,
      "outputs": []
    },
    {
      "cell_type": "code",
      "metadata": {
        "id": "4zGwcAkNW1Fp",
        "colab_type": "code",
        "colab": {}
      },
      "source": [
        "X_train['label'] = X_train['label'].replace({'correct':1 , 'incorrect':0})"
      ],
      "execution_count": 0,
      "outputs": []
    },
    {
      "cell_type": "code",
      "metadata": {
        "id": "UMSEE4rycAvC",
        "colab_type": "code",
        "colab": {
          "base_uri": "https://localhost:8080/",
          "height": 163
        },
        "outputId": "f441a156-817d-4b62-909d-a064e639bc28"
      },
      "source": [
        "M = X_train.loc[X_train['label']==1].mean()\n",
        "M"
      ],
      "execution_count": 39,
      "outputs": [
        {
          "output_type": "execute_result",
          "data": {
            "text/plain": [
              "additional_fare                12.445516\n",
              "meter_waiting                 312.715915\n",
              "meter_waiting_fare             14.354179\n",
              "meter_waiting_till_pickup     102.850691\n",
              "fare                          275.711930\n",
              "label                           1.000000\n",
              "calc_duration                1376.465068\n",
              "distance                        4.513026\n",
              "dtype: float64"
            ]
          },
          "metadata": {
            "tags": []
          },
          "execution_count": 39
        }
      ]
    },
    {
      "cell_type": "code",
      "metadata": {
        "id": "h2ucyxk3WB_f",
        "colab_type": "code",
        "colab": {}
      },
      "source": [
        "X_train = X_train.fillna(M)"
      ],
      "execution_count": 0,
      "outputs": []
    },
    {
      "cell_type": "code",
      "metadata": {
        "id": "kFj9XNNUjbhn",
        "colab_type": "code",
        "colab": {
          "base_uri": "https://localhost:8080/",
          "height": 420
        },
        "outputId": "8a656136-654f-4de3-d9b1-9a0b6ac00224"
      },
      "source": [
        "X_train"
      ],
      "execution_count": 41,
      "outputs": [
        {
          "output_type": "execute_result",
          "data": {
            "text/html": [
              "<div>\n",
              "<style scoped>\n",
              "    .dataframe tbody tr th:only-of-type {\n",
              "        vertical-align: middle;\n",
              "    }\n",
              "\n",
              "    .dataframe tbody tr th {\n",
              "        vertical-align: top;\n",
              "    }\n",
              "\n",
              "    .dataframe thead th {\n",
              "        text-align: right;\n",
              "    }\n",
              "</style>\n",
              "<table border=\"1\" class=\"dataframe\">\n",
              "  <thead>\n",
              "    <tr style=\"text-align: right;\">\n",
              "      <th></th>\n",
              "      <th>additional_fare</th>\n",
              "      <th>meter_waiting</th>\n",
              "      <th>meter_waiting_fare</th>\n",
              "      <th>meter_waiting_till_pickup</th>\n",
              "      <th>fare</th>\n",
              "      <th>label</th>\n",
              "      <th>calc_duration</th>\n",
              "      <th>distance</th>\n",
              "    </tr>\n",
              "    <tr>\n",
              "      <th>tripid</th>\n",
              "      <th></th>\n",
              "      <th></th>\n",
              "      <th></th>\n",
              "      <th></th>\n",
              "      <th></th>\n",
              "      <th></th>\n",
              "      <th></th>\n",
              "      <th></th>\n",
              "    </tr>\n",
              "  </thead>\n",
              "  <tbody>\n",
              "    <tr>\n",
              "      <th>189123628</th>\n",
              "      <td>10.5</td>\n",
              "      <td>56.0</td>\n",
              "      <td>0.0000</td>\n",
              "      <td>64.0</td>\n",
              "      <td>270.32</td>\n",
              "      <td>1</td>\n",
              "      <td>840</td>\n",
              "      <td>5.089572</td>\n",
              "    </tr>\n",
              "    <tr>\n",
              "      <th>189125358</th>\n",
              "      <td>10.5</td>\n",
              "      <td>47.0</td>\n",
              "      <td>0.0000</td>\n",
              "      <td>134.0</td>\n",
              "      <td>197.85</td>\n",
              "      <td>1</td>\n",
              "      <td>780</td>\n",
              "      <td>3.166069</td>\n",
              "    </tr>\n",
              "    <tr>\n",
              "      <th>189125719</th>\n",
              "      <td>10.5</td>\n",
              "      <td>80.0</td>\n",
              "      <td>0.0000</td>\n",
              "      <td>61.0</td>\n",
              "      <td>301.64</td>\n",
              "      <td>1</td>\n",
              "      <td>1080</td>\n",
              "      <td>6.301436</td>\n",
              "    </tr>\n",
              "    <tr>\n",
              "      <th>189127273</th>\n",
              "      <td>10.5</td>\n",
              "      <td>271.0</td>\n",
              "      <td>15.6638</td>\n",
              "      <td>68.0</td>\n",
              "      <td>82.30</td>\n",
              "      <td>1</td>\n",
              "      <td>600</td>\n",
              "      <td>0.861405</td>\n",
              "    </tr>\n",
              "    <tr>\n",
              "      <th>189129552</th>\n",
              "      <td>10.5</td>\n",
              "      <td>182.0</td>\n",
              "      <td>0.0000</td>\n",
              "      <td>112.0</td>\n",
              "      <td>1065.02</td>\n",
              "      <td>1</td>\n",
              "      <td>3420</td>\n",
              "      <td>24.191841</td>\n",
              "    </tr>\n",
              "    <tr>\n",
              "      <th>...</th>\n",
              "      <td>...</td>\n",
              "      <td>...</td>\n",
              "      <td>...</td>\n",
              "      <td>...</td>\n",
              "      <td>...</td>\n",
              "      <td>...</td>\n",
              "      <td>...</td>\n",
              "      <td>...</td>\n",
              "    </tr>\n",
              "    <tr>\n",
              "      <th>213803193</th>\n",
              "      <td>10.5</td>\n",
              "      <td>93.0</td>\n",
              "      <td>5.4219</td>\n",
              "      <td>451.0</td>\n",
              "      <td>198.26</td>\n",
              "      <td>1</td>\n",
              "      <td>840</td>\n",
              "      <td>2.104054</td>\n",
              "    </tr>\n",
              "    <tr>\n",
              "      <th>213812756</th>\n",
              "      <td>10.5</td>\n",
              "      <td>428.0</td>\n",
              "      <td>0.0000</td>\n",
              "      <td>39.0</td>\n",
              "      <td>581.23</td>\n",
              "      <td>1</td>\n",
              "      <td>2160</td>\n",
              "      <td>10.861554</td>\n",
              "    </tr>\n",
              "    <tr>\n",
              "      <th>213813930</th>\n",
              "      <td>10.5</td>\n",
              "      <td>9.0</td>\n",
              "      <td>0.0000</td>\n",
              "      <td>110.0</td>\n",
              "      <td>76.20</td>\n",
              "      <td>1</td>\n",
              "      <td>240</td>\n",
              "      <td>1.044862</td>\n",
              "    </tr>\n",
              "    <tr>\n",
              "      <th>213815405</th>\n",
              "      <td>10.5</td>\n",
              "      <td>115.0</td>\n",
              "      <td>0.0000</td>\n",
              "      <td>317.0</td>\n",
              "      <td>133.31</td>\n",
              "      <td>1</td>\n",
              "      <td>840</td>\n",
              "      <td>2.877269</td>\n",
              "    </tr>\n",
              "    <tr>\n",
              "      <th>213817296</th>\n",
              "      <td>10.5</td>\n",
              "      <td>21.0</td>\n",
              "      <td>1.2243</td>\n",
              "      <td>23.0</td>\n",
              "      <td>98.57</td>\n",
              "      <td>1</td>\n",
              "      <td>240</td>\n",
              "      <td>2.114547</td>\n",
              "    </tr>\n",
              "  </tbody>\n",
              "</table>\n",
              "<p>17024 rows × 8 columns</p>\n",
              "</div>"
            ],
            "text/plain": [
              "           additional_fare  meter_waiting  ...  calc_duration   distance\n",
              "tripid                                     ...                          \n",
              "189123628             10.5           56.0  ...            840   5.089572\n",
              "189125358             10.5           47.0  ...            780   3.166069\n",
              "189125719             10.5           80.0  ...           1080   6.301436\n",
              "189127273             10.5          271.0  ...            600   0.861405\n",
              "189129552             10.5          182.0  ...           3420  24.191841\n",
              "...                    ...            ...  ...            ...        ...\n",
              "213803193             10.5           93.0  ...            840   2.104054\n",
              "213812756             10.5          428.0  ...           2160  10.861554\n",
              "213813930             10.5            9.0  ...            240   1.044862\n",
              "213815405             10.5          115.0  ...            840   2.877269\n",
              "213817296             10.5           21.0  ...            240   2.114547\n",
              "\n",
              "[17024 rows x 8 columns]"
            ]
          },
          "metadata": {
            "tags": []
          },
          "execution_count": 41
        }
      ]
    },
    {
      "cell_type": "code",
      "metadata": {
        "id": "lGpjsteUksXC",
        "colab_type": "code",
        "colab": {}
      },
      "source": [
        ""
      ],
      "execution_count": 0,
      "outputs": []
    },
    {
      "cell_type": "code",
      "metadata": {
        "id": "8WOc92b6u4Au",
        "colab_type": "code",
        "colab": {}
      },
      "source": [
        "def split_train_val(X_train):\n",
        "  X_train_0 = X_train.loc[X_train['label'] == 0]\n",
        "  X_train_1 = X_train.loc[X_train['label'] == 1]\n",
        "\n",
        "\n",
        "\n",
        "  val_0 = X_train_0.sample(n=300,random_state=100)\n",
        "  train_0 = X_train_0.drop(val_0.index)\n",
        "\n",
        "  val_1 = X_train_1.sample(n=300,random_state=100)\n",
        "  train_1 = X_train_1.drop(val_1.index)\n",
        "\n",
        "  validation_set = pd.concat([val_0,val_1],axis=0)\n",
        "  validation_set = validation_set.sample(frac=1)\n",
        "\n",
        "  train_set = pd.concat([train_0,train_1],axis=0)\n",
        "  train_set = train_set.sample(frac=1)\n",
        "\n",
        "  train_set_y = train_set['label']\n",
        "  train_set_x = train_set.drop('label', axis=1)\n",
        "\n",
        "  validation_set_y = validation_set['label']\n",
        "  validation_set_x = validation_set.drop('label', axis=1)\n",
        "\n",
        "  return train_set_x, train_set_y,validation_set_x, validation_set_y"
      ],
      "execution_count": 0,
      "outputs": []
    },
    {
      "cell_type": "code",
      "metadata": {
        "id": "ErwU-lG-_QDa",
        "colab_type": "code",
        "colab": {}
      },
      "source": [
        "train_set_x, train_set_y,validation_set_x, validation_set_y = split_train_val(X_train)"
      ],
      "execution_count": 0,
      "outputs": []
    },
    {
      "cell_type": "code",
      "metadata": {
        "id": "axwn7Ug9vith",
        "colab_type": "code",
        "colab": {}
      },
      "source": [
        "scaler = MinMaxScaler()\n",
        "scaler.fit(train_set_x)\n",
        "\n",
        "scaled_train_x = scaler.transform(train_set_x)\n",
        "scaled_validation_x = scaler.transform(validation_set_x)"
      ],
      "execution_count": 0,
      "outputs": []
    },
    {
      "cell_type": "code",
      "metadata": {
        "id": "svTIELALBCFg",
        "colab_type": "code",
        "colab": {
          "base_uri": "https://localhost:8080/",
          "height": 33
        },
        "outputId": "4d28704b-bd73-477f-c7d1-ac2d6a5cd609"
      },
      "source": [
        "from keras.models import Sequential\n",
        "from keras.layers import Dense,Dropout"
      ],
      "execution_count": 45,
      "outputs": [
        {
          "output_type": "stream",
          "text": [
            "Using TensorFlow backend.\n"
          ],
          "name": "stderr"
        }
      ]
    },
    {
      "cell_type": "code",
      "metadata": {
        "id": "_YsTa_X9BCMA",
        "colab_type": "code",
        "colab": {}
      },
      "source": [
        "# define the keras model\n",
        "model = Sequential()\n",
        "model.add(Dense(256, input_dim=scaled_train_x.shape[1], activation='relu'))\n",
        "\n",
        "model.add(Dense(128, activation='relu'))\n",
        "\n",
        "model.add(Dense(64, activation='relu'))\n",
        "model.add(Dense(8, activation='relu'))\n",
        "model.add(Dense(1, activation='sigmoid'))"
      ],
      "execution_count": 0,
      "outputs": []
    },
    {
      "cell_type": "code",
      "metadata": {
        "id": "UosqKd7l4VLl",
        "colab_type": "code",
        "colab": {}
      },
      "source": [
        "# compile the keras model\n",
        "model.compile(loss='binary_crossentropy', optimizer='adam', metrics=['accuracy'])"
      ],
      "execution_count": 0,
      "outputs": []
    },
    {
      "cell_type": "code",
      "metadata": {
        "id": "b1qdxw_iaFUv",
        "colab_type": "code",
        "colab": {}
      },
      "source": [
        "weights = {0:1,1:1}"
      ],
      "execution_count": 0,
      "outputs": []
    },
    {
      "cell_type": "code",
      "metadata": {
        "id": "LO6vXYue4ZoR",
        "colab_type": "code",
        "outputId": "3cccf531-b61c-4204-d3e4-911c1e2b3758",
        "colab": {
          "base_uri": "https://localhost:8080/",
          "height": 1000
        }
      },
      "source": [
        "# fit the keras model on the 24\n",
        "history = model.fit(scaled_train_x, train_set_y, epochs=40, batch_size=15,validation_split=0.33,class_weight=weights)"
      ],
      "execution_count": 49,
      "outputs": [
        {
          "output_type": "stream",
          "text": [
            "Train on 11003 samples, validate on 5420 samples\n",
            "Epoch 1/40\n",
            "11003/11003 [==============================] - 2s 184us/step - loss: 0.2864 - accuracy: 0.9149 - val_loss: 0.2558 - val_accuracy: 0.9188\n",
            "Epoch 2/40\n",
            "11003/11003 [==============================] - 2s 146us/step - loss: 0.2543 - accuracy: 0.9167 - val_loss: 0.2293 - val_accuracy: 0.9240\n",
            "Epoch 3/40\n",
            "11003/11003 [==============================] - 2s 145us/step - loss: 0.2325 - accuracy: 0.9263 - val_loss: 0.2249 - val_accuracy: 0.9314\n",
            "Epoch 4/40\n",
            "11003/11003 [==============================] - 2s 144us/step - loss: 0.2072 - accuracy: 0.9378 - val_loss: 0.2271 - val_accuracy: 0.9386\n",
            "Epoch 5/40\n",
            "11003/11003 [==============================] - 2s 147us/step - loss: 0.1937 - accuracy: 0.9428 - val_loss: 0.1740 - val_accuracy: 0.9472\n",
            "Epoch 6/40\n",
            "11003/11003 [==============================] - 2s 146us/step - loss: 0.1802 - accuracy: 0.9463 - val_loss: 0.1591 - val_accuracy: 0.9513\n",
            "Epoch 7/40\n",
            "11003/11003 [==============================] - 2s 144us/step - loss: 0.1735 - accuracy: 0.9473 - val_loss: 0.1557 - val_accuracy: 0.9511\n",
            "Epoch 8/40\n",
            "11003/11003 [==============================] - 2s 145us/step - loss: 0.1642 - accuracy: 0.9502 - val_loss: 0.1579 - val_accuracy: 0.9520\n",
            "Epoch 9/40\n",
            "11003/11003 [==============================] - 2s 145us/step - loss: 0.1595 - accuracy: 0.9520 - val_loss: 0.1500 - val_accuracy: 0.9528\n",
            "Epoch 10/40\n",
            "11003/11003 [==============================] - 2s 144us/step - loss: 0.1512 - accuracy: 0.9547 - val_loss: 0.1712 - val_accuracy: 0.9533\n",
            "Epoch 11/40\n",
            "11003/11003 [==============================] - 2s 145us/step - loss: 0.1504 - accuracy: 0.9543 - val_loss: 0.1495 - val_accuracy: 0.9522\n",
            "Epoch 12/40\n",
            "11003/11003 [==============================] - 2s 145us/step - loss: 0.1462 - accuracy: 0.9566 - val_loss: 0.1408 - val_accuracy: 0.9544\n",
            "Epoch 13/40\n",
            "11003/11003 [==============================] - 2s 145us/step - loss: 0.1490 - accuracy: 0.9545 - val_loss: 0.1399 - val_accuracy: 0.9550\n",
            "Epoch 14/40\n",
            "11003/11003 [==============================] - 2s 144us/step - loss: 0.1492 - accuracy: 0.9546 - val_loss: 0.1470 - val_accuracy: 0.9552\n",
            "Epoch 15/40\n",
            "11003/11003 [==============================] - 2s 146us/step - loss: 0.1491 - accuracy: 0.9544 - val_loss: 0.1476 - val_accuracy: 0.9561\n",
            "Epoch 16/40\n",
            "11003/11003 [==============================] - 2s 151us/step - loss: 0.1405 - accuracy: 0.9577 - val_loss: 0.1450 - val_accuracy: 0.9566\n",
            "Epoch 17/40\n",
            "11003/11003 [==============================] - 2s 151us/step - loss: 0.1402 - accuracy: 0.9559 - val_loss: 0.1351 - val_accuracy: 0.9554\n",
            "Epoch 18/40\n",
            "11003/11003 [==============================] - 2s 151us/step - loss: 0.1398 - accuracy: 0.9586 - val_loss: 0.1352 - val_accuracy: 0.9594\n",
            "Epoch 19/40\n",
            "11003/11003 [==============================] - 2s 150us/step - loss: 0.1425 - accuracy: 0.9573 - val_loss: 0.1506 - val_accuracy: 0.9546\n",
            "Epoch 20/40\n",
            "11003/11003 [==============================] - 2s 144us/step - loss: 0.1400 - accuracy: 0.9590 - val_loss: 0.1343 - val_accuracy: 0.9587\n",
            "Epoch 21/40\n",
            "11003/11003 [==============================] - 2s 145us/step - loss: 0.1376 - accuracy: 0.9596 - val_loss: 0.1453 - val_accuracy: 0.9533\n",
            "Epoch 22/40\n",
            "11003/11003 [==============================] - 2s 147us/step - loss: 0.1394 - accuracy: 0.9578 - val_loss: 0.1447 - val_accuracy: 0.9546\n",
            "Epoch 23/40\n",
            "11003/11003 [==============================] - 2s 145us/step - loss: 0.1352 - accuracy: 0.9580 - val_loss: 0.1440 - val_accuracy: 0.9555\n",
            "Epoch 24/40\n",
            "11003/11003 [==============================] - 2s 145us/step - loss: 0.1398 - accuracy: 0.9575 - val_loss: 0.1365 - val_accuracy: 0.9568\n",
            "Epoch 25/40\n",
            "11003/11003 [==============================] - 2s 146us/step - loss: 0.1335 - accuracy: 0.9588 - val_loss: 0.1371 - val_accuracy: 0.9557\n",
            "Epoch 26/40\n",
            "11003/11003 [==============================] - 2s 145us/step - loss: 0.1364 - accuracy: 0.9578 - val_loss: 0.1367 - val_accuracy: 0.9566\n",
            "Epoch 27/40\n",
            "11003/11003 [==============================] - 2s 145us/step - loss: 0.1333 - accuracy: 0.9596 - val_loss: 0.1395 - val_accuracy: 0.9557\n",
            "Epoch 28/40\n",
            "11003/11003 [==============================] - 2s 145us/step - loss: 0.1377 - accuracy: 0.9589 - val_loss: 0.1362 - val_accuracy: 0.9563\n",
            "Epoch 29/40\n",
            "11003/11003 [==============================] - 2s 147us/step - loss: 0.1343 - accuracy: 0.9595 - val_loss: 0.1344 - val_accuracy: 0.9557\n",
            "Epoch 30/40\n",
            "11003/11003 [==============================] - 2s 143us/step - loss: 0.1340 - accuracy: 0.9596 - val_loss: 0.1357 - val_accuracy: 0.9572\n",
            "Epoch 31/40\n",
            "11003/11003 [==============================] - 2s 145us/step - loss: 0.1342 - accuracy: 0.9591 - val_loss: 0.1347 - val_accuracy: 0.9574\n",
            "Epoch 32/40\n",
            "11003/11003 [==============================] - 2s 147us/step - loss: 0.1330 - accuracy: 0.9596 - val_loss: 0.1373 - val_accuracy: 0.9574\n",
            "Epoch 33/40\n",
            "11003/11003 [==============================] - 2s 146us/step - loss: 0.1323 - accuracy: 0.9596 - val_loss: 0.1397 - val_accuracy: 0.9577\n",
            "Epoch 34/40\n",
            "11003/11003 [==============================] - 2s 146us/step - loss: 0.1323 - accuracy: 0.9580 - val_loss: 0.1346 - val_accuracy: 0.9577\n",
            "Epoch 35/40\n",
            "11003/11003 [==============================] - 2s 144us/step - loss: 0.1330 - accuracy: 0.9586 - val_loss: 0.1515 - val_accuracy: 0.9554\n",
            "Epoch 36/40\n",
            "11003/11003 [==============================] - 2s 145us/step - loss: 0.1302 - accuracy: 0.9599 - val_loss: 0.1325 - val_accuracy: 0.9601\n",
            "Epoch 37/40\n",
            "11003/11003 [==============================] - 2s 145us/step - loss: 0.1321 - accuracy: 0.9590 - val_loss: 0.1341 - val_accuracy: 0.9576\n",
            "Epoch 38/40\n",
            "11003/11003 [==============================] - 2s 145us/step - loss: 0.1310 - accuracy: 0.9601 - val_loss: 0.1339 - val_accuracy: 0.9557\n",
            "Epoch 39/40\n",
            "11003/11003 [==============================] - 2s 148us/step - loss: 0.1318 - accuracy: 0.9592 - val_loss: 0.1349 - val_accuracy: 0.9563\n",
            "Epoch 40/40\n",
            "11003/11003 [==============================] - 2s 143us/step - loss: 0.1319 - accuracy: 0.9586 - val_loss: 0.1312 - val_accuracy: 0.9572\n"
          ],
          "name": "stdout"
        }
      ]
    },
    {
      "cell_type": "code",
      "metadata": {
        "id": "dc7bFiORMTzk",
        "colab_type": "code",
        "colab": {}
      },
      "source": [
        ""
      ],
      "execution_count": 0,
      "outputs": []
    },
    {
      "cell_type": "code",
      "metadata": {
        "id": "_4sxoG5x7aJz",
        "colab_type": "code",
        "outputId": "3e1e9147-fd24-4789-e668-4186e8e22658",
        "colab": {
          "base_uri": "https://localhost:8080/",
          "height": 588
        }
      },
      "source": [
        "print(history.history.keys())\n",
        "# summarize history for accuracy\n",
        "plt.plot(history.history['accuracy'])\n",
        "plt.plot(history.history['val_accuracy'])\n",
        "plt.title('model accuracy')\n",
        "plt.ylabel('accuracy')\n",
        "plt.xlabel('epoch')\n",
        "plt.legend(['train', 'test'], loc='upper left')\n",
        "plt.show()\n",
        "# summarize history for loss\n",
        "plt.plot(history.history['loss'])\n",
        "plt.plot(history.history['val_loss'])\n",
        "plt.title('model loss')\n",
        "plt.ylabel('loss')\n",
        "plt.xlabel('epoch')\n",
        "plt.legend(['train', 'test'], loc='upper left')\n",
        "plt.show()"
      ],
      "execution_count": 50,
      "outputs": [
        {
          "output_type": "stream",
          "text": [
            "dict_keys(['val_loss', 'val_accuracy', 'loss', 'accuracy'])\n"
          ],
          "name": "stdout"
        },
        {
          "output_type": "display_data",
          "data": {
            "image/png": "[encoded data removed]",
            "text/plain": [
              "<Figure size 432x288 with 1 Axes>"
            ]
          },
          "metadata": {
            "tags": [],
            "needs_background": "light"
          }
        },
        {
          "output_type": "display_data",
          "data": {
            "image/png": "[encoded data removed]",
            "text/plain": [
              "<Figure size 432x288 with 1 Axes>"
            ]
          },
          "metadata": {
            "tags": [],
            "needs_background": "light"
          }
        }
      ]
    },
    {
      "cell_type": "code",
      "metadata": {
        "id": "1k8vE8F04nh2",
        "colab_type": "code",
        "colab": {}
      },
      "source": [
        "preds = model.predict(scaled_validation_x )"
      ],
      "execution_count": 0,
      "outputs": []
    },
    {
      "cell_type": "code",
      "metadata": {
        "id": "BLuDyO_05j3k",
        "colab_type": "code",
        "colab": {}
      },
      "source": [
        "class_preds=[]\n",
        "for pred in preds:\n",
        "  if pred>0.56:\n",
        "    class_preds.append(1)\n",
        "  else:\n",
        "    class_preds.append(0)"
      ],
      "execution_count": 0,
      "outputs": []
    },
    {
      "cell_type": "code",
      "metadata": {
        "colab_type": "code",
        "outputId": "58acae8d-db68-498e-cdd6-75eeb79c7f79",
        "id": "2Qpxwxqw5XVQ",
        "colab": {
          "base_uri": "https://localhost:8080/",
          "height": 33
        }
      },
      "source": [
        "\n",
        "from sklearn.metrics import f1_score\n",
        "\n",
        "f1 = f1_score(validation_set_y, class_preds, average='macro')\n",
        "f1"
      ],
      "execution_count": 56,
      "outputs": [
        {
          "output_type": "execute_result",
          "data": {
            "text/plain": [
              "0.8416711356265482"
            ]
          },
          "metadata": {
            "tags": []
          },
          "execution_count": 56
        }
      ]
    },
    {
      "cell_type": "code",
      "metadata": {
        "colab_type": "code",
        "outputId": "faeca9a3-6c80-4b34-82d8-bb8b7421d85b",
        "id": "6x92WVTW5XVi",
        "colab": {
          "base_uri": "https://localhost:8080/",
          "height": 50
        }
      },
      "source": [
        "\n",
        "confusion_mat = confusion_matrix(validation_set_y, class_preds)\n",
        "confusion_mat"
      ],
      "execution_count": 57,
      "outputs": [
        {
          "output_type": "execute_result",
          "data": {
            "text/plain": [
              "array([[210,  90],\n",
              "       [  3, 297]])"
            ]
          },
          "metadata": {
            "tags": []
          },
          "execution_count": 57
        }
      ]
    },
    {
      "cell_type": "code",
      "metadata": {
        "id": "UR2hX7KLgzYf",
        "colab_type": "code",
        "colab": {}
      },
      "source": [
        ""
      ],
      "execution_count": 0,
      "outputs": []
    },
    {
      "cell_type": "code",
      "metadata": {
        "id": "yHUxsmMGo3_A",
        "colab_type": "code",
        "colab": {}
      },
      "source": [
        "#################################################################################################################################################"
      ],
      "execution_count": 0,
      "outputs": []
    },
    {
      "cell_type": "code",
      "metadata": {
        "id": "kuDbQaQpMmG0",
        "colab_type": "code",
        "colab": {}
      },
      "source": [
        "import pickle\n",
        "f = open('/content/drive/My Drive/Ride_Fare/model_3_1_weight_155z_242o','wb')\n",
        "pickle.dump(model,f)"
      ],
      "execution_count": 0,
      "outputs": []
    },
    {
      "cell_type": "code",
      "metadata": {
        "id": "gpXwLJ66VMj9",
        "colab_type": "code",
        "colab": {}
      },
      "source": [
        "############# better\n",
        "import pickle\n",
        "f = open('/content/drive/My Drive/Ride_Fare/model_2_1_weight_160z_243o','wb')\n",
        "pickle.dump(model,f)"
      ],
      "execution_count": 0,
      "outputs": []
    },
    {
      "cell_type": "code",
      "metadata": {
        "id": "1XifPbUntLqX",
        "colab_type": "code",
        "colab": {}
      },
      "source": [
        "############# better\n",
        "import pickle\n",
        "f = open('/content/drive/My Drive/Ride_Fare/model_1_1_weight_210z_298o','wb')\n",
        "pickle.dump(model,f)"
      ],
      "execution_count": 0,
      "outputs": []
    },
    {
      "cell_type": "code",
      "metadata": {
        "id": "A2BNzhIJW4ze",
        "colab_type": "code",
        "colab": {}
      },
      "source": [
        "############# better\n",
        "import pickle\n",
        "f = open('/content/drive/My Drive/Ride_Fare/model_2_1_weight_178z_243o','wb')\n",
        "pickle.dump(model,f)"
      ],
      "execution_count": 0,
      "outputs": []
    },
    {
      "cell_type": "code",
      "metadata": {
        "id": "8P-4s9ORRWZA",
        "colab_type": "code",
        "colab": {}
      },
      "source": [
        "################ open pickle file\n",
        "with open('/content/drive/My Drive/Ride_Fare/model_2_1_weight_160z_243o', \"rb\") as f:\n",
        "    myobj = pickle.load(f)"
      ],
      "execution_count": 0,
      "outputs": []
    },
    {
      "cell_type": "code",
      "metadata": {
        "id": "7flwTrRlV1e0",
        "colab_type": "code",
        "colab": {}
      },
      "source": [
        ""
      ],
      "execution_count": 0,
      "outputs": []
    },
    {
      "cell_type": "code",
      "metadata": {
        "id": "-uFsLHklXaap",
        "colab_type": "code",
        "colab": {}
      },
      "source": [
        "###################################################################################################"
      ],
      "execution_count": 0,
      "outputs": []
    },
    {
      "cell_type": "code",
      "metadata": {
        "id": "aaI_oqqQXag-",
        "colab_type": "code",
        "colab": {}
      },
      "source": [
        ""
      ],
      "execution_count": 0,
      "outputs": []
    },
    {
      "cell_type": "code",
      "metadata": {
        "id": "n9XVBebgCIS5",
        "colab_type": "code",
        "colab": {}
      },
      "source": [
        "test_df = pd.read_csv('/content/drive/My Drive/Ride_Fare/test.csv',index_col=\"tripid\")"
      ],
      "execution_count": 0,
      "outputs": []
    },
    {
      "cell_type": "code",
      "metadata": {
        "id": "E4P28vUNgnhk",
        "colab_type": "code",
        "colab": {
          "base_uri": "https://localhost:8080/",
          "height": 420
        },
        "outputId": "5e11a6d8-548f-4b61-dcaf-6cc871f853cd"
      },
      "source": [
        "test_df"
      ],
      "execution_count": 550,
      "outputs": [
        {
          "output_type": "execute_result",
          "data": {
            "text/html": [
              "<div>\n",
              "<style scoped>\n",
              "    .dataframe tbody tr th:only-of-type {\n",
              "        vertical-align: middle;\n",
              "    }\n",
              "\n",
              "    .dataframe tbody tr th {\n",
              "        vertical-align: top;\n",
              "    }\n",
              "\n",
              "    .dataframe thead th {\n",
              "        text-align: right;\n",
              "    }\n",
              "</style>\n",
              "<table border=\"1\" class=\"dataframe\">\n",
              "  <thead>\n",
              "    <tr style=\"text-align: right;\">\n",
              "      <th></th>\n",
              "      <th>additional_fare</th>\n",
              "      <th>duration</th>\n",
              "      <th>meter_waiting</th>\n",
              "      <th>meter_waiting_fare</th>\n",
              "      <th>meter_waiting_till_pickup</th>\n",
              "      <th>pickup_time</th>\n",
              "      <th>drop_time</th>\n",
              "      <th>pick_lat</th>\n",
              "      <th>pick_lon</th>\n",
              "      <th>drop_lat</th>\n",
              "      <th>drop_lon</th>\n",
              "      <th>fare</th>\n",
              "    </tr>\n",
              "    <tr>\n",
              "      <th>tripid</th>\n",
              "      <th></th>\n",
              "      <th></th>\n",
              "      <th></th>\n",
              "      <th></th>\n",
              "      <th></th>\n",
              "      <th></th>\n",
              "      <th></th>\n",
              "      <th></th>\n",
              "      <th></th>\n",
              "      <th></th>\n",
              "      <th></th>\n",
              "      <th></th>\n",
              "    </tr>\n",
              "  </thead>\n",
              "  <tbody>\n",
              "    <tr>\n",
              "      <th>213284604</th>\n",
              "      <td>10.5</td>\n",
              "      <td>924</td>\n",
              "      <td>42</td>\n",
              "      <td>2.44860</td>\n",
              "      <td>148</td>\n",
              "      <td>2/1/2020 0:38</td>\n",
              "      <td>2/1/2020 0:53</td>\n",
              "      <td>6.83454</td>\n",
              "      <td>79.8750</td>\n",
              "      <td>6.77490</td>\n",
              "      <td>79.8840</td>\n",
              "      <td>289.27</td>\n",
              "    </tr>\n",
              "    <tr>\n",
              "      <th>213286352</th>\n",
              "      <td>10.5</td>\n",
              "      <td>4249</td>\n",
              "      <td>20</td>\n",
              "      <td>0.00000</td>\n",
              "      <td>91</td>\n",
              "      <td>2/1/2020 1:02</td>\n",
              "      <td>2/1/2020 2:13</td>\n",
              "      <td>6.91168</td>\n",
              "      <td>79.8723</td>\n",
              "      <td>6.55091</td>\n",
              "      <td>79.9706</td>\n",
              "      <td>1912.70</td>\n",
              "    </tr>\n",
              "    <tr>\n",
              "      <th>213293973</th>\n",
              "      <td>10.5</td>\n",
              "      <td>1552</td>\n",
              "      <td>255</td>\n",
              "      <td>2.65880</td>\n",
              "      <td>23</td>\n",
              "      <td>2/1/2020 5:02</td>\n",
              "      <td>2/1/2020 5:28</td>\n",
              "      <td>6.92145</td>\n",
              "      <td>79.8478</td>\n",
              "      <td>6.90539</td>\n",
              "      <td>79.8989</td>\n",
              "      <td>394.00</td>\n",
              "    </tr>\n",
              "    <tr>\n",
              "      <th>213294622</th>\n",
              "      <td>10.5</td>\n",
              "      <td>462</td>\n",
              "      <td>16</td>\n",
              "      <td>0.00000</td>\n",
              "      <td>198</td>\n",
              "      <td>2/1/2020 5:30</td>\n",
              "      <td>2/1/2020 5:38</td>\n",
              "      <td>6.77433</td>\n",
              "      <td>79.9416</td>\n",
              "      <td>6.80401</td>\n",
              "      <td>79.9407</td>\n",
              "      <td>154.32</td>\n",
              "    </tr>\n",
              "    <tr>\n",
              "      <th>213298687</th>\n",
              "      <td>10.5</td>\n",
              "      <td>814</td>\n",
              "      <td>392</td>\n",
              "      <td>12.36920</td>\n",
              "      <td>69</td>\n",
              "      <td>2/1/2020 7:00</td>\n",
              "      <td>2/1/2020 7:14</td>\n",
              "      <td>6.97968</td>\n",
              "      <td>79.9130</td>\n",
              "      <td>6.98875</td>\n",
              "      <td>79.8914</td>\n",
              "      <td>147.47</td>\n",
              "    </tr>\n",
              "    <tr>\n",
              "      <th>...</th>\n",
              "      <td>...</td>\n",
              "      <td>...</td>\n",
              "      <td>...</td>\n",
              "      <td>...</td>\n",
              "      <td>...</td>\n",
              "      <td>...</td>\n",
              "      <td>...</td>\n",
              "      <td>...</td>\n",
              "      <td>...</td>\n",
              "      <td>...</td>\n",
              "      <td>...</td>\n",
              "      <td>...</td>\n",
              "    </tr>\n",
              "    <tr>\n",
              "      <th>222856243</th>\n",
              "      <td>10.5</td>\n",
              "      <td>1723</td>\n",
              "      <td>429</td>\n",
              "      <td>24.83332</td>\n",
              "      <td>3</td>\n",
              "      <td>3/16/2020 21:28</td>\n",
              "      <td>3/16/2020 21:56</td>\n",
              "      <td>6.85103</td>\n",
              "      <td>79.9567</td>\n",
              "      <td>6.85588</td>\n",
              "      <td>79.9214</td>\n",
              "      <td>388.48</td>\n",
              "    </tr>\n",
              "    <tr>\n",
              "      <th>222857785</th>\n",
              "      <td>10.5</td>\n",
              "      <td>1378</td>\n",
              "      <td>80</td>\n",
              "      <td>0.00000</td>\n",
              "      <td>125</td>\n",
              "      <td>3/16/2020 21:59</td>\n",
              "      <td>3/16/2020 22:22</td>\n",
              "      <td>6.91293</td>\n",
              "      <td>79.9656</td>\n",
              "      <td>6.92112</td>\n",
              "      <td>79.8980</td>\n",
              "      <td>379.85</td>\n",
              "    </tr>\n",
              "    <tr>\n",
              "      <th>222858416</th>\n",
              "      <td>10.5</td>\n",
              "      <td>418</td>\n",
              "      <td>56</td>\n",
              "      <td>3.28440</td>\n",
              "      <td>93</td>\n",
              "      <td>3/16/2020 22:02</td>\n",
              "      <td>3/16/2020 22:09</td>\n",
              "      <td>6.85718</td>\n",
              "      <td>79.9081</td>\n",
              "      <td>6.83868</td>\n",
              "      <td>79.9083</td>\n",
              "      <td>112.79</td>\n",
              "    </tr>\n",
              "    <tr>\n",
              "      <th>222858691</th>\n",
              "      <td>10.5</td>\n",
              "      <td>1604</td>\n",
              "      <td>548</td>\n",
              "      <td>31.67440</td>\n",
              "      <td>17</td>\n",
              "      <td>3/16/2020 22:07</td>\n",
              "      <td>3/16/2020 22:34</td>\n",
              "      <td>6.91289</td>\n",
              "      <td>79.8846</td>\n",
              "      <td>6.93159</td>\n",
              "      <td>79.9145</td>\n",
              "      <td>248.46</td>\n",
              "    </tr>\n",
              "    <tr>\n",
              "      <th>222860703</th>\n",
              "      <td>10.5</td>\n",
              "      <td>1698</td>\n",
              "      <td>691</td>\n",
              "      <td>32.88820</td>\n",
              "      <td>42</td>\n",
              "      <td>3/16/2020 22:58</td>\n",
              "      <td>3/16/2020 23:26</td>\n",
              "      <td>6.91682</td>\n",
              "      <td>79.9192</td>\n",
              "      <td>6.87020</td>\n",
              "      <td>79.9340</td>\n",
              "      <td>339.63</td>\n",
              "    </tr>\n",
              "  </tbody>\n",
              "</table>\n",
              "<p>8576 rows × 12 columns</p>\n",
              "</div>"
            ],
            "text/plain": [
              "           additional_fare  duration  ...  drop_lon     fare\n",
              "tripid                                ...                   \n",
              "213284604             10.5       924  ...   79.8840   289.27\n",
              "213286352             10.5      4249  ...   79.9706  1912.70\n",
              "213293973             10.5      1552  ...   79.8989   394.00\n",
              "213294622             10.5       462  ...   79.9407   154.32\n",
              "213298687             10.5       814  ...   79.8914   147.47\n",
              "...                    ...       ...  ...       ...      ...\n",
              "222856243             10.5      1723  ...   79.9214   388.48\n",
              "222857785             10.5      1378  ...   79.8980   379.85\n",
              "222858416             10.5       418  ...   79.9083   112.79\n",
              "222858691             10.5      1604  ...   79.9145   248.46\n",
              "222860703             10.5      1698  ...   79.9340   339.63\n",
              "\n",
              "[8576 rows x 12 columns]"
            ]
          },
          "metadata": {
            "tags": []
          },
          "execution_count": 550
        }
      ]
    },
    {
      "cell_type": "code",
      "metadata": {
        "id": "EGfWXVpqtbi5",
        "colab_type": "code",
        "colab": {}
      },
      "source": [
        "num_rows=test_df.shape[0]\n",
        "duration_list = []\n",
        "for i in range(num_rows):\n",
        "  duration = (datetime.strptime(test_df.iloc[i]['drop_time'],'%m/%d/%Y %H:%M')- datetime.strptime(test_df.iloc[i]['pickup_time'],'%m/%d/%Y %H:%M')).seconds\n",
        "  duration_list.append(duration)\n",
        "\n",
        "test_df['calc_duration'] = duration_list\n"
      ],
      "execution_count": 0,
      "outputs": []
    },
    {
      "cell_type": "code",
      "metadata": {
        "colab_type": "code",
        "id": "iFA1UbiHCoTl",
        "colab": {}
      },
      "source": [
        "test_df = test_df.drop('drop_time',axis = 1)\n",
        "test_df = test_df.drop('pickup_time',axis = 1)\n",
        "test_df = test_df.drop('duration',axis = 1)"
      ],
      "execution_count": 0,
      "outputs": []
    },
    {
      "cell_type": "code",
      "metadata": {
        "id": "Fqs7iWggJfHl",
        "colab_type": "code",
        "colab": {}
      },
      "source": [
        ""
      ],
      "execution_count": 0,
      "outputs": []
    },
    {
      "cell_type": "code",
      "metadata": {
        "colab_type": "code",
        "id": "0ZEwKCkQtxyG",
        "colab": {}
      },
      "source": [
        "from numpy import cos, sin, arcsin, sqrt\n",
        "from math import radians\n",
        "\n",
        "def haversine(pick_lon,pick_lat,drop_lon,drop_lat):\n",
        "    lon1 = pick_lon\n",
        "    lat1 = pick_lat\n",
        "    lon2 =drop_lon\n",
        "    lat2 = drop_lat\n",
        "\n",
        "    lon1, lat1, lon2, lat2 = map(radians, [lon1, lat1, lon2, lat2])\n",
        "    dlon = lon2 - lon1 \n",
        "    dlat = lat2 - lat1 \n",
        "    a = sin(dlat/2)**2 + cos(lat1) * cos(lat2) * sin(dlon/2)**2\n",
        "    c = 2 * arcsin(sqrt(a)) \n",
        "    km = 6367 * c\n",
        "\n",
        "    return km"
      ],
      "execution_count": 0,
      "outputs": []
    },
    {
      "cell_type": "code",
      "metadata": {
        "colab_type": "code",
        "id": "eBcgXxnvtxyX",
        "colab": {}
      },
      "source": [
        "########### distance harvesian\n",
        "\n",
        "num_rows=test_df.shape[0]\n",
        "distance_list = []\n",
        "\n",
        "for i in range(num_rows):\n",
        "  pick_lon = test_df.iloc[i]['pick_lon'] \n",
        "  pick_lat = test_df.iloc[i]['pick_lat'] \n",
        "  drop_lon =  test_df.iloc[i]['drop_lon']\n",
        "  drop_lat =  test_df.iloc[i]['drop_lat']\n",
        "  dist = haversine(pick_lon,pick_lat,drop_lon,drop_lat)\n",
        "  distance_list.append(dist)\n",
        "\n",
        "test_df['distance'] = distance_list"
      ],
      "execution_count": 0,
      "outputs": []
    },
    {
      "cell_type": "code",
      "metadata": {
        "id": "Z8HjS0--uEOU",
        "colab_type": "code",
        "colab": {}
      },
      "source": [
        "test_df.drop('pick_lat',axis = 1,inplace=True)\n",
        "test_df.drop('pick_lon',axis = 1,inplace=True)\n",
        "#X_train.drop('drop_lat',axis = 1,inplace=True)\n",
        "#X_train.drop('drop_lon',axis = 1,inplace=True)\n"
      ],
      "execution_count": 0,
      "outputs": []
    },
    {
      "cell_type": "code",
      "metadata": {
        "id": "6To5zP0Bvg2t",
        "colab_type": "code",
        "colab": {
          "base_uri": "https://localhost:8080/",
          "height": 180
        },
        "outputId": "cd4e2786-8492-4258-d5ef-5aad48a4eee6"
      },
      "source": [
        "test_df.isna().any()"
      ],
      "execution_count": 942,
      "outputs": [
        {
          "output_type": "execute_result",
          "data": {
            "text/plain": [
              "additional_fare              False\n",
              "meter_waiting                False\n",
              "meter_waiting_fare           False\n",
              "meter_waiting_till_pickup    False\n",
              "drop_lat                     False\n",
              "drop_lon                     False\n",
              "fare                         False\n",
              "calc_duration                False\n",
              "distance                     False\n",
              "dtype: bool"
            ]
          },
          "metadata": {
            "tags": []
          },
          "execution_count": 942
        }
      ]
    },
    {
      "cell_type": "code",
      "metadata": {
        "id": "_Gf5q8HRX5Kd",
        "colab_type": "code",
        "colab": {}
      },
      "source": [
        "test_df = scaler.transform(test_df)"
      ],
      "execution_count": 0,
      "outputs": []
    },
    {
      "cell_type": "code",
      "metadata": {
        "id": "0iFyK020X5G4",
        "colab_type": "code",
        "colab": {}
      },
      "source": [
        "################################3 predict from model"
      ],
      "execution_count": 0,
      "outputs": []
    },
    {
      "cell_type": "code",
      "metadata": {
        "id": "9ox_lQrYvp4h",
        "colab_type": "code",
        "colab": {}
      },
      "source": [
        "with open('/content/drive/My Drive/Ride_Fare/model_1_1_weight_210z_298o', \"rb\") as f:\n",
        "    model = pickle.load(f)"
      ],
      "execution_count": 0,
      "outputs": []
    },
    {
      "cell_type": "code",
      "metadata": {
        "id": "EHnO52ULD5vi",
        "colab_type": "code",
        "colab": {}
      },
      "source": [
        "### NN\n",
        "test_preds = model.predict(test_df)"
      ],
      "execution_count": 0,
      "outputs": []
    },
    {
      "cell_type": "code",
      "metadata": {
        "id": "UpW-Zv7BEEke",
        "colab_type": "code",
        "outputId": "3fa5ef9b-2bc1-49f7-ef58-06990fb82f04",
        "colab": {
          "base_uri": "https://localhost:8080/",
          "height": 131
        }
      },
      "source": [
        "test_preds"
      ],
      "execution_count": 946,
      "outputs": [
        {
          "output_type": "execute_result",
          "data": {
            "text/plain": [
              "array([[0.99353904],\n",
              "       [0.956662  ],\n",
              "       [0.9892409 ],\n",
              "       ...,\n",
              "       [0.9958167 ],\n",
              "       [0.98450637],\n",
              "       [0.9915622 ]], dtype=float32)"
            ]
          },
          "metadata": {
            "tags": []
          },
          "execution_count": 946
        }
      ]
    },
    {
      "cell_type": "code",
      "metadata": {
        "id": "YbuMgD-2ZYpp",
        "colab_type": "code",
        "outputId": "1d4dd434-f62a-4b6f-d950-696e88d7939e",
        "colab": {
          "base_uri": "https://localhost:8080/",
          "height": 220
        }
      },
      "source": [
        "submission_df = pd.read_csv('/content/drive/My Drive/Ride_Fare/sample_submission.csv',index_col=\"tripid\")\n",
        "submission_df.head()"
      ],
      "execution_count": 947,
      "outputs": [
        {
          "output_type": "execute_result",
          "data": {
            "text/html": [
              "<div>\n",
              "<style scoped>\n",
              "    .dataframe tbody tr th:only-of-type {\n",
              "        vertical-align: middle;\n",
              "    }\n",
              "\n",
              "    .dataframe tbody tr th {\n",
              "        vertical-align: top;\n",
              "    }\n",
              "\n",
              "    .dataframe thead th {\n",
              "        text-align: right;\n",
              "    }\n",
              "</style>\n",
              "<table border=\"1\" class=\"dataframe\">\n",
              "  <thead>\n",
              "    <tr style=\"text-align: right;\">\n",
              "      <th></th>\n",
              "      <th>prediction</th>\n",
              "    </tr>\n",
              "    <tr>\n",
              "      <th>tripid</th>\n",
              "      <th></th>\n",
              "    </tr>\n",
              "  </thead>\n",
              "  <tbody>\n",
              "    <tr>\n",
              "      <th>213284604</th>\n",
              "      <td>1</td>\n",
              "    </tr>\n",
              "    <tr>\n",
              "      <th>213286352</th>\n",
              "      <td>0</td>\n",
              "    </tr>\n",
              "    <tr>\n",
              "      <th>213293973</th>\n",
              "      <td>0</td>\n",
              "    </tr>\n",
              "    <tr>\n",
              "      <th>213294622</th>\n",
              "      <td>1</td>\n",
              "    </tr>\n",
              "    <tr>\n",
              "      <th>213298687</th>\n",
              "      <td>1</td>\n",
              "    </tr>\n",
              "  </tbody>\n",
              "</table>\n",
              "</div>"
            ],
            "text/plain": [
              "           prediction\n",
              "tripid               \n",
              "213284604           1\n",
              "213286352           0\n",
              "213293973           0\n",
              "213294622           1\n",
              "213298687           1"
            ]
          },
          "metadata": {
            "tags": []
          },
          "execution_count": 947
        }
      ]
    },
    {
      "cell_type": "code",
      "metadata": {
        "id": "hzuKGavWKQKw",
        "colab_type": "code",
        "colab": {}
      },
      "source": [
        "class_preds=[]\n",
        "for pred in test_preds:\n",
        "  if pred>0.7:\n",
        "    class_preds.append(1)\n",
        "  else:\n",
        "    class_preds.append(0)"
      ],
      "execution_count": 0,
      "outputs": []
    },
    {
      "cell_type": "code",
      "metadata": {
        "id": "ForOm051Z5tk",
        "colab_type": "code",
        "outputId": "83308fae-dd90-4bcc-bac5-c2ad3a7fcca3",
        "colab": {
          "base_uri": "https://localhost:8080/",
          "height": 220
        }
      },
      "source": [
        "\n",
        "# Make sure we have the rows in the same order\n",
        "\n",
        "\n",
        "# Save predictions to submission data frame\n",
        "submission_df[\"prediction\"] = class_preds\n",
        "\n",
        "submission_df.head()"
      ],
      "execution_count": 949,
      "outputs": [
        {
          "output_type": "execute_result",
          "data": {
            "text/html": [
              "<div>\n",
              "<style scoped>\n",
              "    .dataframe tbody tr th:only-of-type {\n",
              "        vertical-align: middle;\n",
              "    }\n",
              "\n",
              "    .dataframe tbody tr th {\n",
              "        vertical-align: top;\n",
              "    }\n",
              "\n",
              "    .dataframe thead th {\n",
              "        text-align: right;\n",
              "    }\n",
              "</style>\n",
              "<table border=\"1\" class=\"dataframe\">\n",
              "  <thead>\n",
              "    <tr style=\"text-align: right;\">\n",
              "      <th></th>\n",
              "      <th>prediction</th>\n",
              "    </tr>\n",
              "    <tr>\n",
              "      <th>tripid</th>\n",
              "      <th></th>\n",
              "    </tr>\n",
              "  </thead>\n",
              "  <tbody>\n",
              "    <tr>\n",
              "      <th>213284604</th>\n",
              "      <td>1</td>\n",
              "    </tr>\n",
              "    <tr>\n",
              "      <th>213286352</th>\n",
              "      <td>1</td>\n",
              "    </tr>\n",
              "    <tr>\n",
              "      <th>213293973</th>\n",
              "      <td>1</td>\n",
              "    </tr>\n",
              "    <tr>\n",
              "      <th>213294622</th>\n",
              "      <td>1</td>\n",
              "    </tr>\n",
              "    <tr>\n",
              "      <th>213298687</th>\n",
              "      <td>1</td>\n",
              "    </tr>\n",
              "  </tbody>\n",
              "</table>\n",
              "</div>"
            ],
            "text/plain": [
              "           prediction\n",
              "tripid               \n",
              "213284604           1\n",
              "213286352           1\n",
              "213293973           1\n",
              "213294622           1\n",
              "213298687           1"
            ]
          },
          "metadata": {
            "tags": []
          },
          "execution_count": 949
        }
      ]
    },
    {
      "cell_type": "code",
      "metadata": {
        "id": "-y7rcjS8ZbxO",
        "colab_type": "code",
        "colab": {}
      },
      "source": [
        "# 1_1 clas wight, H= all data, L = part\n",
        "submission_df.to_csv('/content/drive/My Drive/Ride_Fare/ride_fare_submission_1_1_weight_210z_298o.csv', index=True)"
      ],
      "execution_count": 0,
      "outputs": []
    },
    {
      "cell_type": "code",
      "metadata": {
        "id": "3qwGTfruC0m9",
        "colab_type": "code",
        "outputId": "846d15c9-d768-4264-8f3d-a7550c6073e1",
        "colab": {
          "base_uri": "https://localhost:8080/",
          "height": 66
        }
      },
      "source": [
        "submission_df['prediction'].value_counts()"
      ],
      "execution_count": 950,
      "outputs": [
        {
          "output_type": "execute_result",
          "data": {
            "text/plain": [
              "1    8148\n",
              "0     428\n",
              "Name: prediction, dtype: int64"
            ]
          },
          "metadata": {
            "tags": []
          },
          "execution_count": 950
        }
      ]
    },
    {
      "cell_type": "code",
      "metadata": {
        "id": "SPmI-M7rXafK",
        "colab_type": "code",
        "colab": {}
      },
      "source": [
        ""
      ],
      "execution_count": 0,
      "outputs": []
    },
    {
      "cell_type": "code",
      "metadata": {
        "id": "TfBTKzw9XadY",
        "colab_type": "code",
        "colab": {}
      },
      "source": [
        ""
      ],
      "execution_count": 0,
      "outputs": []
    },
    {
      "cell_type": "code",
      "metadata": {
        "id": "DXDbHcAfXaYa",
        "colab_type": "code",
        "colab": {}
      },
      "source": [
        ""
      ],
      "execution_count": 0,
      "outputs": []
    }
  ]
}